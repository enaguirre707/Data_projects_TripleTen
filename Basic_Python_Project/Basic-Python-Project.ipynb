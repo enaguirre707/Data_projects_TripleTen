{
 "cells": [
  {
   "cell_type": "markdown",
   "metadata": {},
   "source": [
    "<div style=\"border:solid blue 2px; padding: 20px\">\n",
    "\n",
    "**Overall Summary of the Project**\n",
    "    \n",
    "Hi Erik—nice work! You’ve followed the project outline, explored the data, cleaned column names, corrected the “Ines Prieto” typo, and implemented all required analyses and functions. Your code runs without errors and your outputs make sense.  \n",
    "\n",
    "**What You Did Well**\n",
    "\n",
    "- **Data inspection**: You used `df.head()`, `df.info()`, and printed `df.columns` to understand structure and spot naming issues.  \n",
    "- **Column cleaning**: You renamed every malformed header to a consistent format (snake_case or lowercase), ensuring subsequent code references valid names.  \n",
    "- **Typo correction**: You located and replaced “In??s Prieto” with “Ines Prieto” using `.replace()`—and then verified by inspecting the row.  \n",
    "- **Filtering tasks**: You filtered for Ines Prieto’s works, for movies with IMDb ≥ 9.0, and dropped duplicates correctly.  \n",
    "- **Reusable functions**: You wrapped logic into well-named functions—`get_unique_top_movies`, `get_top_movies_from_decade`, `get_actors_for_title`, and `categorize_imdb_score`—and demonstrated each with tests.  \n",
    "- **Case‐insensitive matching** in `categorize_imdb_score` is a nice touch to handle title capitalization variations.\n",
    "\n",
    "**Minor Suggestions**\n",
    "\n",
    "1. **Avoid redefining built-in names**  \n",
    "   In `get_actors_for_title`, you assign `actor_names` twice. You can simplify by:  \n",
    "   <code>\n",
    "   names = df[(df['title']==title)&(df['role']=='ACTOR')]['name']\n",
    "   return ', '.join(names)\n",
    "   </code>\n",
    "   \n",
    "   This removes the intermediate reassign and uses a single variable.\n",
    "\n",
    "2. **Verify final DataFrame shape**\n",
    "    After renaming columns, a quick df.head() or df.info() would confirm no unexpected whitespace remains in any header.\n",
    "\n",
    "These tweaks will polish your notebook’s style and consistency—but overall, you’ve delivered a complete, correct, and well-structured analysis. Great job!\n",
    "\n",
    "**Status: approved**"
   ]
  },
  {
   "cell_type": "markdown",
   "metadata": {
    "id": "JKIIqy01lgHq"
   },
   "source": [
    "# Project: Data Analysis with Pandas\n",
    "\n",
    "In this project, you will work with a dataset containing information about movies and shows. You will use the pandas library to read, clean, and analyze the data. This project will help you practice working with DataFrames, indexing, and data manipulation using pandas.\n",
    "\n",
    "\n",
    "## Dataset Description\n",
    "\n",
    "The dataset `movies_and_shows.csv` contains information about various movies and shows, including:\n",
    "\n",
    "- **name**: The name of the actor or actress.\n",
    "- **Character**: The character they played.\n",
    "- **r0le**: The role type (e.g., ACTOR).\n",
    "- **TITLE**: The title of the movie or show.\n",
    "- **Type**: Whether it's a MOVIE or SHOW.\n",
    "- **release Year**: The year it was released.\n",
    "- **genres**: A list of genres the movie or show belongs to.\n",
    "- **imdb sc0re**: The IMDb score of the movie or show.\n",
    "- **imdb v0tes**: The number of votes on IMDb.\n",
    "\n",
    "Here's a small sample of the dataset:\n",
    "\n",
    "| name              | Character                         | r0le   | TITLE        |  Type | release Year | genres             | imdb sc0re | imdb v0tes |\n",
    "|-------------------|-----------------------------------|--------|--------------|-------|--------------|--------------------|------------|------------|\n",
    "| Robert De Niro    | Travis Bickle                     | ACTOR  | Taxi Driver  | MOVIE | 1976         | ['drama', 'crime'] | 8.2        | 808582     |\n",
    "| Jodie Foster      | Iris Steensma                     | ACTOR  | Taxi Driver  | MOVIE | 1976         | ['drama', 'crime'] | 8.2        | 808582     |\n",
    "| Albert Brooks     | Tom                               | ACTOR  | Taxi Driver  | MOVIE | 1976         | ['drama', 'crime'] | 8.2        | 808582     |\n",
    "| Harvey Keitel     | Matthew 'Sport' Higgins           | ACTOR  | Taxi Driver  | MOVIE | 1976         | ['drama', 'crime'] | 8.2        | 808582     |\n",
    "| Cybill Shepherd   | Betsy                             | ACTOR  | Taxi Driver  | MOVIE | 1976         | ['drama', 'crime'] | 8.2        | 808582     |\n",
    "\n"
   ]
  },
  {
   "cell_type": "markdown",
   "metadata": {
    "id": "csnpkGaRlkVj"
   },
   "source": [
    "## Getting Started\n",
    "\n",
    "Let's begin by setting up our environment.\n",
    "\n",
    "### Importing Libraries\n",
    "\n",
    "First, we need to import the necessary libraries.\n",
    "\n",
    "**Instructions:**\n",
    "\n",
    "- Import the `pandas` library, which we will use for data manipulation."
   ]
  },
  {
   "cell_type": "code",
   "execution_count": null,
   "metadata": {
    "id": "xVSzQhyjlg2F",
    "trusted": true
   },
   "outputs": [],
   "source": [
    "import pandas as pd#Import the pandas library as 'pd'\n"
   ]
  },
  {
   "cell_type": "markdown",
   "metadata": {
    "id": "C2Ks4kU9lsH7"
   },
   "source": [
    "We will load the dataset into a pandas DataFrame to begin our analysis.\n",
    "\n",
    "**Instructions:**\n",
    "\n",
    "- Read the `movies_and_shows.csv` file into a DataFrame. It is in the /datasets directory so the full path to include in the read_csv method will be \"/datasets/movies_and_shows.csv\"\n",
    "- Display the first few rows of the DataFrame to get an initial look at the data.\n",
    "\n",
    "**Hints:**\n",
    "\n",
    "- Use `pd.read_csv()` to read the CSV file and store it in a variable called \"df\".\n",
    "- Use the `.head()` method to display the first few rows."
   ]
  },
  {
   "cell_type": "code",
   "execution_count": null,
   "metadata": {
    "id": "afwv-RRIlwcF",
    "trusted": true
   },
   "outputs": [],
   "source": [
    "df = pd.read_csv('/datasets/movies_and_shows.csv')\n",
    "df[df.columns[:4]].head()# Read the dataset into a DataFrame\n",
    "\n"
   ]
  },
  {
   "cell_type": "code",
   "execution_count": null,
   "metadata": {
    "id": "iHI5NhB6mYel",
    "trusted": true
   },
   "outputs": [],
   "source": [
    "df.head(4)# Display the first few rows of the DataFrame"
   ]
  },
  {
   "cell_type": "markdown",
   "metadata": {
    "id": "otEIbWKZmmaT"
   },
   "source": [
    "Understanding the structure and content of your data is crucial before performing any analysis.\n",
    "\n",
    "**Instructions:**\n",
    "\n",
    "- Use the `.info()` method to get information about the DataFrame.\n",
    "- Identify any issues with the Column names."
   ]
  },
  {
   "cell_type": "code",
   "execution_count": null,
   "metadata": {
    "id": "v7Oa8Zuzmjo1",
    "trusted": true
   },
   "outputs": [],
   "source": [
    "print(df.info())\n",
    "print('\\nColumn names:')\n",
    "print(df.columns)\n",
    "# Get information about the DataFrame and print the column names\n"
   ]
  },
  {
   "cell_type": "markdown",
   "metadata": {
    "id": "_rsPAidUm3lS"
   },
   "source": [
    "## Task 1: Data Cleaning\n",
    "\n",
    "Let's clean the data to fix issues with the column names\n",
    "\n",
    "**Instructions:**\n",
    "- Rename the columns to correct any errors and make them consistent.\n",
    "\n",
    "**Hints:**\n",
    "\n",
    "- Use the `.rename()` method to rename columns.\n",
    "- Pass a dictionary to the `columns` parameter of `.rename()`, where the keys are the old column names and the values are the new names.\n",
    "- Remove unnecessary whitespace from the column names."
   ]
  },
  {
   "cell_type": "code",
   "execution_count": null,
   "metadata": {
    "id": "FkIUzgKPm4Rz",
    "trusted": true
   },
   "outputs": [],
   "source": [
    "df = df.rename(columns={\n",
    "    '   name': 'name',\n",
    "    'Character': 'character',\n",
    "    'r0le': 'role',\n",
    "    'TITLE': 'title',\n",
    "    '  Type': 'type',\n",
    "    'release Year': 'release year',\n",
    "    'imdb sc0re': 'imdb score',\n",
    "    'imdb v0tes': 'imdb votes'\n",
    "})# Rename columns to make them consistent and correct errors\n"
   ]
  },
  {
   "cell_type": "code",
   "execution_count": null,
   "metadata": {
    "id": "cHi0aQgunByj",
    "trusted": true
   },
   "outputs": [],
   "source": [
    "print(df.columns)# Print the updated column names to confirm changes\n"
   ]
  },
  {
   "cell_type": "markdown",
   "metadata": {
    "id": "z6ShKY5boqj1"
   },
   "source": [
    "## Task 2: Correcting a Misspelled Name in the Data\n",
    "\n",
    "While analyzing the dataset, you notice that some names are misspelled or contain special characters due to encoding issues. Accurate data is essential for reporting and recommendations, so let’s correct one of these entries.\n",
    "\n",
    "### Instructions\n",
    "\n",
    "1. **Locate the Row with the Incorrect Name**:\n",
    "   - Use `.loc[]` to retrieve the row where `name` is `\"In??s Prieto\"`.\n",
    "   - You can locate a row based on the index (85576) and column name called \"name\".\n",
    "   - Print the row to verify that you have the correct one.\n",
    "\n",
    "\n",
    "2. **Correct the Name**:\n",
    "   - Using `.loc[]`, update the `name` column for this row to \"Ines Prieto.\"\n",
    "   \n",
    "3. **Verify the Correction**:\n",
    "   - Print the row again to ensure that the name has been corrected."
   ]
  },
  {
   "cell_type": "code",
   "execution_count": null,
   "metadata": {
    "id": "JeEDNCYsoo0z",
    "scrolled": true,
    "trusted": true
   },
   "outputs": [],
   "source": [
    "df.loc[df['name'] == 'In??s Prieto']# Locate the row with the incorrect name\n"
   ]
  },
  {
   "cell_type": "code",
   "execution_count": null,
   "metadata": {
    "id": "US2yweQ3RFTE",
    "trusted": true
   },
   "outputs": [],
   "source": [
    "df['name'] = df['name'].replace('In??s Prieto', 'Ines Prieto')# Correct the name\n"
   ]
  },
  {
   "cell_type": "code",
   "execution_count": null,
   "metadata": {
    "id": "IgEGbcNVqLnU",
    "trusted": true
   },
   "outputs": [],
   "source": [
    "df.loc[85576, :]# Verify the correction\n"
   ]
  },
  {
   "cell_type": "markdown",
   "metadata": {
    "id": "vLIvSF0hsYpE"
   },
   "source": [
    "## Task 3: Finding All Movies and Shows Featuring Ines Prieto\n",
    "\n",
    "Now that we've corrected the spelling of \"Ines Prieto\" in the dataset, let's find all the TV shows and movies she has acted in. This type of filtering is helpful for generating actor-specific profiles or building a list of their works.\n",
    "\n",
    "### Instructions\n",
    "\n",
    "1. **Filter by Actor’s Name**:\n",
    "   - Use a filtering condition to select rows where the `name` column is equal to `\"Ines Prieto\"`.\n",
    "   \n",
    "2. **Display Relevant Columns**:\n",
    "   - From each matching row, retrieve only the `title`, `release_year`, `imdb_score`, and `genres` columns for a clear, concise output.\n",
    "\n",
    "**Hint:**\n",
    "\n",
    "To filter rows based on a specific value in a column, use a condition inside df[ ... ]. In this case, check if the name column equals \"Ines Prieto\". Then, select only the columns you need (like title, release_year, imdb_score, and genres) by specifying them in double brackets [ [ ... ] ].\n"
   ]
  },
  {
   "cell_type": "code",
   "execution_count": null,
   "metadata": {
    "id": "eksJ9sXXr1UU",
    "trusted": true
   },
   "outputs": [],
   "source": [
    "df[df['name'] == \"Ines Prieto\"]# Filter rows where the actor's name is \"Ines Prieto\" and display the title, release_year, genres, and imdb_score"
   ]
  },
  {
   "cell_type": "code",
   "execution_count": null,
   "metadata": {
    "id": "vYrm6MhERlZc",
    "trusted": true
   },
   "outputs": [],
   "source": [
    "df[df['name'] == \"Ines Prieto\"][['title', 'release year', 'imdb score', 'genres']] # Display the result\n"
   ]
  },
  {
   "cell_type": "markdown",
   "metadata": {
    "id": "HtmXfQHHutNk"
   },
   "source": [
    "## Task 4: Finding Highly Rated Movies\n",
    "\n",
    "We want to identify movies with an IMDb rating of at least **9.0**. This list could be helpful for curating a \"Top Movies\" section based on high ratings.\n",
    "\n",
    "### Instructions\n",
    "\n",
    "1. **Filter for High IMDb Scores**:\n",
    "   - First, filter the DataFrame to include only rows where the `imdb_score` is greater than 9.0.\n",
    "\n",
    "2. **Extract the Titles**:\n",
    "   - From this filtered DataFrame, select only the `title` column, which contains the names of the movies.\n",
    "\n",
    "3. **Get Unique Titles**:\n",
    "   - Convert the resulting list of titles to a set to remove any duplicate titles. Using `set()` will keep only unique movie names.\n",
    "\n",
    "   - *Example*: `unique_titles = set(high_score_titles)`\n",
    "\n",
    "4. **Print the Unique Titles**:\n",
    "   - Display the final set of unique movie titles to see the list of top-rated movies.\n"
   ]
  },
  {
   "cell_type": "code",
   "execution_count": null,
   "metadata": {
    "id": "B_smQ3cAtAXk",
    "scrolled": true,
    "trusted": true
   },
   "outputs": [],
   "source": [
    "#high_rated = df[(df['imdb score'] >= 9.0) & (df['type'].str.contains('movie', case=False, na=False))]# Filter for movies with an IMDb score above 9.0\n",
    "high_rated_movies = df[(df['imdb score'] >= 9) & (df['type'].str.contains('movie', case=False))]\n",
    "high_rated_unique = high_rated_movies.drop_duplicates(subset=['title', 'imdb score', 'type', 'release year'])\n",
    "#high_rated.drop_duplicates(subset=['title', 'imdb score', 'type', 'release year'])\n",
    "\n",
    "#unique_titles = set(high_rated['title'])#high_rated['title']# Extract the 'title' column from the filtered DataFrame\n",
    "\n",
    "columns_to_show = ['title', 'imdb score', 'type', 'release year']\n",
    "final_output = high_rated_unique[columns_to_show]\n",
    "\n",
    "print(\"Unique movies with high ratings:\")\n",
    "print()\n",
    "print(final_output)#print(high_rated[['title', 'imdb score', 'type', 'release year']])\n",
    "\n",
    "\n",
    "\n",
    "\n",
    "\n",
    "\n"
   ]
  },
  {
   "cell_type": "markdown",
   "metadata": {
    "id": "PrlORh6mwoZs"
   },
   "source": [
    "## Task 5: Creating a Function to Find Unique Top-Rated Movies\n",
    "\n",
    "In this task, we’ll create a function to find unique movies with an IMDb score above a certain threshold that the user provides.\n",
    "\n",
    "### Instructions\n",
    "\n",
    "1. **Define the Function**:\n",
    "   - Start by creating a function called `get_unique_top_movies` that takes one parameter, `min_score`.\n",
    "\n",
    "2. **Filter the Data**:\n",
    "   - Inside the function, create a new variable (e.g., `high_score_df`) that stores rows where the `imdb_score` is greater than or equal to `min_score`.\n",
    "\n",
    "3. **Extract Movie Titles**:\n",
    "   - In a new variable (e.g., `high_score_titles`), select the `title` column from the filtered DataFrame.\n",
    "\n",
    "4. **Remove Duplicate Titles**:\n",
    "   - Convert `high_score_titles` to a set using `set(high_score_titles)` to automatically remove duplicates, ensuring each title appears only once.\n",
    "\n",
    "5. **Return the Unique Titles**:\n",
    "   - Make sure the function returns the `unique_titles` set.\n"
   ]
  },
  {
   "cell_type": "code",
   "execution_count": null,
   "metadata": {
    "id": "pamLDfY9vErT",
    "trusted": true
   },
   "outputs": [],
   "source": [
    "def get_unique_top_movies(min_score): # Define the function\n",
    "        \n",
    "        high_score_df = df[(df['imdb score'] >= min_score) & (df['type'].str.contains('movie', case=False))]# Filter for movies with IMDb score above min_score\n",
    "\n",
    "        high_score_titles = high_score_df['title']# Extract the 'title' column\n",
    "\n",
    "\n",
    "        unique_titles = set(high_score_titles)# Remove duplicate titles\n",
    "\n",
    "\n",
    "        return unique_titles# Return unique titles\n",
    "    \n",
    "    \n",
    "\n"
   ]
  },
  {
   "cell_type": "code",
   "execution_count": null,
   "metadata": {
    "id": "kUUJMTWgww1E",
    "trusted": true
   },
   "outputs": [],
   "source": [
    "# Test the function\n",
    "print(get_unique_top_movies(9.0))"
   ]
  },
  {
   "cell_type": "markdown",
   "metadata": {
    "id": "YvWTywMQxynt"
   },
   "source": [
    "## Task 6: Creating a Function to Find Top Movies from a Specific Decade\n",
    "\n",
    "Let’s create a function to retrieve movies from a particular decade with high IMDb ratings. This function can be useful for generating lists of top-rated movies from different time periods.\n",
    "\n",
    "### Instructions\n",
    "\n",
    "1. **Define the Function**:\n",
    "   - Create a function called `get_top_movies_from_decade` that accepts `decade_start` and `min_score` as parameters.\n",
    "\n",
    "2. **Filter by Decade**:\n",
    "   - Inside the function, filter the DataFrame to include only movies where `release_year` is within the specified decade.\n",
    "   - *Hint*: You can achieve this by checking that `release_year` is between `decade_start` and `decade_start + 9`\n",
    "\n",
    "3. **Filter by IMDb Score**:\n",
    "   - Further filter this subset to include only movies where `imdb_score` is greater than or equal to `min_score`.\n",
    "\n",
    "4. **Extract Movie Titles**:\n",
    "   - From the resulting DataFrame, select the `title` column and remove duplicates using set().\n",
    "\n",
    "5. **Return the List of Titles**:\n",
    "   - Return the set of the best movies from that decade.\n",
    "\n",
    "By completing this task, you’ll have a function that returns unique, top-rated movies from a specified decade. This is useful for highlighting standout movies from different eras, perfect for “Best of the Decade” features!"
   ]
  },
  {
   "cell_type": "code",
   "execution_count": null,
   "metadata": {
    "id": "H6pJpElgxxtT",
    "trusted": true
   },
   "outputs": [],
   "source": [
    "# Define the function\n",
    "def get_top_movies_from_decade(decade_start, min_score):\n",
    "        decade_movies = df[(df['release year'] >= decade_start) & (df['release year'] <= decade_start + 9)]# Filter for movies released within the decade\n",
    "        \n",
    "        top_decade_movies = decade_movies[decade_movies['imdb score'] >= min_score]# Further filter by IMDb score\n",
    "        \n",
    "        unique_titles = set(top_decade_movies['title'])# Extract and remove duplicate titles\n",
    "        \n",
    "        return unique_titles# Return unique titles\n"
   ]
  },
  {
   "cell_type": "code",
   "execution_count": null,
   "metadata": {
    "id": "r_q7imodyIbz",
    "scrolled": false,
    "trusted": true
   },
   "outputs": [],
   "source": [
    "# Test the function\n",
    "print(get_top_movies_from_decade(1990, 8.5))"
   ]
  },
  {
   "cell_type": "markdown",
   "metadata": {
    "id": "5olBh5JRzYgN"
   },
   "source": [
    "\n",
    "## Task 7: Creating a Function to List All Actors in a Given Title\n",
    "\n",
    "Imagine you want to list all the actors in a specific movie or show. Let’s create a function that takes a `title` as input and returns the names of all actors in that title, combined into a single string.\n",
    "\n",
    "\n",
    "### Instructions\n",
    "\n",
    "1. **Define the Function**:\n",
    "   - Create a function called `get_actors_for_title` that accepts one parameter, `title`.\n",
    "   \n",
    "2. **Filter by Title and Role**:\n",
    "   - Inside the function, filter the DataFrame to select rows where the `title` column matches the provided `title` parameter and the `role` column is `\"ACTOR\"` (to ensure you only retrieve actors).\n",
    "\n",
    "3. **Extract Actor Names**:\n",
    "   - From this filtered DataFrame, select only the `name` column to get the actor names.\n",
    "\n",
    "4. **Combine Names into a Single String**:\n",
    "   - Use `', '.join()` to combine the list of actor names into a single string, with each name separated by a comma.\n",
    "\n",
    "5. **Return the Result**:\n",
    "   - Return the resulting string of actor names.\n",
    "\n",
    "\n",
    "This function will allow you to retrieve and format a list of actors for any movie or show title, which is useful for creating cast lists or displaying actors for specific titles."
   ]
  },
  {
   "cell_type": "code",
   "execution_count": null,
   "metadata": {
    "id": "hSCm5mYRziCD",
    "trusted": true
   },
   "outputs": [],
   "source": [
    "# Define the function\n",
    "def get_actors_for_title(title):\n",
    "    actor_names = df[(df['title'] == title) & (df['role'] == 'ACTOR')]# Filter for rows with the specified title and role as 'ACTOR'\n",
    "\n",
    "\n",
    "    names = actor_names['name']# Extract the 'name' column for actor names\n",
    "\n",
    "\n",
    "    actor_names = ', '.join(actor_names['name'])# Combine names into a single string\n",
    "\n",
    "\n",
    "    return '\\n'.join(names)# Return the result\n",
    "\n"
   ]
  },
  {
   "cell_type": "code",
   "execution_count": null,
   "metadata": {
    "id": "BCnnBFUdzj20",
    "trusted": true
   },
   "outputs": [],
   "source": [
    "# Test the function\n",
    "print(get_actors_for_title(\"Taxi Driver\"))"
   ]
  },
  {
   "cell_type": "markdown",
   "metadata": {
    "id": "Iu7Zzk7M0o_9"
   },
   "source": [
    "## Task 8: Creating a Function to Categorize Movies by IMDb Score\n",
    "\n",
    "Let’s categorize movies and shows based on their IMDb scores to provide a quick evaluation of their popularity or quality. We’ll create a function that takes in a `title` and returns a rating category based on the movie or show’s IMDb score.\n",
    "\n",
    "### Rating Categories\n",
    "\n",
    "- **Excellent**: IMDb score of 9.0 or higher\n",
    "- **Good**: IMDb score between 7.0 and 8.9\n",
    "- **Average**: IMDb score between 5.0 and 6.9\n",
    "- **Low**: IMDb score below 5.0\n",
    "\n",
    "### Instructions\n",
    "\n",
    "1. **Define the Function**:\n",
    "   - Create a function called `categorize_imdb_score` that accepts one parameter, `title`.\n",
    "\n",
    "2. **Filter by Title**:\n",
    "   - Inside the function, filter the DataFrame to find the row where `title` matches the given title.\n",
    "\n",
    "3. **Retrieve IMDb Score**:\n",
    "   - If the title exists, retrieve the `imdb_score` for that movie or show.\n",
    "   - If the title is not found, return `\"Title not found\"`.\n",
    "\n",
    "4. **Categorize Score with `if-else`**:\n",
    "   - Use `if-elif-else` statements to evaluate the `imdb_score` and return one of the rating categories based on the ranges provided.\n",
    "\n",
    "5. **Return the Category**:\n",
    "   - Return the appropriate category based on the score.\n",
    "\n",
    "This function allows you to quickly categorize movies or shows by their IMDb score, which could be helpful for creating rating tags or recommending top-rated content."
   ]
  },
  {
   "cell_type": "code",
   "execution_count": null,
   "metadata": {
    "id": "ZfrrGY7h0zYT",
    "trusted": true
   },
   "outputs": [],
   "source": [
    "# Define the function\n",
    "def categorize_imdb_score(title):\n",
    "    title_row = df[df['title'].str.lower()==title.lower()]# Filter for the row with the specified title\n",
    "\n",
    "    if len(title_row) == 0:\n",
    "                   return 'Title not found'# Check if title exists\n",
    "\n",
    "\n",
    "    score = title_row['imdb score'].iloc[0]# Retrieve the IMDb score for the movie\n",
    "\n",
    "\n",
    "    if score >= 9.0:\n",
    "                   return 'Excellent'\n",
    "                   \n",
    "    elif score >= 7.0:\n",
    "                   return 'Good'\n",
    "                   \n",
    "    elif score >= 5.0:\n",
    "                   return 'Average'\n",
    "                   \n",
    "    else:\n",
    "                   return 'Low'# Categorize score using if-else and return the ranking accordingly\n"
   ]
  },
  {
   "cell_type": "code",
   "execution_count": null,
   "metadata": {
    "id": "4wqHjcFZ01Qk",
    "trusted": true
   },
   "outputs": [],
   "source": [
    "# Test the function\n",
    "print(categorize_imdb_score(\"Taxi Driver\"))"
   ]
  },
  {
   "cell_type": "code",
   "execution_count": null,
   "metadata": {
    "trusted": true
   },
   "outputs": [],
   "source": []
  }
 ],
 "metadata": {
  "ExecuteTimeLog": [
   {
    "duration": 315,
    "start_time": "2025-04-21T16:33:46.266Z"
   },
   {
    "duration": 179,
    "start_time": "2025-04-21T16:39:51.160Z"
   },
   {
    "duration": 2,
    "start_time": "2025-04-21T16:40:03.077Z"
   },
   {
    "duration": 141,
    "start_time": "2025-04-21T16:40:07.837Z"
   },
   {
    "duration": 25,
    "start_time": "2025-04-21T16:40:10.273Z"
   },
   {
    "duration": 3,
    "start_time": "2025-04-21T16:41:50.969Z"
   },
   {
    "duration": 3,
    "start_time": "2025-04-21T16:42:13.237Z"
   },
   {
    "duration": 121,
    "start_time": "2025-04-21T16:49:49.612Z"
   },
   {
    "duration": 122,
    "start_time": "2025-04-21T16:51:16.693Z"
   },
   {
    "duration": 28,
    "start_time": "2025-04-21T16:52:51.016Z"
   },
   {
    "duration": 9,
    "start_time": "2025-04-21T16:55:08.857Z"
   },
   {
    "duration": 3,
    "start_time": "2025-04-21T16:56:49.406Z"
   },
   {
    "duration": 25,
    "start_time": "2025-04-21T16:56:55.336Z"
   },
   {
    "duration": 24,
    "start_time": "2025-04-21T16:58:27.930Z"
   },
   {
    "duration": 26,
    "start_time": "2025-04-21T16:59:16.223Z"
   },
   {
    "duration": 23,
    "start_time": "2025-04-21T17:00:27.409Z"
   },
   {
    "duration": 23,
    "start_time": "2025-04-21T17:01:34.704Z"
   },
   {
    "duration": 4,
    "start_time": "2025-04-21T17:10:27.543Z"
   },
   {
    "duration": 2,
    "start_time": "2025-04-21T17:12:40.887Z"
   },
   {
    "duration": 7,
    "start_time": "2025-04-21T17:13:08.948Z"
   },
   {
    "duration": 3,
    "start_time": "2025-04-21T17:13:13.993Z"
   },
   {
    "duration": 9,
    "start_time": "2025-04-21T17:13:17.527Z"
   },
   {
    "duration": 3,
    "start_time": "2025-04-21T17:13:18.941Z"
   },
   {
    "duration": 6,
    "start_time": "2025-04-21T17:15:27.865Z"
   },
   {
    "duration": 3,
    "start_time": "2025-04-21T17:15:30.044Z"
   },
   {
    "duration": 7,
    "start_time": "2025-04-21T17:19:05.669Z"
   },
   {
    "duration": 3,
    "start_time": "2025-04-21T17:19:08.221Z"
   },
   {
    "duration": 7,
    "start_time": "2025-04-21T17:19:32.488Z"
   },
   {
    "duration": 6,
    "start_time": "2025-04-21T17:19:37.055Z"
   },
   {
    "duration": 3,
    "start_time": "2025-04-21T17:19:38.834Z"
   },
   {
    "duration": 280,
    "start_time": "2025-04-22T17:57:34.600Z"
   },
   {
    "duration": 284,
    "start_time": "2025-04-22T17:57:34.882Z"
   },
   {
    "duration": 10,
    "start_time": "2025-04-22T17:57:35.167Z"
   },
   {
    "duration": 34,
    "start_time": "2025-04-22T17:57:35.179Z"
   },
   {
    "duration": 7,
    "start_time": "2025-04-22T17:57:35.215Z"
   },
   {
    "duration": 3,
    "start_time": "2025-04-22T17:57:35.225Z"
   },
   {
    "duration": 3,
    "start_time": "2025-04-22T17:57:35.229Z"
   },
   {
    "duration": 3,
    "start_time": "2025-04-22T17:57:35.234Z"
   },
   {
    "duration": 3,
    "start_time": "2025-04-22T17:57:35.239Z"
   },
   {
    "duration": 2,
    "start_time": "2025-04-22T17:57:35.244Z"
   },
   {
    "duration": 3,
    "start_time": "2025-04-22T17:57:35.248Z"
   },
   {
    "duration": 3,
    "start_time": "2025-04-22T17:57:35.252Z"
   },
   {
    "duration": 4,
    "start_time": "2025-04-22T17:57:35.257Z"
   },
   {
    "duration": 0,
    "start_time": "2025-04-22T17:57:35.263Z"
   },
   {
    "duration": 0,
    "start_time": "2025-04-22T17:57:35.264Z"
   },
   {
    "duration": 0,
    "start_time": "2025-04-22T17:57:35.265Z"
   },
   {
    "duration": 0,
    "start_time": "2025-04-22T17:57:35.267Z"
   },
   {
    "duration": 0,
    "start_time": "2025-04-22T17:57:35.311Z"
   },
   {
    "duration": 0,
    "start_time": "2025-04-22T17:57:35.312Z"
   },
   {
    "duration": 0,
    "start_time": "2025-04-22T17:57:35.313Z"
   },
   {
    "duration": 5,
    "start_time": "2025-04-22T18:00:07.642Z"
   },
   {
    "duration": 5,
    "start_time": "2025-04-22T18:00:15.223Z"
   },
   {
    "duration": 5,
    "start_time": "2025-04-22T18:00:17.071Z"
   },
   {
    "duration": 553,
    "start_time": "2025-04-22T18:01:33.790Z"
   },
   {
    "duration": 3,
    "start_time": "2025-04-22T18:01:54.671Z"
   },
   {
    "duration": 5,
    "start_time": "2025-04-22T18:03:58.881Z"
   },
   {
    "duration": 10,
    "start_time": "2025-04-22T18:04:34.564Z"
   },
   {
    "duration": 8,
    "start_time": "2025-04-22T18:04:41.075Z"
   },
   {
    "duration": 7,
    "start_time": "2025-04-22T18:04:48.413Z"
   },
   {
    "duration": 14,
    "start_time": "2025-04-22T18:05:07.778Z"
   },
   {
    "duration": 12,
    "start_time": "2025-04-22T18:08:17.857Z"
   },
   {
    "duration": 88,
    "start_time": "2025-04-22T18:09:22.883Z"
   },
   {
    "duration": 5,
    "start_time": "2025-04-22T18:09:41.858Z"
   },
   {
    "duration": 5,
    "start_time": "2025-04-22T18:09:45.834Z"
   },
   {
    "duration": 5,
    "start_time": "2025-04-22T18:09:55.482Z"
   },
   {
    "duration": 5,
    "start_time": "2025-04-22T18:10:17.661Z"
   },
   {
    "duration": 5,
    "start_time": "2025-04-22T18:10:40.388Z"
   },
   {
    "duration": 5,
    "start_time": "2025-04-22T18:11:09.670Z"
   },
   {
    "duration": 4,
    "start_time": "2025-04-22T18:11:11.785Z"
   },
   {
    "duration": 5,
    "start_time": "2025-04-22T18:12:15.287Z"
   },
   {
    "duration": 119,
    "start_time": "2025-04-22T18:12:37.878Z"
   },
   {
    "duration": 120,
    "start_time": "2025-04-22T18:12:45.249Z"
   },
   {
    "duration": 124,
    "start_time": "2025-04-22T18:13:17.915Z"
   },
   {
    "duration": 116,
    "start_time": "2025-04-22T18:13:42.598Z"
   },
   {
    "duration": 119,
    "start_time": "2025-04-22T18:13:52.322Z"
   },
   {
    "duration": 207,
    "start_time": "2025-04-22T18:14:03.513Z"
   },
   {
    "duration": 129,
    "start_time": "2025-04-22T18:14:18.433Z"
   },
   {
    "duration": 304,
    "start_time": "2025-04-22T18:14:58.866Z"
   },
   {
    "duration": 80,
    "start_time": "2025-04-22T18:15:39.367Z"
   },
   {
    "duration": 198,
    "start_time": "2025-04-22T18:16:35.280Z"
   },
   {
    "duration": 286,
    "start_time": "2025-04-22T18:16:56.393Z"
   },
   {
    "duration": 138,
    "start_time": "2025-04-22T18:16:56.682Z"
   },
   {
    "duration": 10,
    "start_time": "2025-04-22T18:16:56.822Z"
   },
   {
    "duration": 22,
    "start_time": "2025-04-22T18:16:56.834Z"
   },
   {
    "duration": 7,
    "start_time": "2025-04-22T18:16:56.858Z"
   },
   {
    "duration": 4,
    "start_time": "2025-04-22T18:16:56.866Z"
   },
   {
    "duration": 42,
    "start_time": "2025-04-22T18:16:56.871Z"
   },
   {
    "duration": 5,
    "start_time": "2025-04-22T18:16:56.914Z"
   },
   {
    "duration": 5,
    "start_time": "2025-04-22T18:16:56.920Z"
   },
   {
    "duration": 2,
    "start_time": "2025-04-22T18:16:56.927Z"
   },
   {
    "duration": 3,
    "start_time": "2025-04-22T18:16:56.931Z"
   },
   {
    "duration": 4,
    "start_time": "2025-04-22T18:16:56.936Z"
   },
   {
    "duration": 4,
    "start_time": "2025-04-22T18:16:56.941Z"
   },
   {
    "duration": 0,
    "start_time": "2025-04-22T18:16:56.947Z"
   },
   {
    "duration": 0,
    "start_time": "2025-04-22T18:16:56.951Z"
   },
   {
    "duration": 0,
    "start_time": "2025-04-22T18:16:56.952Z"
   },
   {
    "duration": 0,
    "start_time": "2025-04-22T18:16:56.953Z"
   },
   {
    "duration": 0,
    "start_time": "2025-04-22T18:16:56.954Z"
   },
   {
    "duration": 0,
    "start_time": "2025-04-22T18:16:56.955Z"
   },
   {
    "duration": 0,
    "start_time": "2025-04-22T18:16:56.956Z"
   },
   {
    "duration": 468,
    "start_time": "2025-04-22T18:21:09.323Z"
   },
   {
    "duration": 35,
    "start_time": "2025-04-22T18:22:08.190Z"
   },
   {
    "duration": 3,
    "start_time": "2025-04-22T18:22:24.732Z"
   },
   {
    "duration": 135,
    "start_time": "2025-04-22T18:22:26.698Z"
   },
   {
    "duration": 11,
    "start_time": "2025-04-22T18:22:28.027Z"
   },
   {
    "duration": 23,
    "start_time": "2025-04-22T18:22:29.353Z"
   },
   {
    "duration": 7,
    "start_time": "2025-04-22T18:22:30.396Z"
   },
   {
    "duration": 3,
    "start_time": "2025-04-22T18:22:30.962Z"
   },
   {
    "duration": 14,
    "start_time": "2025-04-22T18:22:32.533Z"
   },
   {
    "duration": 6,
    "start_time": "2025-04-22T18:22:32.998Z"
   },
   {
    "duration": 5,
    "start_time": "2025-04-22T18:22:33.568Z"
   },
   {
    "duration": 35,
    "start_time": "2025-04-22T18:22:35.588Z"
   },
   {
    "duration": 12,
    "start_time": "2025-04-22T18:22:41.650Z"
   },
   {
    "duration": 39,
    "start_time": "2025-04-22T18:24:14.421Z"
   },
   {
    "duration": 35,
    "start_time": "2025-04-22T18:24:58.275Z"
   },
   {
    "duration": 38,
    "start_time": "2025-04-22T18:27:15.397Z"
   },
   {
    "duration": 13,
    "start_time": "2025-04-22T18:27:28.084Z"
   },
   {
    "duration": 40,
    "start_time": "2025-04-22T18:28:36.387Z"
   },
   {
    "duration": 40,
    "start_time": "2025-04-22T18:29:02.692Z"
   },
   {
    "duration": 4,
    "start_time": "2025-04-22T18:29:19.030Z"
   },
   {
    "duration": 36,
    "start_time": "2025-04-22T18:29:34.174Z"
   },
   {
    "duration": 25,
    "start_time": "2025-04-22T18:30:18.911Z"
   },
   {
    "duration": 112,
    "start_time": "2025-04-22T18:30:52.551Z"
   },
   {
    "duration": 4,
    "start_time": "2025-04-22T18:31:08.129Z"
   },
   {
    "duration": 4,
    "start_time": "2025-04-22T18:31:12.159Z"
   },
   {
    "duration": 5,
    "start_time": "2025-04-22T18:31:21.396Z"
   },
   {
    "duration": 5,
    "start_time": "2025-04-22T18:31:24.349Z"
   },
   {
    "duration": 11,
    "start_time": "2025-04-22T18:31:27.821Z"
   },
   {
    "duration": 4,
    "start_time": "2025-04-22T18:31:44.655Z"
   },
   {
    "duration": 152,
    "start_time": "2025-04-22T18:31:45.377Z"
   },
   {
    "duration": 9,
    "start_time": "2025-04-22T18:31:45.587Z"
   },
   {
    "duration": 25,
    "start_time": "2025-04-22T18:31:45.977Z"
   },
   {
    "duration": 8,
    "start_time": "2025-04-22T18:31:46.363Z"
   },
   {
    "duration": 4,
    "start_time": "2025-04-22T18:31:47.114Z"
   },
   {
    "duration": 14,
    "start_time": "2025-04-22T18:31:47.891Z"
   },
   {
    "duration": 85,
    "start_time": "2025-04-22T18:31:49.862Z"
   },
   {
    "duration": 5,
    "start_time": "2025-04-22T18:32:04.952Z"
   },
   {
    "duration": 6,
    "start_time": "2025-04-22T18:32:08.485Z"
   },
   {
    "duration": 5,
    "start_time": "2025-04-22T18:32:10.730Z"
   },
   {
    "duration": 2,
    "start_time": "2025-04-22T18:32:18.645Z"
   },
   {
    "duration": 168,
    "start_time": "2025-04-22T18:32:19.078Z"
   },
   {
    "duration": 11,
    "start_time": "2025-04-22T18:32:19.248Z"
   },
   {
    "duration": 25,
    "start_time": "2025-04-22T18:32:19.603Z"
   },
   {
    "duration": 9,
    "start_time": "2025-04-22T18:32:19.977Z"
   },
   {
    "duration": 3,
    "start_time": "2025-04-22T18:32:20.308Z"
   },
   {
    "duration": 14,
    "start_time": "2025-04-22T18:32:21.019Z"
   },
   {
    "duration": 6,
    "start_time": "2025-04-22T18:32:21.991Z"
   },
   {
    "duration": 6,
    "start_time": "2025-04-22T18:32:30.840Z"
   },
   {
    "duration": 7,
    "start_time": "2025-04-22T18:34:11.789Z"
   },
   {
    "duration": 76,
    "start_time": "2025-04-22T18:34:28.123Z"
   },
   {
    "duration": 6,
    "start_time": "2025-04-22T18:34:37.455Z"
   },
   {
    "duration": 14,
    "start_time": "2025-04-22T18:34:52.368Z"
   },
   {
    "duration": 12,
    "start_time": "2025-04-22T18:35:02.628Z"
   },
   {
    "duration": 6,
    "start_time": "2025-04-22T18:35:04.436Z"
   },
   {
    "duration": 14,
    "start_time": "2025-04-22T18:35:15.985Z"
   },
   {
    "duration": 3,
    "start_time": "2025-04-22T18:35:21.138Z"
   },
   {
    "duration": 157,
    "start_time": "2025-04-22T18:35:21.841Z"
   },
   {
    "duration": 8,
    "start_time": "2025-04-22T18:35:22.104Z"
   },
   {
    "duration": 37,
    "start_time": "2025-04-22T18:35:22.677Z"
   },
   {
    "duration": 8,
    "start_time": "2025-04-22T18:35:23.503Z"
   },
   {
    "duration": 4,
    "start_time": "2025-04-22T18:35:23.957Z"
   },
   {
    "duration": 14,
    "start_time": "2025-04-22T18:35:26.068Z"
   },
   {
    "duration": 7,
    "start_time": "2025-04-22T18:35:29.505Z"
   },
   {
    "duration": 9,
    "start_time": "2025-04-22T18:35:31.252Z"
   },
   {
    "duration": 16,
    "start_time": "2025-04-22T18:35:36.571Z"
   },
   {
    "duration": 47,
    "start_time": "2025-04-22T18:37:19.755Z"
   },
   {
    "duration": 14,
    "start_time": "2025-04-22T18:37:57.062Z"
   },
   {
    "duration": 15,
    "start_time": "2025-04-22T18:39:59.817Z"
   },
   {
    "duration": 37,
    "start_time": "2025-04-22T18:40:37.531Z"
   },
   {
    "duration": 42,
    "start_time": "2025-04-22T18:40:47.994Z"
   },
   {
    "duration": 16,
    "start_time": "2025-04-22T18:41:05.357Z"
   },
   {
    "duration": 7,
    "start_time": "2025-04-22T18:42:09.766Z"
   },
   {
    "duration": 3,
    "start_time": "2025-04-22T18:42:17.427Z"
   },
   {
    "duration": 120,
    "start_time": "2025-04-22T18:42:18.078Z"
   },
   {
    "duration": 11,
    "start_time": "2025-04-22T18:42:18.380Z"
   },
   {
    "duration": 23,
    "start_time": "2025-04-22T18:42:19.420Z"
   },
   {
    "duration": 5,
    "start_time": "2025-04-22T18:42:21.585Z"
   },
   {
    "duration": 3,
    "start_time": "2025-04-22T18:42:22.447Z"
   },
   {
    "duration": 14,
    "start_time": "2025-04-22T18:42:25.416Z"
   },
   {
    "duration": 6,
    "start_time": "2025-04-22T18:42:27.250Z"
   },
   {
    "duration": 5,
    "start_time": "2025-04-22T18:42:29.499Z"
   },
   {
    "duration": 14,
    "start_time": "2025-04-22T18:42:41.977Z"
   },
   {
    "duration": 13,
    "start_time": "2025-04-22T18:42:55.608Z"
   },
   {
    "duration": 43,
    "start_time": "2025-04-22T18:43:27.847Z"
   },
   {
    "duration": 36,
    "start_time": "2025-04-22T18:43:37.674Z"
   },
   {
    "duration": 14,
    "start_time": "2025-04-22T18:43:44.770Z"
   },
   {
    "duration": 12,
    "start_time": "2025-04-22T18:49:18.067Z"
   },
   {
    "duration": 5,
    "start_time": "2025-04-22T18:49:36.765Z"
   },
   {
    "duration": 5,
    "start_time": "2025-04-22T18:49:41.135Z"
   },
   {
    "duration": 5,
    "start_time": "2025-04-22T18:54:29.570Z"
   },
   {
    "duration": 332,
    "start_time": "2025-04-22T21:14:35.119Z"
   },
   {
    "duration": 2,
    "start_time": "2025-04-22T21:14:47.722Z"
   },
   {
    "duration": 119,
    "start_time": "2025-04-22T21:14:48.201Z"
   },
   {
    "duration": 8,
    "start_time": "2025-04-22T21:14:48.387Z"
   },
   {
    "duration": 24,
    "start_time": "2025-04-22T21:14:48.849Z"
   },
   {
    "duration": 7,
    "start_time": "2025-04-22T21:14:49.507Z"
   },
   {
    "duration": 3,
    "start_time": "2025-04-22T21:14:50.023Z"
   },
   {
    "duration": 13,
    "start_time": "2025-04-22T21:14:50.741Z"
   },
   {
    "duration": 6,
    "start_time": "2025-04-22T21:14:51.410Z"
   },
   {
    "duration": 5,
    "start_time": "2025-04-22T21:14:54.759Z"
   },
   {
    "duration": 6,
    "start_time": "2025-04-22T21:15:04.783Z"
   },
   {
    "duration": 5,
    "start_time": "2025-04-22T21:15:05.399Z"
   },
   {
    "duration": 16,
    "start_time": "2025-04-22T21:15:06.728Z"
   },
   {
    "duration": 12,
    "start_time": "2025-04-22T21:15:07.443Z"
   },
   {
    "duration": 40,
    "start_time": "2025-04-22T21:15:09.707Z"
   },
   {
    "duration": 40,
    "start_time": "2025-04-22T21:15:20.668Z"
   },
   {
    "duration": 2,
    "start_time": "2025-04-22T21:16:26.652Z"
   },
   {
    "duration": 118,
    "start_time": "2025-04-22T21:16:27.066Z"
   },
   {
    "duration": 8,
    "start_time": "2025-04-22T21:16:27.258Z"
   },
   {
    "duration": 23,
    "start_time": "2025-04-22T21:16:27.629Z"
   },
   {
    "duration": 6,
    "start_time": "2025-04-22T21:16:27.959Z"
   },
   {
    "duration": 3,
    "start_time": "2025-04-22T21:16:28.316Z"
   },
   {
    "duration": 14,
    "start_time": "2025-04-22T21:16:28.666Z"
   },
   {
    "duration": 6,
    "start_time": "2025-04-22T21:16:28.929Z"
   },
   {
    "duration": 4,
    "start_time": "2025-04-22T21:16:29.439Z"
   },
   {
    "duration": 14,
    "start_time": "2025-04-22T21:16:30.382Z"
   },
   {
    "duration": 11,
    "start_time": "2025-04-22T21:16:30.699Z"
   },
   {
    "duration": 42,
    "start_time": "2025-04-22T21:16:36.567Z"
   },
   {
    "duration": 45,
    "start_time": "2025-04-22T21:19:38.768Z"
   },
   {
    "duration": 40,
    "start_time": "2025-04-22T21:19:49.855Z"
   },
   {
    "duration": 41,
    "start_time": "2025-04-22T21:22:15.197Z"
   },
   {
    "duration": 270,
    "start_time": "2025-04-22T21:22:26.494Z"
   },
   {
    "duration": 131,
    "start_time": "2025-04-22T21:22:26.766Z"
   },
   {
    "duration": 12,
    "start_time": "2025-04-22T21:22:26.899Z"
   },
   {
    "duration": 26,
    "start_time": "2025-04-22T21:22:26.913Z"
   },
   {
    "duration": 8,
    "start_time": "2025-04-22T21:22:26.942Z"
   },
   {
    "duration": 4,
    "start_time": "2025-04-22T21:22:26.951Z"
   },
   {
    "duration": 13,
    "start_time": "2025-04-22T21:22:26.957Z"
   },
   {
    "duration": 6,
    "start_time": "2025-04-22T21:22:26.971Z"
   },
   {
    "duration": 5,
    "start_time": "2025-04-22T21:22:26.978Z"
   },
   {
    "duration": 13,
    "start_time": "2025-04-22T21:22:27.013Z"
   },
   {
    "duration": 12,
    "start_time": "2025-04-22T21:22:27.028Z"
   },
   {
    "duration": 570,
    "start_time": "2025-04-22T21:22:27.042Z"
   },
   {
    "duration": 0,
    "start_time": "2025-04-22T21:22:27.614Z"
   },
   {
    "duration": 0,
    "start_time": "2025-04-22T21:22:27.616Z"
   },
   {
    "duration": 0,
    "start_time": "2025-04-22T21:22:27.618Z"
   },
   {
    "duration": 0,
    "start_time": "2025-04-22T21:22:27.619Z"
   },
   {
    "duration": 0,
    "start_time": "2025-04-22T21:22:27.621Z"
   },
   {
    "duration": 0,
    "start_time": "2025-04-22T21:22:27.622Z"
   },
   {
    "duration": 0,
    "start_time": "2025-04-22T21:22:27.624Z"
   },
   {
    "duration": 0,
    "start_time": "2025-04-22T21:22:27.625Z"
   },
   {
    "duration": 40,
    "start_time": "2025-04-22T21:22:39.860Z"
   },
   {
    "duration": 47,
    "start_time": "2025-04-22T21:26:32.362Z"
   },
   {
    "duration": 6,
    "start_time": "2025-04-22T21:28:03.954Z"
   },
   {
    "duration": 3,
    "start_time": "2025-04-22T21:29:04.740Z"
   },
   {
    "duration": 6,
    "start_time": "2025-04-22T21:30:58.315Z"
   },
   {
    "duration": 6,
    "start_time": "2025-04-22T21:31:46.861Z"
   },
   {
    "duration": 15,
    "start_time": "2025-04-22T21:33:40.377Z"
   },
   {
    "duration": 43,
    "start_time": "2025-04-22T21:33:50.681Z"
   },
   {
    "duration": 5,
    "start_time": "2025-04-22T21:34:03.314Z"
   },
   {
    "duration": 8,
    "start_time": "2025-04-22T21:34:40.668Z"
   },
   {
    "duration": 4,
    "start_time": "2025-04-22T21:34:42.085Z"
   },
   {
    "duration": 9,
    "start_time": "2025-04-22T21:34:47.516Z"
   },
   {
    "duration": 3,
    "start_time": "2025-04-22T21:34:49.672Z"
   },
   {
    "duration": 4,
    "start_time": "2025-04-22T21:35:24.816Z"
   },
   {
    "duration": 5621,
    "start_time": "2025-04-22T21:36:33.038Z"
   },
   {
    "duration": 5397,
    "start_time": "2025-04-22T21:36:39.151Z"
   },
   {
    "duration": 76,
    "start_time": "2025-04-22T21:37:03.815Z"
   },
   {
    "duration": 128,
    "start_time": "2025-04-22T21:37:45.726Z"
   },
   {
    "duration": 9,
    "start_time": "2025-04-22T21:39:40.760Z"
   },
   {
    "duration": 12,
    "start_time": "2025-04-22T21:40:08.192Z"
   },
   {
    "duration": 8,
    "start_time": "2025-04-22T21:43:42.043Z"
   },
   {
    "duration": 18,
    "start_time": "2025-04-22T21:44:49.684Z"
   },
   {
    "duration": 44,
    "start_time": "2025-04-22T21:45:06.705Z"
   },
   {
    "duration": 35,
    "start_time": "2025-04-22T21:47:53.261Z"
   },
   {
    "duration": 27,
    "start_time": "2025-04-22T21:48:19.594Z"
   },
   {
    "duration": 27,
    "start_time": "2025-04-22T21:48:40.033Z"
   },
   {
    "duration": 39,
    "start_time": "2025-04-22T21:51:21.692Z"
   },
   {
    "duration": 28,
    "start_time": "2025-04-22T21:51:28.576Z"
   },
   {
    "duration": 123,
    "start_time": "2025-04-22T21:54:21.388Z"
   },
   {
    "duration": 5,
    "start_time": "2025-04-22T21:57:23.026Z"
   },
   {
    "duration": 44,
    "start_time": "2025-04-22T21:57:49.655Z"
   },
   {
    "duration": 5,
    "start_time": "2025-04-22T22:00:02.787Z"
   },
   {
    "duration": 121,
    "start_time": "2025-04-22T22:01:12.222Z"
   },
   {
    "duration": 43,
    "start_time": "2025-04-22T22:05:01.015Z"
   },
   {
    "duration": 156,
    "start_time": "2025-04-22T23:54:42.404Z"
   },
   {
    "duration": 358,
    "start_time": "2025-04-22T23:55:01.728Z"
   },
   {
    "duration": 146,
    "start_time": "2025-04-22T23:55:04.379Z"
   },
   {
    "duration": 9,
    "start_time": "2025-04-22T23:55:05.180Z"
   },
   {
    "duration": 22,
    "start_time": "2025-04-22T23:55:06.327Z"
   },
   {
    "duration": 7,
    "start_time": "2025-04-22T23:55:09.907Z"
   },
   {
    "duration": 3,
    "start_time": "2025-04-22T23:55:11.779Z"
   },
   {
    "duration": 15,
    "start_time": "2025-04-22T23:55:14.025Z"
   },
   {
    "duration": 5,
    "start_time": "2025-04-22T23:55:14.727Z"
   },
   {
    "duration": 4,
    "start_time": "2025-04-22T23:55:16.013Z"
   },
   {
    "duration": 12,
    "start_time": "2025-04-22T23:55:19.316Z"
   },
   {
    "duration": 12,
    "start_time": "2025-04-22T23:55:21.887Z"
   },
   {
    "duration": 9,
    "start_time": "2025-04-22T23:55:25.581Z"
   },
   {
    "duration": 42,
    "start_time": "2025-04-22T23:56:18.086Z"
   },
   {
    "duration": 28,
    "start_time": "2025-04-22T23:57:32.659Z"
   },
   {
    "duration": 27,
    "start_time": "2025-04-22T23:58:32.503Z"
   },
   {
    "duration": 29,
    "start_time": "2025-04-22T23:59:56.756Z"
   },
   {
    "duration": 28,
    "start_time": "2025-04-23T00:00:20.253Z"
   },
   {
    "duration": 377,
    "start_time": "2025-04-23T00:00:31.229Z"
   },
   {
    "duration": 55,
    "start_time": "2025-04-23T00:00:41.452Z"
   },
   {
    "duration": 30,
    "start_time": "2025-04-23T00:02:11.112Z"
   },
   {
    "duration": 57,
    "start_time": "2025-04-23T00:02:43.792Z"
   },
   {
    "duration": 61,
    "start_time": "2025-04-23T00:03:06.745Z"
   },
   {
    "duration": 31,
    "start_time": "2025-04-23T00:04:46.457Z"
   },
   {
    "duration": 8,
    "start_time": "2025-04-23T00:06:15.931Z"
   },
   {
    "duration": 35,
    "start_time": "2025-04-23T00:06:53.205Z"
   },
   {
    "duration": 41,
    "start_time": "2025-04-23T00:08:45.849Z"
   },
   {
    "duration": 52,
    "start_time": "2025-04-23T00:09:05.102Z"
   },
   {
    "duration": 44,
    "start_time": "2025-04-23T00:10:03.115Z"
   },
   {
    "duration": 154,
    "start_time": "2025-04-23T00:12:20.516Z"
   },
   {
    "duration": 7,
    "start_time": "2025-04-23T00:14:45.399Z"
   },
   {
    "duration": 48,
    "start_time": "2025-04-23T00:15:04.100Z"
   },
   {
    "duration": 49,
    "start_time": "2025-04-23T00:16:53.089Z"
   },
   {
    "duration": 44,
    "start_time": "2025-04-23T00:17:26.454Z"
   },
   {
    "duration": 43,
    "start_time": "2025-04-23T00:19:31.753Z"
   },
   {
    "duration": 44,
    "start_time": "2025-04-23T00:19:40.925Z"
   },
   {
    "duration": 22,
    "start_time": "2025-04-23T00:22:24.392Z"
   },
   {
    "duration": 12,
    "start_time": "2025-04-23T00:22:39.781Z"
   },
   {
    "duration": 9,
    "start_time": "2025-04-23T00:23:43.328Z"
   },
   {
    "duration": 10,
    "start_time": "2025-04-23T00:24:55.830Z"
   },
   {
    "duration": 32,
    "start_time": "2025-04-23T00:35:31.513Z"
   },
   {
    "duration": 8,
    "start_time": "2025-04-23T00:37:33.463Z"
   },
   {
    "duration": 9,
    "start_time": "2025-04-23T00:38:00.612Z"
   },
   {
    "duration": 62,
    "start_time": "2025-04-23T00:39:50.044Z"
   },
   {
    "duration": 87,
    "start_time": "2025-04-23T00:40:25.152Z"
   },
   {
    "duration": 87,
    "start_time": "2025-04-23T00:40:46.313Z"
   },
   {
    "duration": 85,
    "start_time": "2025-04-23T00:45:54.647Z"
   },
   {
    "duration": 31,
    "start_time": "2025-04-23T00:46:14.913Z"
   },
   {
    "duration": 31,
    "start_time": "2025-04-23T00:46:39.831Z"
   },
   {
    "duration": 33,
    "start_time": "2025-04-23T00:47:20.817Z"
   },
   {
    "duration": 31,
    "start_time": "2025-04-23T00:47:30.938Z"
   },
   {
    "duration": 31,
    "start_time": "2025-04-23T00:48:40.892Z"
   },
   {
    "duration": 36,
    "start_time": "2025-04-23T00:49:23.917Z"
   },
   {
    "duration": 33,
    "start_time": "2025-04-23T00:50:04.583Z"
   },
   {
    "duration": 31,
    "start_time": "2025-04-23T00:50:34.661Z"
   },
   {
    "duration": 293,
    "start_time": "2025-04-23T01:30:03.880Z"
   },
   {
    "duration": 155,
    "start_time": "2025-04-23T01:30:05.323Z"
   },
   {
    "duration": 9,
    "start_time": "2025-04-23T01:30:06.183Z"
   },
   {
    "duration": 25,
    "start_time": "2025-04-23T01:30:08.531Z"
   },
   {
    "duration": 7,
    "start_time": "2025-04-23T01:31:09.970Z"
   },
   {
    "duration": 3,
    "start_time": "2025-04-23T01:31:10.785Z"
   },
   {
    "duration": 14,
    "start_time": "2025-04-23T01:31:12.568Z"
   },
   {
    "duration": 8,
    "start_time": "2025-04-23T01:31:13.671Z"
   },
   {
    "duration": 5,
    "start_time": "2025-04-23T01:31:14.281Z"
   },
   {
    "duration": 14,
    "start_time": "2025-04-23T01:31:15.713Z"
   },
   {
    "duration": 14,
    "start_time": "2025-04-23T01:31:16.570Z"
   },
   {
    "duration": 36,
    "start_time": "2025-04-23T01:31:18.129Z"
   },
   {
    "duration": 7,
    "start_time": "2025-04-23T01:49:55.690Z"
   },
   {
    "duration": 4,
    "start_time": "2025-04-23T01:50:29.076Z"
   },
   {
    "duration": 4,
    "start_time": "2025-04-23T01:50:35.437Z"
   },
   {
    "duration": 177,
    "start_time": "2025-04-23T01:50:39.391Z"
   },
   {
    "duration": 3,
    "start_time": "2025-04-23T01:52:40.125Z"
   },
   {
    "duration": 125,
    "start_time": "2025-04-23T01:52:41.903Z"
   },
   {
    "duration": 12,
    "start_time": "2025-04-23T01:52:42.327Z"
   },
   {
    "duration": 23,
    "start_time": "2025-04-23T01:52:43.356Z"
   },
   {
    "duration": 7,
    "start_time": "2025-04-23T01:52:44.224Z"
   },
   {
    "duration": 3,
    "start_time": "2025-04-23T01:52:44.778Z"
   },
   {
    "duration": 13,
    "start_time": "2025-04-23T01:52:45.636Z"
   },
   {
    "duration": 6,
    "start_time": "2025-04-23T01:52:46.036Z"
   },
   {
    "duration": 5,
    "start_time": "2025-04-23T01:52:46.487Z"
   },
   {
    "duration": 12,
    "start_time": "2025-04-23T01:52:47.405Z"
   },
   {
    "duration": 12,
    "start_time": "2025-04-23T01:52:47.803Z"
   },
   {
    "duration": 33,
    "start_time": "2025-04-23T01:52:54.030Z"
   },
   {
    "duration": 14,
    "start_time": "2025-04-23T01:52:56.455Z"
   },
   {
    "duration": 15,
    "start_time": "2025-04-23T01:53:28.868Z"
   },
   {
    "duration": 14,
    "start_time": "2025-04-23T01:53:34.865Z"
   },
   {
    "duration": 5,
    "start_time": "2025-04-23T01:53:52.604Z"
   },
   {
    "duration": 4,
    "start_time": "2025-04-23T01:53:58.034Z"
   },
   {
    "duration": 3,
    "start_time": "2025-04-23T01:54:03.284Z"
   },
   {
    "duration": 5,
    "start_time": "2025-04-23T01:54:17.135Z"
   },
   {
    "duration": 3,
    "start_time": "2025-04-23T01:55:26.030Z"
   },
   {
    "duration": 28,
    "start_time": "2025-04-23T01:55:27.903Z"
   },
   {
    "duration": 55,
    "start_time": "2025-04-23T01:55:41.681Z"
   },
   {
    "duration": 36,
    "start_time": "2025-04-23T01:55:55.203Z"
   },
   {
    "duration": 36,
    "start_time": "2025-04-23T01:56:09.185Z"
   },
   {
    "duration": 31,
    "start_time": "2025-04-23T01:59:50.912Z"
   },
   {
    "duration": 25,
    "start_time": "2025-04-23T02:00:12.023Z"
   },
   {
    "duration": 26,
    "start_time": "2025-04-23T02:00:17.651Z"
   },
   {
    "duration": 5,
    "start_time": "2025-04-23T02:16:29.103Z"
   },
   {
    "duration": 4,
    "start_time": "2025-04-23T02:17:10.094Z"
   },
   {
    "duration": 6,
    "start_time": "2025-04-23T02:17:21.262Z"
   },
   {
    "duration": 4,
    "start_time": "2025-04-23T02:17:42.086Z"
   },
   {
    "duration": 22,
    "start_time": "2025-04-23T02:17:51.828Z"
   },
   {
    "duration": 3,
    "start_time": "2025-04-23T02:20:54.736Z"
   },
   {
    "duration": 5,
    "start_time": "2025-04-23T02:20:55.995Z"
   },
   {
    "duration": 3,
    "start_time": "2025-04-23T02:22:23.125Z"
   },
   {
    "duration": 6,
    "start_time": "2025-04-23T02:22:23.625Z"
   },
   {
    "duration": 3,
    "start_time": "2025-04-23T02:25:48.704Z"
   },
   {
    "duration": 6,
    "start_time": "2025-04-23T02:25:49.338Z"
   },
   {
    "duration": 3,
    "start_time": "2025-04-23T02:48:05.430Z"
   },
   {
    "duration": 15,
    "start_time": "2025-04-23T02:48:06.475Z"
   },
   {
    "duration": 3,
    "start_time": "2025-04-23T02:56:23.033Z"
   },
   {
    "duration": 10,
    "start_time": "2025-04-23T02:56:23.968Z"
   },
   {
    "duration": 4,
    "start_time": "2025-04-23T02:58:01.436Z"
   },
   {
    "duration": 12,
    "start_time": "2025-04-23T02:58:02.264Z"
   },
   {
    "duration": 12,
    "start_time": "2025-04-23T03:06:47.139Z"
   },
   {
    "duration": 3,
    "start_time": "2025-04-23T03:09:11.857Z"
   },
   {
    "duration": 27,
    "start_time": "2025-04-23T03:09:12.972Z"
   },
   {
    "duration": 3,
    "start_time": "2025-04-23T03:13:03.566Z"
   },
   {
    "duration": 11,
    "start_time": "2025-04-23T03:13:04.087Z"
   },
   {
    "duration": 310,
    "start_time": "2025-04-24T17:16:44.328Z"
   },
   {
    "duration": 176,
    "start_time": "2025-04-24T17:16:45.531Z"
   },
   {
    "duration": 9,
    "start_time": "2025-04-24T17:16:45.986Z"
   },
   {
    "duration": 28,
    "start_time": "2025-04-24T17:16:46.967Z"
   },
   {
    "duration": 7,
    "start_time": "2025-04-24T17:16:48.235Z"
   },
   {
    "duration": 3,
    "start_time": "2025-04-24T17:16:50.691Z"
   },
   {
    "duration": 13,
    "start_time": "2025-04-24T17:16:52.368Z"
   },
   {
    "duration": 15,
    "start_time": "2025-04-24T17:16:55.755Z"
   },
   {
    "duration": 5,
    "start_time": "2025-04-24T17:16:56.512Z"
   },
   {
    "duration": 26,
    "start_time": "2025-04-24T17:16:58.732Z"
   },
   {
    "duration": 11,
    "start_time": "2025-04-24T17:16:59.502Z"
   },
   {
    "duration": 58,
    "start_time": "2025-04-24T17:17:03.391Z"
   },
   {
    "duration": 3,
    "start_time": "2025-04-24T17:17:06.190Z"
   },
   {
    "duration": 26,
    "start_time": "2025-04-24T17:17:06.881Z"
   },
   {
    "duration": 3,
    "start_time": "2025-04-24T17:17:09.191Z"
   },
   {
    "duration": 8,
    "start_time": "2025-04-24T17:17:09.810Z"
   },
   {
    "duration": 4,
    "start_time": "2025-04-24T17:17:12.726Z"
   },
   {
    "duration": 11,
    "start_time": "2025-04-24T17:17:17.118Z"
   },
   {
    "duration": 6,
    "start_time": "2025-04-24T17:29:23.420Z"
   },
   {
    "duration": 3,
    "start_time": "2025-04-24T17:34:05.846Z"
   },
   {
    "duration": 7,
    "start_time": "2025-04-24T17:34:07.776Z"
   },
   {
    "duration": 4,
    "start_time": "2025-04-24T17:34:34.428Z"
   },
   {
    "duration": 8,
    "start_time": "2025-04-24T17:34:35.081Z"
   },
   {
    "duration": 7,
    "start_time": "2025-04-24T17:35:07.947Z"
   },
   {
    "duration": 6,
    "start_time": "2025-04-24T17:35:15.621Z"
   },
   {
    "duration": 6,
    "start_time": "2025-04-24T17:35:23.648Z"
   },
   {
    "duration": 7,
    "start_time": "2025-04-24T17:35:33.199Z"
   },
   {
    "duration": 6,
    "start_time": "2025-04-24T17:35:38.334Z"
   },
   {
    "duration": 7,
    "start_time": "2025-04-24T17:35:57.183Z"
   },
   {
    "duration": 7,
    "start_time": "2025-04-24T17:38:37.042Z"
   },
   {
    "duration": 7,
    "start_time": "2025-04-24T17:38:45.226Z"
   },
   {
    "duration": 7,
    "start_time": "2025-04-24T17:46:09.471Z"
   },
   {
    "duration": 7,
    "start_time": "2025-04-24T17:46:16.122Z"
   },
   {
    "duration": 7,
    "start_time": "2025-04-24T17:46:29.860Z"
   },
   {
    "duration": 4,
    "start_time": "2025-04-24T17:48:58.761Z"
   },
   {
    "duration": 3,
    "start_time": "2025-04-24T17:49:39.756Z"
   },
   {
    "duration": 95,
    "start_time": "2025-04-24T17:49:41.485Z"
   },
   {
    "duration": 17,
    "start_time": "2025-04-24T17:49:56.278Z"
   },
   {
    "duration": 3,
    "start_time": "2025-04-24T17:49:59.564Z"
   },
   {
    "duration": 22,
    "start_time": "2025-04-24T17:50:00.437Z"
   },
   {
    "duration": 6,
    "start_time": "2025-04-24T17:51:29.059Z"
   },
   {
    "duration": 32,
    "start_time": "2025-04-24T17:51:29.570Z"
   },
   {
    "duration": 29,
    "start_time": "2025-04-24T17:51:34.239Z"
   },
   {
    "duration": 25,
    "start_time": "2025-04-24T17:51:38.188Z"
   },
   {
    "duration": 31,
    "start_time": "2025-04-24T17:51:47.148Z"
   },
   {
    "duration": 28,
    "start_time": "2025-04-24T17:52:18.300Z"
   },
   {
    "duration": 20,
    "start_time": "2025-04-24T17:52:21.683Z"
   },
   {
    "duration": 29,
    "start_time": "2025-04-24T17:52:31.092Z"
   },
   {
    "duration": 565,
    "start_time": "2025-04-24T19:02:17.933Z"
   },
   {
    "duration": 407,
    "start_time": "2025-04-24T19:02:18.501Z"
   },
   {
    "duration": 10,
    "start_time": "2025-04-24T19:02:18.910Z"
   },
   {
    "duration": 85,
    "start_time": "2025-04-24T19:02:18.921Z"
   },
   {
    "duration": 9,
    "start_time": "2025-04-24T19:02:19.010Z"
   },
   {
    "duration": 4,
    "start_time": "2025-04-24T19:02:19.023Z"
   },
   {
    "duration": 74,
    "start_time": "2025-04-24T19:02:19.029Z"
   },
   {
    "duration": 7,
    "start_time": "2025-04-24T19:02:19.105Z"
   },
   {
    "duration": 6,
    "start_time": "2025-04-24T19:02:19.113Z"
   },
   {
    "duration": 77,
    "start_time": "2025-04-24T19:02:19.121Z"
   },
   {
    "duration": 15,
    "start_time": "2025-04-24T19:02:19.200Z"
   },
   {
    "duration": 100,
    "start_time": "2025-04-24T19:02:19.216Z"
   },
   {
    "duration": 4,
    "start_time": "2025-04-24T19:02:19.318Z"
   },
   {
    "duration": 32,
    "start_time": "2025-04-24T19:02:19.389Z"
   },
   {
    "duration": 2,
    "start_time": "2025-04-24T19:02:19.423Z"
   },
   {
    "duration": 6,
    "start_time": "2025-04-24T19:02:19.488Z"
   },
   {
    "duration": 3,
    "start_time": "2025-04-24T19:02:19.496Z"
   },
   {
    "duration": 12,
    "start_time": "2025-04-24T19:02:19.500Z"
   },
   {
    "duration": 3,
    "start_time": "2025-04-24T19:02:19.514Z"
   },
   {
    "duration": 19,
    "start_time": "2025-04-24T19:02:26.553Z"
   }
  ],
  "colab": {
   "provenance": []
  },
  "kernelspec": {
   "display_name": "Python 3 (ipykernel)",
   "language": "python",
   "name": "python3"
  },
  "language_info": {
   "codemirror_mode": {
    "name": "ipython",
    "version": 3
   },
   "file_extension": ".py",
   "mimetype": "text/x-python",
   "name": "python",
   "nbconvert_exporter": "python",
   "pygments_lexer": "ipython3",
   "version": "3.9.19"
  },
  "toc": {
   "base_numbering": 1,
   "nav_menu": {},
   "number_sections": true,
   "sideBar": true,
   "skip_h1_title": true,
   "title_cell": "Table of Contents",
   "title_sidebar": "Contents",
   "toc_cell": false,
   "toc_position": {},
   "toc_section_display": true,
   "toc_window_display": false
  }
 },
 "nbformat": 4,
 "nbformat_minor": 1
}
