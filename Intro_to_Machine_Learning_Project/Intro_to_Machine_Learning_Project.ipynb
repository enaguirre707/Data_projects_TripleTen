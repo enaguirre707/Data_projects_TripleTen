{
 "cells": [
  {
   "cell_type": "markdown",
   "metadata": {},
   "source": [
    "<div style=\"border:solid blue 2px; padding: 20px\"> \n",
    "\n",
    "<strong>Reviewer's Introduction</strong>\n",
    "\n",
    "Hello Erik! 👋 \n",
    "\n",
    "I'm happy to review your project today.\n",
    "\n",
    "I will categorize my comments in green, blue or red boxes like this:\n",
    "\n",
    "<div class=\"alert alert-success\">\n",
    "    <b>Success:</b> Everything is done successfully.\n",
    "</div>\n",
    "<div class=\"alert alert-warning\">\n",
    "    <b>Remarks:</b> Suggestions for optimizations or improvements.\n",
    "</div>\n",
    "<div class=\"alert alert-danger\">\n",
    "    <b>Needs fixing:</b> This must be fixed for a project to be approved.\n",
    "</div>\n",
    "\n",
    "Please don't remove my comments :) If you have any questions or comments, don't hesitate to respond to my comments by creating a box that looks like this: \n",
    "<div class=\"alert alert-info\"> <b>Student's comment:</b> Your text here.</div>    \n",
    "<br>\n",
    "\n",
    "\n",
    "📌 Here's how to create code for student comments inside a Markdown cell:\n",
    "    \n",
    "    \n",
    "    <div class=\"alert alert-info\">\n",
    "    <b> Student's comment</b>\n",
    "\n",
    "    Your text here. \n",
    "    </div>\n",
    "\n",
    "You can find out how to **format text** in a Markdown cell or how to **add links** [here](https://sqlbak.com/blog/jupyter-notebook-markdown-cheatsheet). \n",
    "\n",
    "\n",
    "<hr>\n",
    "Reviewer: Han Lee <br>\n",
    "</div>\n"
   ]
  },
  {
   "cell_type": "markdown",
   "metadata": {},
   "source": [
    "<div style=\"border: solid blue 2px; padding: 15px; margin: 10px\">\n",
    "\t<b>Reviewer's Comments – Iteration 1</b>\n",
    "\n",
    "Congratulations! \n",
    "\n",
    "This project meets all requirements ✅, and is approved. 🎉\n",
    "\n",
    "\n",
    "<b>Notable strengths:</b>  \n",
    "\n",
    "✔️ Clear and readable code\n",
    "\n",
    "✔️ Use of for loops for hyperparameter tuning  \n",
    "\n",
    "✔️ Clear understanding of the basic tasks of supervised machine learning -- splitting data, training models, and making predictions.\n",
    "\n",
    "\n",
    "You did a great job in your foray into machine learning. You will continue to apply what you learned in upcoming sprints. Once again, congratulations, and I wish you continued success in the next sprint.\n",
    "</div>\n",
    "\n"
   ]
  },
  {
   "cell_type": "markdown",
   "metadata": {},
   "source": [
    "<div class=\"alert alert-warning\">\n",
    "    <b>Reviewer's comment – Iteration 1:</b><br>\n",
    "In upcoming projects, please be sure to write an introduction to orient your audience to the project's aims and methods. Communication is as important as coding for a data scientist.\n",
    "</div>"
   ]
  },
  {
   "cell_type": "code",
   "execution_count": 1,
   "metadata": {},
   "outputs": [],
   "source": [
    "import pandas as pd\n",
    "from sklearn.model_selection import train_test_split\n",
    "from sklearn.metrics import accuracy_score\n",
    "from sklearn.tree import DecisionTreeClassifier\n",
    "from sklearn.linear_model import LogisticRegression\n",
    "from sklearn.ensemble import RandomForestClassifier\n",
    "import matplotlib.pyplot as plt"
   ]
  },
  {
   "cell_type": "code",
   "execution_count": 2,
   "metadata": {},
   "outputs": [
    {
     "data": {
      "text/html": [
       "<div>\n",
       "<style scoped>\n",
       "    .dataframe tbody tr th:only-of-type {\n",
       "        vertical-align: middle;\n",
       "    }\n",
       "\n",
       "    .dataframe tbody tr th {\n",
       "        vertical-align: top;\n",
       "    }\n",
       "\n",
       "    .dataframe thead th {\n",
       "        text-align: right;\n",
       "    }\n",
       "</style>\n",
       "<table border=\"1\" class=\"dataframe\">\n",
       "  <thead>\n",
       "    <tr style=\"text-align: right;\">\n",
       "      <th></th>\n",
       "      <th>calls</th>\n",
       "      <th>minutes</th>\n",
       "      <th>messages</th>\n",
       "      <th>mb_used</th>\n",
       "      <th>is_ultra</th>\n",
       "    </tr>\n",
       "  </thead>\n",
       "  <tbody>\n",
       "    <tr>\n",
       "      <th>0</th>\n",
       "      <td>40.0</td>\n",
       "      <td>311.90</td>\n",
       "      <td>83.0</td>\n",
       "      <td>19915.42</td>\n",
       "      <td>0</td>\n",
       "    </tr>\n",
       "    <tr>\n",
       "      <th>1</th>\n",
       "      <td>85.0</td>\n",
       "      <td>516.75</td>\n",
       "      <td>56.0</td>\n",
       "      <td>22696.96</td>\n",
       "      <td>0</td>\n",
       "    </tr>\n",
       "    <tr>\n",
       "      <th>2</th>\n",
       "      <td>77.0</td>\n",
       "      <td>467.66</td>\n",
       "      <td>86.0</td>\n",
       "      <td>21060.45</td>\n",
       "      <td>0</td>\n",
       "    </tr>\n",
       "    <tr>\n",
       "      <th>3</th>\n",
       "      <td>106.0</td>\n",
       "      <td>745.53</td>\n",
       "      <td>81.0</td>\n",
       "      <td>8437.39</td>\n",
       "      <td>1</td>\n",
       "    </tr>\n",
       "    <tr>\n",
       "      <th>4</th>\n",
       "      <td>66.0</td>\n",
       "      <td>418.74</td>\n",
       "      <td>1.0</td>\n",
       "      <td>14502.75</td>\n",
       "      <td>0</td>\n",
       "    </tr>\n",
       "  </tbody>\n",
       "</table>\n",
       "</div>"
      ],
      "text/plain": [
       "   calls  minutes  messages   mb_used  is_ultra\n",
       "0   40.0   311.90      83.0  19915.42         0\n",
       "1   85.0   516.75      56.0  22696.96         0\n",
       "2   77.0   467.66      86.0  21060.45         0\n",
       "3  106.0   745.53      81.0   8437.39         1\n",
       "4   66.0   418.74       1.0  14502.75         0"
      ]
     },
     "metadata": {},
     "output_type": "display_data"
    },
    {
     "name": "stdout",
     "output_type": "stream",
     "text": [
      "<class 'pandas.core.frame.DataFrame'>\n",
      "RangeIndex: 3214 entries, 0 to 3213\n",
      "Data columns (total 5 columns):\n",
      " #   Column    Non-Null Count  Dtype  \n",
      "---  ------    --------------  -----  \n",
      " 0   calls     3214 non-null   float64\n",
      " 1   minutes   3214 non-null   float64\n",
      " 2   messages  3214 non-null   float64\n",
      " 3   mb_used   3214 non-null   float64\n",
      " 4   is_ultra  3214 non-null   int64  \n",
      "dtypes: float64(4), int64(1)\n",
      "memory usage: 125.7 KB\n"
     ]
    },
    {
     "data": {
      "text/plain": [
       "None"
      ]
     },
     "metadata": {},
     "output_type": "display_data"
    },
    {
     "data": {
      "text/plain": [
       "0    2229\n",
       "1     985\n",
       "Name: is_ultra, dtype: int64"
      ]
     },
     "metadata": {},
     "output_type": "display_data"
    }
   ],
   "source": [
    "df = pd.read_csv('/datasets/users_behavior.csv')\n",
    "\n",
    "# Quick look\n",
    "display(df.head())\n",
    "display(df.info())\n",
    "display(df['is_ultra'].value_counts())"
   ]
  },
  {
   "cell_type": "code",
   "execution_count": 3,
   "metadata": {},
   "outputs": [],
   "source": [
    "# Features and target\n",
    "features = df.drop(['is_ultra'], axis=1)\n",
    "target = df['is_ultra']\n",
    "\n",
    "# Initial split: 60% train, 20% validation, 20% test\n",
    "features_train, features_temp, target_train, target_temp = train_test_split(\n",
    "    features, target, test_size=0.4, random_state=12345\n",
    ")\n",
    "features_valid, features_test, target_valid, target_test = train_test_split(\n",
    "    features_temp, target_temp, test_size=0.5, random_state=12345\n",
    ")"
   ]
  },
  {
   "cell_type": "code",
   "execution_count": 4,
   "metadata": {},
   "outputs": [
    {
     "name": "stdout",
     "output_type": "stream",
     "text": [
      "Decision Tree (depth=1): 0.7542768273716952\n",
      "Decision Tree (depth=2): 0.7822706065318819\n",
      "Decision Tree (depth=3): 0.7853810264385692\n",
      "Decision Tree (depth=4): 0.7791601866251944\n",
      "Decision Tree (depth=5): 0.7791601866251944\n",
      "Decision Tree (depth=6): 0.7838258164852255\n",
      "Decision Tree (depth=7): 0.7822706065318819\n",
      "Decision Tree (depth=8): 0.7791601866251944\n",
      "Decision Tree (depth=9): 0.7822706065318819\n",
      "Decision Tree (depth=10): 0.7744945567651633\n"
     ]
    }
   ],
   "source": [
    "best_dt_score = 0\n",
    "best_dt_depth = 0\n",
    "\n",
    "for depth in range(1, 11):\n",
    "    dt_model = DecisionTreeClassifier(max_depth=depth, random_state=12345)\n",
    "    dt_model.fit(features_train, target_train)\n",
    "    predictions = dt_model.predict(features_valid)\n",
    "    score = accuracy_score(target_valid, predictions)\n",
    "    print(f'Decision Tree (depth={depth}): {score}')\n",
    "    \n",
    "    if score > best_dt_score:\n",
    "        best_dt_score = score\n",
    "        best_dt_depth = depth"
   ]
  },
  {
   "cell_type": "code",
   "execution_count": 5,
   "metadata": {},
   "outputs": [
    {
     "name": "stdout",
     "output_type": "stream",
     "text": [
      "Random Forest (n_estimators=10, depth=1): 0.7558320373250389\n",
      "Random Forest (n_estimators=10, depth=2): 0.7776049766718507\n",
      "Random Forest (n_estimators=10, depth=3): 0.7853810264385692\n",
      "Random Forest (n_estimators=10, depth=4): 0.7900466562986003\n",
      "Random Forest (n_estimators=10, depth=5): 0.7931570762052877\n",
      "Random Forest (n_estimators=10, depth=6): 0.8009331259720062\n",
      "Random Forest (n_estimators=10, depth=7): 0.7947122861586314\n",
      "Random Forest (n_estimators=10, depth=8): 0.7962674961119751\n",
      "Random Forest (n_estimators=10, depth=9): 0.7853810264385692\n",
      "Random Forest (n_estimators=10, depth=10): 0.7916018662519441\n",
      "Random Forest (n_estimators=20, depth=1): 0.7667185069984448\n",
      "Random Forest (n_estimators=20, depth=2): 0.7838258164852255\n",
      "Random Forest (n_estimators=20, depth=3): 0.7869362363919129\n",
      "Random Forest (n_estimators=20, depth=4): 0.7884914463452566\n",
      "Random Forest (n_estimators=20, depth=5): 0.7900466562986003\n",
      "Random Forest (n_estimators=20, depth=6): 0.7993779160186625\n",
      "Random Forest (n_estimators=20, depth=7): 0.8009331259720062\n",
      "Random Forest (n_estimators=20, depth=8): 0.7978227060653188\n",
      "Random Forest (n_estimators=20, depth=9): 0.7900466562986003\n",
      "Random Forest (n_estimators=20, depth=10): 0.7916018662519441\n",
      "Random Forest (n_estimators=30, depth=1): 0.7667185069984448\n",
      "Random Forest (n_estimators=30, depth=2): 0.7838258164852255\n",
      "Random Forest (n_estimators=30, depth=3): 0.7869362363919129\n",
      "Random Forest (n_estimators=30, depth=4): 0.7869362363919129\n",
      "Random Forest (n_estimators=30, depth=5): 0.7931570762052877\n",
      "Random Forest (n_estimators=30, depth=6): 0.8009331259720062\n",
      "Random Forest (n_estimators=30, depth=7): 0.80248833592535\n",
      "Random Forest (n_estimators=30, depth=8): 0.7993779160186625\n",
      "Random Forest (n_estimators=30, depth=9): 0.7931570762052877\n",
      "Random Forest (n_estimators=30, depth=10): 0.7947122861586314\n",
      "Random Forest (n_estimators=40, depth=1): 0.776049766718507\n",
      "Random Forest (n_estimators=40, depth=2): 0.7853810264385692\n",
      "Random Forest (n_estimators=40, depth=3): 0.7869362363919129\n",
      "Random Forest (n_estimators=40, depth=4): 0.7900466562986003\n",
      "Random Forest (n_estimators=40, depth=5): 0.7947122861586314\n",
      "Random Forest (n_estimators=40, depth=6): 0.80248833592535\n",
      "Random Forest (n_estimators=40, depth=7): 0.80248833592535\n",
      "Random Forest (n_estimators=40, depth=8): 0.8087091757387247\n",
      "Random Forest (n_estimators=40, depth=9): 0.7947122861586314\n",
      "Random Forest (n_estimators=40, depth=10): 0.7962674961119751\n",
      "Random Forest (n_estimators=50, depth=1): 0.7589424572317263\n",
      "Random Forest (n_estimators=50, depth=2): 0.7838258164852255\n",
      "Random Forest (n_estimators=50, depth=3): 0.7869362363919129\n",
      "Random Forest (n_estimators=50, depth=4): 0.7869362363919129\n",
      "Random Forest (n_estimators=50, depth=5): 0.7931570762052877\n",
      "Random Forest (n_estimators=50, depth=6): 0.7993779160186625\n",
      "Random Forest (n_estimators=50, depth=7): 0.80248833592535\n",
      "Random Forest (n_estimators=50, depth=8): 0.807153965785381\n",
      "Random Forest (n_estimators=50, depth=9): 0.7978227060653188\n",
      "Random Forest (n_estimators=50, depth=10): 0.7931570762052877\n",
      "Random Forest (n_estimators=60, depth=1): 0.7636080870917574\n",
      "Random Forest (n_estimators=60, depth=2): 0.7853810264385692\n",
      "Random Forest (n_estimators=60, depth=3): 0.7869362363919129\n",
      "Random Forest (n_estimators=60, depth=4): 0.7869362363919129\n",
      "Random Forest (n_estimators=60, depth=5): 0.7931570762052877\n",
      "Random Forest (n_estimators=60, depth=6): 0.7962674961119751\n",
      "Random Forest (n_estimators=60, depth=7): 0.7993779160186625\n",
      "Random Forest (n_estimators=60, depth=8): 0.80248833592535\n",
      "Random Forest (n_estimators=60, depth=9): 0.7978227060653188\n",
      "Random Forest (n_estimators=60, depth=10): 0.7978227060653188\n",
      "Random Forest (n_estimators=70, depth=1): 0.7636080870917574\n",
      "Random Forest (n_estimators=70, depth=2): 0.7853810264385692\n",
      "Random Forest (n_estimators=70, depth=3): 0.7884914463452566\n",
      "Random Forest (n_estimators=70, depth=4): 0.7884914463452566\n",
      "Random Forest (n_estimators=70, depth=5): 0.7931570762052877\n",
      "Random Forest (n_estimators=70, depth=6): 0.7993779160186625\n",
      "Random Forest (n_estimators=70, depth=7): 0.8009331259720062\n",
      "Random Forest (n_estimators=70, depth=8): 0.7978227060653188\n",
      "Random Forest (n_estimators=70, depth=9): 0.7978227060653188\n",
      "Random Forest (n_estimators=70, depth=10): 0.7947122861586314\n",
      "Random Forest (n_estimators=80, depth=1): 0.7636080870917574\n",
      "Random Forest (n_estimators=80, depth=2): 0.7838258164852255\n",
      "Random Forest (n_estimators=80, depth=3): 0.7884914463452566\n",
      "Random Forest (n_estimators=80, depth=4): 0.7916018662519441\n",
      "Random Forest (n_estimators=80, depth=5): 0.7931570762052877\n",
      "Random Forest (n_estimators=80, depth=6): 0.7978227060653188\n",
      "Random Forest (n_estimators=80, depth=7): 0.7993779160186625\n",
      "Random Forest (n_estimators=80, depth=8): 0.7978227060653188\n",
      "Random Forest (n_estimators=80, depth=9): 0.7947122861586314\n",
      "Random Forest (n_estimators=80, depth=10): 0.7962674961119751\n",
      "Random Forest (n_estimators=90, depth=1): 0.776049766718507\n",
      "Random Forest (n_estimators=90, depth=2): 0.7838258164852255\n",
      "Random Forest (n_estimators=90, depth=3): 0.7884914463452566\n",
      "Random Forest (n_estimators=90, depth=4): 0.7916018662519441\n",
      "Random Forest (n_estimators=90, depth=5): 0.7931570762052877\n",
      "Random Forest (n_estimators=90, depth=6): 0.8009331259720062\n",
      "Random Forest (n_estimators=90, depth=7): 0.7993779160186625\n",
      "Random Forest (n_estimators=90, depth=8): 0.7993779160186625\n",
      "Random Forest (n_estimators=90, depth=9): 0.7947122861586314\n",
      "Random Forest (n_estimators=90, depth=10): 0.7947122861586314\n",
      "Random Forest (n_estimators=100, depth=1): 0.7744945567651633\n",
      "Random Forest (n_estimators=100, depth=2): 0.7838258164852255\n",
      "Random Forest (n_estimators=100, depth=3): 0.7884914463452566\n",
      "Random Forest (n_estimators=100, depth=4): 0.7900466562986003\n",
      "Random Forest (n_estimators=100, depth=5): 0.7947122861586314\n",
      "Random Forest (n_estimators=100, depth=6): 0.8009331259720062\n",
      "Random Forest (n_estimators=100, depth=7): 0.8009331259720062\n",
      "Random Forest (n_estimators=100, depth=8): 0.8009331259720062\n",
      "Random Forest (n_estimators=100, depth=9): 0.7947122861586314\n",
      "Random Forest (n_estimators=100, depth=10): 0.7947122861586314\n"
     ]
    }
   ],
   "source": [
    "best_rf_score = 0\n",
    "best_rf_est = 0\n",
    "best_rf_depth = 0\n",
    "\n",
    "for est in range(10, 101, 10):\n",
    "    for depth in range(1, 11):\n",
    "        rf_model = RandomForestClassifier(\n",
    "            n_estimators=est, max_depth=depth, random_state=12345\n",
    "        )\n",
    "        rf_model.fit(features_train, target_train)\n",
    "        predictions = rf_model.predict(features_valid)\n",
    "        score = accuracy_score(target_valid, predictions)\n",
    "        print(f'Random Forest (n_estimators={est}, depth={depth}): {score}')\n",
    "        \n",
    "        if score > best_rf_score:\n",
    "            best_rf_score = score\n",
    "            best_rf_est = est\n",
    "            best_rf_depth = depth\n"
   ]
  },
  {
   "cell_type": "code",
   "execution_count": 6,
   "metadata": {},
   "outputs": [
    {
     "name": "stdout",
     "output_type": "stream",
     "text": [
      "Logistic Regression: 0.7091757387247278\n"
     ]
    }
   ],
   "source": [
    "lr_model = LogisticRegression(random_state=12345, solver='liblinear')\n",
    "lr_model.fit(features_train, target_train)\n",
    "lr_score = accuracy_score(target_valid, lr_model.predict(features_valid))\n",
    "print(f'Logistic Regression: {lr_score}')\n"
   ]
  },
  {
   "cell_type": "code",
   "execution_count": 7,
   "metadata": {},
   "outputs": [
    {
     "name": "stdout",
     "output_type": "stream",
     "text": [
      "\n",
      " Final Test Accuracy: 0.7993779160186625\n"
     ]
    }
   ],
   "source": [
    "# You can choose rf_model with best hyperparameters\n",
    "final_model = RandomForestClassifier(\n",
    "    n_estimators=best_rf_est, max_depth=best_rf_depth, random_state=12345\n",
    ")\n",
    "final_model.fit(features_train.append(features_valid), target_train.append(target_valid))\n",
    "\n",
    "# Evaluate on test set\n",
    "test_predictions = final_model.predict(features_test)\n",
    "test_score = accuracy_score(target_test, test_predictions)\n",
    "print(f'\\n Final Test Accuracy: {test_score}')"
   ]
  },
  {
   "cell_type": "code",
   "execution_count": 8,
   "metadata": {},
   "outputs": [
    {
     "data": {
      "image/png": "[encoded data removed]",
      "text/plain": [
       "<Figure size 640x480 with 1 Axes>"
      ]
     },
     "metadata": {},
     "output_type": "display_data"
    }
   ],
   "source": [
    "importances = final_model.feature_importances_\n",
    "feature_names = features.columns\n",
    "plt.barh(feature_names, importances)\n",
    "plt.title('Feature Importance')\n",
    "plt.show()"
   ]
  },
  {
   "cell_type": "markdown",
   "metadata": {},
   "source": [
    "RandomForestClassifier outperformed other models with a test accuracy above 0.75, meeting the threshold.\n",
    "\n",
    "Feature importance shows mb_used and minutes are most predictive of plan choice.\n",
    "\n",
    "Additional tuning or ensemble techniques may push performance even higher.\n",
    "\n",
    "We're confident this model can reliably assist Megaline in recommending the right mobile plans to users!"
   ]
  },
  {
   "cell_type": "markdown",
   "metadata": {},
   "source": [
    "This project:\n",
    "\n",
    "Tests multiple models and hyperparameters\n",
    "\n",
    "Selects the best based on validation accuracy\n",
    "\n",
    "Evaluates final performance on a test set\n",
    "\n",
    "Aims for accuracy ≥ 0.75 to meet project requirements"
   ]
  },
  {
   "cell_type": "code",
   "execution_count": null,
   "metadata": {},
   "outputs": [],
   "source": []
  }
 ],
 "metadata": {
  "kernelspec": {
   "display_name": "Python 3 (ipykernel)",
   "language": "python",
   "name": "python3"
  },
  "language_info": {
   "codemirror_mode": {
    "name": "ipython",
    "version": 3
   },
   "file_extension": ".py",
   "mimetype": "text/x-python",
   "name": "python",
   "nbconvert_exporter": "python",
   "pygments_lexer": "ipython3",
   "version": "3.9.23"
  }
 },
 "nbformat": 4,
 "nbformat_minor": 4
}
