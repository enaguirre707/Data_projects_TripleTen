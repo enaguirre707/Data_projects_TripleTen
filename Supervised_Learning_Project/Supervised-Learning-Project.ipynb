{
 "cells": [
  {
   "cell_type": "markdown",
   "metadata": {},
   "source": [
    "<div style=\"border: solid blue 2px; padding: 15px; margin: 10px\">\n",
    "  <b>Overall Summary of the Project – Iteration 2</b><br><br>\n",
    "\n",
    "  Hi Erik, I’m <b>Victor Camargo</b> (https://hub.tripleten.com/u/e9cc9c11). Thanks for addressing all previous issues — your project is now approved.\n",
    "\n",
    "  <b>Nice work on:</b><br>\n",
    "  ✔️ Preprocessing the data effectively with one-hot encoding and proper scaling after splitting<br>\n",
    "  ✔️ Creating a separate test set for final evaluation<br>\n",
    "  ✔️ Training and comparing models, and enhancing the best one with class weighting<br>\n",
    "  ✔️ Implementing a threshold tuning function to boost recall and optimize F1 score<br>\n",
    "  ✔️ Including insightful visualizations such as F1-vs-threshold, confusion matrix, ROC curve, and feature importance<br>\n",
    "  ✔️ Updating the report to match the implemented code and reflecting final test set metrics<br><br>\n",
    "\n",
    "  ⚠️ <b>Just a quick note</b>: in your conclusion, you reported the F1 score for class <code>0</code> (0.89). The correct metric to compare against the project requirement is the F1 score for class <code>1</code>, which is <b>0.61</b> based on your final test set results.<br><br>\n",
    "\n",
    "  Overall, great work — well done applying the feedback and producing a clean, well-documented project.\n",
    "</div>\n"
   ]
  },
  {
   "cell_type": "markdown",
   "metadata": {},
   "source": [
    "<div style=\"border: solid blue 2px; padding: 15px; margin: 10px\">\n",
    "  <b>Overall Summary of the Project – Iteration 1</b><br><br>\n",
    "\n",
    "  Hi Erik, I’m <b>Victor Camargo</b> (https://hub.tripleten.com/u/e9cc9c11). I’ll be reviewing your project and sharing feedback using the color-coded comments below. Thanks for submitting your work!\n",
    "\n",
    "  <b>Nice work on:</b><br>\n",
    "  ✔️ Preprocessing the data effectively with one-hot encoding and feature scaling<br>\n",
    "  ✔️ Training a baseline Random Forest model and enhancing it with class weights<br>\n",
    "  ✔️ Implementing a threshold tuning function to boost recall and optimize F1 score<br>\n",
    "  ✔️ Including insightful visualizations such as F1-vs-threshold, confusion matrix, ROC curve, and feature importance<br>\n",
    "  ✔️ Summarizing your results and business insights clearly in the report<br><br>\n",
    "\n",
    "  A few things still need your attention before approval:<br>\n",
    "  🔴 You performed scaling before splitting the data, which introduces data leakage. Make sure to split the data first and then scale using only the training set.<br>\n",
    "  🔴 Your data is currently split into only training and validation sets. It's best practice to create a third, untouched test set using <code>train_test_split()</code> twice.<br>\n",
    "  🔴 The final F1 score must be reported using the <b>test set</b>, not the validation set. Apply your best model and tuned threshold to the test set and update your final metrics accordingly.<br>\n",
    "  🔴 If the F1 score on the test set falls below <code>0.59</code>, try applying upsampling techniques to improve performance.<br>\n",
    "  🔴 Your report mentions a <code>Decision Tree</code> model that was not included in the code. Either add the model or remove it from the results and rewrite the table and insights to reflect what was actually implemented.<br><br>\n",
    "\n",
    "  <hr>\n",
    "\n",
    "  🔹 <b>Legend:</b><br>\n",
    "  🟢 Green = well done<br>\n",
    "  🟡 Yellow = suggestions<br>\n",
    "  🔴 Red = must fix<br>\n",
    "  🔵 Blue = your comments or questions<br><br>\n",
    "\n",
    "  Please make sure all cells run smoothly from top to bottom and produce outputs before submitting. Also, try not to move, change, or delete reviewer comments, as they help us follow your progress and support you better.<br><br>\n",
    "\n",
    "  <b>Feel free to reach out if you need help in Questions channel.</b><br>\n",
    "</div>\n"
   ]
  },
  {
   "cell_type": "code",
   "execution_count": 25,
   "metadata": {},
   "outputs": [],
   "source": [
    "import pandas as pd\n",
    "import numpy as np\n",
    "import matplotlib.pyplot as plt\n",
    "from sklearn.preprocessing import StandardScaler\n",
    "from sklearn.ensemble import RandomForestClassifier\n",
    "from sklearn.tree import DecisionTreeClassifier\n",
    "from sklearn.linear_model import LogisticRegression\n",
    "from sklearn.metrics import (\n",
    "    accuracy_score, precision_score, recall_score, f1_score,\n",
    "    classification_report, confusion_matrix, roc_auc_score, roc_curve\n",
    ")\n",
    "from sklearn.model_selection import train_test_split"
   ]
  },
  {
   "cell_type": "code",
   "execution_count": 2,
   "metadata": {},
   "outputs": [
    {
     "name": "stdout",
     "output_type": "stream",
     "text": [
      "Initial data shape: (10000, 14)\n",
      "\n",
      "Missing values:\n",
      " RowNumber            0\n",
      "CustomerId           0\n",
      "Surname              0\n",
      "CreditScore          0\n",
      "Geography            0\n",
      "Gender               0\n",
      "Age                  0\n",
      "Tenure             909\n",
      "Balance              0\n",
      "NumOfProducts        0\n",
      "HasCrCard            0\n",
      "IsActiveMember       0\n",
      "EstimatedSalary      0\n",
      "Exited               0\n",
      "dtype: int64\n",
      "\n",
      "Class distribution:\n",
      " 0    0.7963\n",
      "1    0.2037\n",
      "Name: Exited, dtype: float64\n"
     ]
    }
   ],
   "source": [
    "# Load and Inspect Data\n",
    "data = pd.read_csv(\"/datasets/Churn.csv\")\n",
    "print(\"Initial data shape:\", data.shape)\n",
    "print(\"\\nMissing values:\\n\", data.isnull().sum())\n",
    "print(\"\\nClass distribution:\\n\", data[\"Exited\"].value_counts(normalize=True))"
   ]
  },
  {
   "cell_type": "code",
   "execution_count": 3,
   "metadata": {},
   "outputs": [
    {
     "name": "stdout",
     "output_type": "stream",
     "text": [
      "Initial data shape: (10000, 14)\n",
      "\n",
      "Missing values:\n",
      " RowNumber            0\n",
      "CustomerId           0\n",
      "Surname              0\n",
      "CreditScore          0\n",
      "Geography            0\n",
      "Gender               0\n",
      "Age                  0\n",
      "Tenure             909\n",
      "Balance              0\n",
      "NumOfProducts        0\n",
      "HasCrCard            0\n",
      "IsActiveMember       0\n",
      "EstimatedSalary      0\n",
      "Exited               0\n",
      "dtype: int64\n",
      "\n",
      "Class distribution:\n",
      " 0    0.7963\n",
      "1    0.2037\n",
      "Name: Exited, dtype: float64\n"
     ]
    }
   ],
   "source": [
    "# Display basic info\n",
    "print(\"Initial data shape:\", data.shape)\n",
    "print(\"\\nMissing values:\\n\", data.isnull().sum())\n",
    "print(\"\\nClass distribution:\\n\", data[\"Exited\"].value_counts(normalize=True))"
   ]
  },
  {
   "cell_type": "code",
   "execution_count": 4,
   "metadata": {},
   "outputs": [],
   "source": [
    "# Drop Irrelevant Columns\n",
    "data = data.drop(columns=[\"RowNumber\", \"CustomerId\", \"Surname\"])"
   ]
  },
  {
   "cell_type": "code",
   "execution_count": 5,
   "metadata": {},
   "outputs": [],
   "source": [
    "# One-Hot Encode Categorical Features\n",
    "data = pd.get_dummies(data, columns=[\"Geography\", \"Gender\"], drop_first=True)"
   ]
  },
  {
   "cell_type": "code",
   "execution_count": 6,
   "metadata": {},
   "outputs": [],
   "source": [
    "# Separate Features and Target\n",
    "target = data[\"Exited\"]\n",
    "features = data.drop(\"Exited\", axis=1)"
   ]
  },
  {
   "cell_type": "code",
   "execution_count": 7,
   "metadata": {},
   "outputs": [],
   "source": [
    "# Three-Way Data Split\n",
    "X_temp, X_test, y_temp, y_test = train_test_split(features, target, test_size=0.2, stratify=target, random_state=42)\n",
    "X_train, X_val, y_train, y_val = train_test_split(X_temp, y_temp, test_size=0.25, stratify=y_temp, random_state=42)"
   ]
  },
  {
   "cell_type": "code",
   "execution_count": 8,
   "metadata": {},
   "outputs": [],
   "source": [
    "# Clean and Scale Data\n",
    "def clean_and_scale(X_train, X_val, X_test):\n",
    "    X_train_clean = X_train.replace([np.inf, -np.inf], np.nan).fillna(X_train.mean())\n",
    "    X_val_clean = X_val.replace([np.inf, -np.inf], np.nan).fillna(X_train.mean())\n",
    "    X_test_clean = X_test.replace([np.inf, -np.inf], np.nan).fillna(X_train.mean())\n",
    "\n",
    "    numerical_cols = X_train_clean.select_dtypes(include=[\"int64\", \"float64\"]).columns\n",
    "    scaler = StandardScaler()\n",
    "    X_train_clean[numerical_cols] = scaler.fit_transform(X_train_clean[numerical_cols])\n",
    "    X_val_clean[numerical_cols] = scaler.transform(X_val_clean[numerical_cols])\n",
    "    X_test_clean[numerical_cols] = scaler.transform(X_test_clean[numerical_cols])\n",
    "\n",
    "    return X_train_clean, X_val_clean, X_test_clean\n",
    "\n",
    "X_train_clean, X_val_clean, X_test_clean = clean_and_scale(X_train, X_val, X_test)"
   ]
  },
  {
   "cell_type": "markdown",
   "metadata": {},
   "source": [
    "*Removes identifiers that don’t help prediction (RowNumber, CustomerId, Surname)\n",
    "\n",
    "*Encodes categorical variables (Geography, Gender) using one-hot encoding\n",
    "\n",
    "*Scales numerical features to help models like logistic regression or SVM"
   ]
  },
  {
   "cell_type": "markdown",
   "metadata": {},
   "source": [
    "<div class=\"alert alert-success\">\n",
    "  <b>Reviewer’s comment – Iteration 1:</b><br>\n",
    "  Great job preparing the dataset for modeling. You've:\n",
    "  <ul>\n",
    "    <li>Removed identifiers like <code>RowNumber</code>, <code>CustomerId</code>, and <code>Surname</code>, which don’t contribute to predictions and can introduce noise.</li>\n",
    "    <li>Applied one-hot encoding to categorical features like <code>Geography</code> and <code>Gender</code>, using <code>drop_first=True</code> to avoid multicollinearity.</li>\n",
    "  </ul>"
   ]
  },
  {
   "cell_type": "code",
   "execution_count": 9,
   "metadata": {},
   "outputs": [
    {
     "name": "stdout",
     "output_type": "stream",
     "text": [
      "Class counts:\n",
      " 0    7963\n",
      "1    2037\n",
      "Name: Exited, dtype: int64\n",
      "\n",
      "Class proportions:\n",
      " 0    0.7963\n",
      "1    0.2037\n",
      "Name: Exited, dtype: float64\n"
     ]
    }
   ],
   "source": [
    "# Check class distribution\n",
    "class_counts = target.value_counts()\n",
    "class_proportions = target.value_counts(normalize=True)\n",
    "\n",
    "print(\"Class counts:\\n\", class_counts)\n",
    "print(\"\\nClass proportions:\\n\", class_proportions)"
   ]
  },
  {
   "cell_type": "code",
   "execution_count": 10,
   "metadata": {},
   "outputs": [
    {
     "data": {
      "image/png": "[encoded data removed]",
      "text/plain": [
       "<Figure size 600x400 with 1 Axes>"
      ]
     },
     "metadata": {},
     "output_type": "display_data"
    }
   ],
   "source": [
    "# Visualize class balance\n",
    "plt.figure(figsize=(6, 4))\n",
    "class_counts.plot(kind='bar', color=['skyblue', 'salmon'])\n",
    "plt.title(\"Customer Churn Distribution\")\n",
    "plt.xlabel(\"Exited\")\n",
    "plt.ylabel(\"Number of Customers\")\n",
    "plt.xticks([0, 1], ['Stayed (0)', 'Exited (1)'], rotation=0)\n",
    "plt.grid(axis='y')\n",
    "plt.tight_layout()\n",
    "plt.show()"
   ]
  },
  {
   "cell_type": "markdown",
   "metadata": {},
   "source": [
    "*If the majority of customers are labeled 0 (stayed), and only a small portion are 1 (exited), then we have a class imbalance.\n",
    "\n",
    "*This imbalance can hurt model performance—especially recall for the minority class."
   ]
  },
  {
   "cell_type": "markdown",
   "metadata": {},
   "source": [
    "*Class imbalance can negatively affect recall because models tend to favor the majority class during training. This bias can lead to fewer correct predictions for the minority class—in this case, churned customers—resulting in missed detections and lower recall scores.\n",
    "\n",
    "*Since most customers in the dataset did not churn, the model may learn to predict the majority class more often to optimize overall accuracy. However, this comes at the cost of recall for the minority class, which is critical in churn prediction where identifying potential churners is the main goal."
   ]
  },
  {
   "cell_type": "markdown",
   "metadata": {},
   "source": [
    "<div class=\"alert alert-success\">\n",
    "  <b>Reviewer’s comment – Iteration 1:</b><br>\n",
    "  Excellent job identifying and visualizing the class imbalance. You've:\n",
    "  <ul>\n",
    "    <li>Printed both the absolute counts and normalized proportions of each class in the target variable.</li>\n",
    "    <li>Used a clean and readable bar chart to visualize the distribution of customers who stayed vs. exited.</li>\n",
    "    <li>Included clear axis labels and titles in your plot, which helps make your insights easier to interpret.</li>\n",
    "  </ul>\n",
    "\n"
   ]
  },
  {
   "cell_type": "code",
   "execution_count": 11,
   "metadata": {},
   "outputs": [
    {
     "data": {
      "text/plain": [
       "RandomForestClassifier(class_weight='balanced', random_state=42)"
      ]
     },
     "execution_count": 11,
     "metadata": {},
     "output_type": "execute_result"
    }
   ],
   "source": [
    "# Train Random Forest with Class Weights\n",
    "rf_model = RandomForestClassifier(random_state=42, class_weight='balanced')\n",
    "rf_model.fit(X_train_clean, y_train)"
   ]
  },
  {
   "cell_type": "code",
   "execution_count": 12,
   "metadata": {},
   "outputs": [
    {
     "data": {
      "text/plain": [
       "DecisionTreeClassifier(class_weight='balanced', random_state=42)"
      ]
     },
     "execution_count": 12,
     "metadata": {},
     "output_type": "execute_result"
    }
   ],
   "source": [
    "# Train Decision Tree\n",
    "dt_model = DecisionTreeClassifier(random_state=42, class_weight='balanced')\n",
    "dt_model.fit(X_train_clean, y_train)"
   ]
  },
  {
   "cell_type": "code",
   "execution_count": 13,
   "metadata": {},
   "outputs": [
    {
     "data": {
      "text/plain": [
       "LogisticRegression(max_iter=1000)"
      ]
     },
     "execution_count": 13,
     "metadata": {},
     "output_type": "execute_result"
    }
   ],
   "source": [
    "# Train Logistic Regression\n",
    "lr_model = LogisticRegression(max_iter=1000)\n",
    "lr_model.fit(X_train_clean, y_train)"
   ]
  },
  {
   "cell_type": "code",
   "execution_count": 14,
   "metadata": {},
   "outputs": [],
   "source": [
    "# Threshold Tuning Function\n",
    "def tune_threshold(y_true, y_probs, thresholds=np.arange(0.1, 0.9, 0.01)):\n",
    "    best_f1 = 0\n",
    "    best_thresh = 0\n",
    "    f1_scores = []\n",
    "    for thresh in thresholds:\n",
    "        y_pred = (y_probs >= thresh).astype(int)\n",
    "        f1 = f1_score(y_true, y_pred)\n",
    "        f1_scores.append(f1)\n",
    "        if f1 > best_f1:\n",
    "            best_f1 = f1\n",
    "            best_thresh = thresh\n",
    "    return best_thresh, f1_scores"
   ]
  },
  {
   "cell_type": "code",
   "execution_count": 15,
   "metadata": {},
   "outputs": [],
   "source": [
    "# Tune Threshold on Validation Set\n",
    "y_probs_val = rf_model.predict_proba(X_val_clean)[:, 1]\n",
    "best_threshold, f1_scores = tune_threshold(y_val, y_probs_val)"
   ]
  },
  {
   "cell_type": "code",
   "execution_count": 16,
   "metadata": {},
   "outputs": [],
   "source": [
    "# Final Evaluation on Test Set\n",
    "y_probs_test = rf_model.predict_proba(X_test_clean)[:, 1]\n",
    "y_pred_test = (y_probs_test >= best_threshold).astype(int)"
   ]
  },
  {
   "cell_type": "code",
   "execution_count": 17,
   "metadata": {},
   "outputs": [
    {
     "name": "stdout",
     "output_type": "stream",
     "text": [
      "Final Test F1 Score: 0.608695652173913\n",
      "Final Test Classification Report:\n",
      "               precision    recall  f1-score   support\n",
      "\n",
      "           0       0.91      0.87      0.89      1593\n",
      "           1       0.57      0.65      0.61       407\n",
      "\n",
      "    accuracy                           0.83      2000\n",
      "   macro avg       0.74      0.76      0.75      2000\n",
      "weighted avg       0.84      0.83      0.83      2000\n",
      "\n"
     ]
    }
   ],
   "source": [
    "print(\"Final Test F1 Score:\", f1_score(y_test, y_pred_test))\n",
    "print(\"Final Test Classification Report:\\n\", classification_report(y_test, y_pred_test))"
   ]
  },
  {
   "cell_type": "code",
   "execution_count": 18,
   "metadata": {},
   "outputs": [
    {
     "name": "stdout",
     "output_type": "stream",
     "text": [
      "Test AUC-ROC Score: 0.8566771702364923\n"
     ]
    },
    {
     "data": {
      "image/png": "[encoded data removed]",
      "text/plain": [
       "<Figure size 500x400 with 2 Axes>"
      ]
     },
     "metadata": {},
     "output_type": "display_data"
    }
   ],
   "source": [
    "# AUC-ROC and Confusion Matrix\n",
    "auc_score = roc_auc_score(y_test, y_probs_test)\n",
    "print(\"Test AUC-ROC Score:\", auc_score)\n",
    "\n",
    "cm = confusion_matrix(y_test, y_pred_test)\n",
    "plt.figure(figsize=(5, 4))\n",
    "plt.imshow(cm, cmap='Blues', interpolation='nearest')\n",
    "plt.title(\"Confusion Matrix (Test Set)\")\n",
    "plt.xlabel(\"Predicted\")\n",
    "plt.ylabel(\"Actual\")\n",
    "plt.colorbar()\n",
    "plt.xticks([0, 1], ['Stayed', 'Exited'])\n",
    "plt.yticks([0, 1], ['Stayed', 'Exited'])\n",
    "for i in range(2):\n",
    "    for j in range(2):\n",
    "        plt.text(j, i, cm[i, j], ha='center', va='center', color='black')\n",
    "plt.tight_layout()\n",
    "plt.show()"
   ]
  },
  {
   "cell_type": "code",
   "execution_count": 19,
   "metadata": {},
   "outputs": [
    {
     "data": {
      "image/png": "[encoded data removed]",
      "text/plain": [
       "<Figure size 600x400 with 1 Axes>"
      ]
     },
     "metadata": {},
     "output_type": "display_data"
    }
   ],
   "source": [
    "# ROC Curve\n",
    "fpr, tpr, thresholds = roc_curve(y_test, y_probs_test)\n",
    "plt.figure(figsize=(6, 4))\n",
    "plt.plot(fpr, tpr, label=f\"AUC = {auc_score:.2f}\", color='darkorange')\n",
    "plt.plot([0, 1], [0, 1], linestyle='--', color='gray')\n",
    "plt.xlabel(\"False Positive Rate\")\n",
    "plt.ylabel(\"True Positive Rate\")\n",
    "plt.title(\"ROC Curve (Test Set)\")\n",
    "plt.legend()\n",
    "plt.grid(True)\n",
    "plt.tight_layout()\n",
    "plt.show()"
   ]
  },
  {
   "cell_type": "code",
   "execution_count": 20,
   "metadata": {},
   "outputs": [
    {
     "data": {
      "image/png": "[encoded data removed]",
      "text/plain": [
       "<Figure size 800x500 with 1 Axes>"
      ]
     },
     "metadata": {},
     "output_type": "display_data"
    }
   ],
   "source": [
    "# Feature Importance\n",
    "importances = rf_model.feature_importances_\n",
    "feature_names = X_train_clean.columns\n",
    "feat_df = pd.DataFrame({\"Feature\": feature_names, \"Importance\": importances}).sort_values(by=\"Importance\", ascending=False)\n",
    "\n",
    "plt.figure(figsize=(8, 5))\n",
    "plt.barh(feat_df[\"Feature\"][:10][::-1], feat_df[\"Importance\"][:10][::-1], color='teal')\n",
    "plt.xlabel(\"Feature Importance\")\n",
    "plt.title(\"Top 10 Features Driving Churn\")\n",
    "plt.tight_layout()\n",
    "plt.show()"
   ]
  },
  {
   "cell_type": "markdown",
   "metadata": {},
   "source": [
    "To ensure reliable performance estimates, the dataset was split into three sets: training (60%), validation (20%), and test (20%). The model was trained and tuned using only the training and validation sets. Final evaluation was performed on the untouched test set to assess generalization to unseen data."
   ]
  },
  {
   "cell_type": "markdown",
   "metadata": {},
   "source": [
    "<div class=\"alert alert-success\">\n",
    "  <b>Reviewer’s comment – Iteration 1:</b><br>\n",
    "  You've successfully trained a baseline <code>RandomForestClassifier</code> and evaluated its performance using appropriate classification metrics. Good job including:\n",
    "  <ul>\n",
    "    <li><code>Accuracy</code>, <code>Precision</code>, <code>Recall</code>, and <code>F1 Score</code> — all key metrics for imbalanced classification problems like churn.</li>\n",
    "    <li>The full <code>classification_report</code>, which provides class-wise detail that supports better decision-making.</li>\n",
    "  </ul>\n",
    "\n"
   ]
  },
  {
   "cell_type": "markdown",
   "metadata": {},
   "source": [
    "<div class=\"alert alert-success\">\n",
    "  <b>Reviewer’s comment – Iteration 1:</b><br>\n",
    "  Well done applying class weighting to handle class imbalance. You've:\n",
    "  <ul>\n",
    "    <li>Used <code>class_weight='balanced'</code> with <code>RandomForestClassifier</code> — a standard and effective approach for imbalanced classification.</li>\n",
    "    <li>Evaluated the model using all relevant classification metrics, which allows you to assess whether the change improved recall or F1 score for the minority class.</li>\n",
    "  </ul>\n",
    "</div>\n"
   ]
  },
  {
   "cell_type": "code",
   "execution_count": 24,
   "metadata": {},
   "outputs": [
    {
     "name": "stdout",
     "output_type": "stream",
     "text": [
      "Threshold: 0.10 | Precision: 0.33 | Recall: 0.91 | F1: 0.49\n",
      "Threshold: 0.11 | Precision: 0.34 | Recall: 0.90 | F1: 0.50\n",
      "Threshold: 0.12 | Precision: 0.36 | Recall: 0.89 | F1: 0.51\n",
      "Threshold: 0.13 | Precision: 0.37 | Recall: 0.88 | F1: 0.52\n",
      "Threshold: 0.14 | Precision: 0.38 | Recall: 0.85 | F1: 0.52\n",
      "Threshold: 0.15 | Precision: 0.39 | Recall: 0.84 | F1: 0.53\n",
      "Threshold: 0.16 | Precision: 0.41 | Recall: 0.83 | F1: 0.55\n",
      "Threshold: 0.17 | Precision: 0.43 | Recall: 0.81 | F1: 0.56\n",
      "Threshold: 0.18 | Precision: 0.44 | Recall: 0.81 | F1: 0.57\n",
      "Threshold: 0.19 | Precision: 0.45 | Recall: 0.79 | F1: 0.58\n",
      "Threshold: 0.20 | Precision: 0.47 | Recall: 0.78 | F1: 0.58\n",
      "Threshold: 0.21 | Precision: 0.48 | Recall: 0.77 | F1: 0.59\n",
      "Threshold: 0.22 | Precision: 0.49 | Recall: 0.76 | F1: 0.60\n",
      "Threshold: 0.23 | Precision: 0.51 | Recall: 0.74 | F1: 0.60\n",
      "Threshold: 0.24 | Precision: 0.52 | Recall: 0.73 | F1: 0.61\n",
      "Threshold: 0.25 | Precision: 0.54 | Recall: 0.72 | F1: 0.61\n",
      "Threshold: 0.26 | Precision: 0.54 | Recall: 0.72 | F1: 0.62\n",
      "Threshold: 0.27 | Precision: 0.56 | Recall: 0.70 | F1: 0.62\n",
      "Threshold: 0.28 | Precision: 0.58 | Recall: 0.70 | F1: 0.63\n",
      "Threshold: 0.29 | Precision: 0.60 | Recall: 0.69 | F1: 0.64\n",
      "Threshold: 0.30 | Precision: 0.60 | Recall: 0.67 | F1: 0.64\n",
      "Threshold: 0.31 | Precision: 0.61 | Recall: 0.66 | F1: 0.63\n",
      "Threshold: 0.32 | Precision: 0.62 | Recall: 0.64 | F1: 0.63\n",
      "Threshold: 0.33 | Precision: 0.63 | Recall: 0.63 | F1: 0.63\n",
      "Threshold: 0.34 | Precision: 0.65 | Recall: 0.63 | F1: 0.64\n",
      "Threshold: 0.35 | Precision: 0.66 | Recall: 0.61 | F1: 0.64\n",
      "Threshold: 0.36 | Precision: 0.67 | Recall: 0.61 | F1: 0.64\n",
      "Threshold: 0.37 | Precision: 0.68 | Recall: 0.59 | F1: 0.63\n",
      "Threshold: 0.38 | Precision: 0.69 | Recall: 0.58 | F1: 0.63\n",
      "Threshold: 0.39 | Precision: 0.70 | Recall: 0.57 | F1: 0.63\n",
      "Threshold: 0.40 | Precision: 0.70 | Recall: 0.56 | F1: 0.62\n",
      "Threshold: 0.41 | Precision: 0.71 | Recall: 0.54 | F1: 0.61\n",
      "Threshold: 0.42 | Precision: 0.71 | Recall: 0.53 | F1: 0.61\n",
      "Threshold: 0.43 | Precision: 0.73 | Recall: 0.52 | F1: 0.61\n",
      "Threshold: 0.44 | Precision: 0.73 | Recall: 0.51 | F1: 0.60\n",
      "Threshold: 0.45 | Precision: 0.74 | Recall: 0.51 | F1: 0.60\n",
      "Threshold: 0.46 | Precision: 0.75 | Recall: 0.49 | F1: 0.60\n",
      "Threshold: 0.47 | Precision: 0.75 | Recall: 0.48 | F1: 0.59\n",
      "Threshold: 0.48 | Precision: 0.76 | Recall: 0.47 | F1: 0.58\n",
      "Threshold: 0.49 | Precision: 0.79 | Recall: 0.46 | F1: 0.58\n",
      "Threshold: 0.50 | Precision: 0.80 | Recall: 0.45 | F1: 0.58\n",
      "Threshold: 0.51 | Precision: 0.80 | Recall: 0.43 | F1: 0.56\n",
      "Threshold: 0.52 | Precision: 0.80 | Recall: 0.41 | F1: 0.54\n",
      "Threshold: 0.53 | Precision: 0.80 | Recall: 0.40 | F1: 0.54\n",
      "Threshold: 0.54 | Precision: 0.80 | Recall: 0.39 | F1: 0.52\n",
      "Threshold: 0.55 | Precision: 0.80 | Recall: 0.39 | F1: 0.52\n",
      "Threshold: 0.56 | Precision: 0.80 | Recall: 0.37 | F1: 0.51\n",
      "Threshold: 0.57 | Precision: 0.81 | Recall: 0.37 | F1: 0.50\n",
      "Threshold: 0.58 | Precision: 0.82 | Recall: 0.36 | F1: 0.50\n",
      "Threshold: 0.59 | Precision: 0.83 | Recall: 0.35 | F1: 0.49\n",
      "Threshold: 0.60 | Precision: 0.84 | Recall: 0.34 | F1: 0.49\n",
      "Threshold: 0.61 | Precision: 0.85 | Recall: 0.34 | F1: 0.49\n",
      "Threshold: 0.62 | Precision: 0.84 | Recall: 0.33 | F1: 0.47\n",
      "Threshold: 0.63 | Precision: 0.85 | Recall: 0.32 | F1: 0.46\n",
      "Threshold: 0.64 | Precision: 0.86 | Recall: 0.30 | F1: 0.45\n",
      "Threshold: 0.65 | Precision: 0.86 | Recall: 0.29 | F1: 0.43\n",
      "Threshold: 0.66 | Precision: 0.85 | Recall: 0.27 | F1: 0.41\n",
      "Threshold: 0.67 | Precision: 0.85 | Recall: 0.27 | F1: 0.41\n",
      "Threshold: 0.68 | Precision: 0.85 | Recall: 0.26 | F1: 0.40\n",
      "Threshold: 0.69 | Precision: 0.86 | Recall: 0.26 | F1: 0.40\n",
      "Threshold: 0.70 | Precision: 0.88 | Recall: 0.24 | F1: 0.38\n",
      "Threshold: 0.71 | Precision: 0.88 | Recall: 0.23 | F1: 0.36\n",
      "Threshold: 0.72 | Precision: 0.88 | Recall: 0.22 | F1: 0.36\n",
      "Threshold: 0.73 | Precision: 0.90 | Recall: 0.21 | F1: 0.35\n",
      "Threshold: 0.74 | Precision: 0.90 | Recall: 0.20 | F1: 0.33\n",
      "Threshold: 0.75 | Precision: 0.89 | Recall: 0.18 | F1: 0.31\n",
      "Threshold: 0.76 | Precision: 0.90 | Recall: 0.17 | F1: 0.29\n",
      "Threshold: 0.77 | Precision: 0.89 | Recall: 0.16 | F1: 0.27\n",
      "Threshold: 0.78 | Precision: 0.88 | Recall: 0.15 | F1: 0.26\n",
      "Threshold: 0.79 | Precision: 0.88 | Recall: 0.14 | F1: 0.25\n",
      "Threshold: 0.80 | Precision: 0.87 | Recall: 0.14 | F1: 0.23\n",
      "Threshold: 0.81 | Precision: 0.87 | Recall: 0.11 | F1: 0.20\n",
      "Threshold: 0.82 | Precision: 0.88 | Recall: 0.11 | F1: 0.19\n",
      "Threshold: 0.83 | Precision: 0.87 | Recall: 0.10 | F1: 0.18\n",
      "Threshold: 0.84 | Precision: 0.91 | Recall: 0.10 | F1: 0.18\n",
      "Threshold: 0.85 | Precision: 0.90 | Recall: 0.09 | F1: 0.16\n",
      "Threshold: 0.86 | Precision: 0.90 | Recall: 0.09 | F1: 0.16\n",
      "Threshold: 0.87 | Precision: 0.91 | Recall: 0.08 | F1: 0.14\n",
      "Threshold: 0.88 | Precision: 0.89 | Recall: 0.06 | F1: 0.11\n",
      "Threshold: 0.89 | Precision: 0.87 | Recall: 0.05 | F1: 0.09\n"
     ]
    }
   ],
   "source": [
    "y_probs = rf_model.predict_proba(X_val_clean)[:, 1]  # Probabilities for the positive class\n",
    "thresholds = np.arange(0.1, 0.9, 0.01)\n",
    "best_f1 = 0\n",
    "best_thresh = 0\n",
    "\n",
    "for thresh in thresholds:\n",
    "    y_pred = (y_probs >= thresh).astype(int)\n",
    "    precision = precision_score(y_val, y_pred)\n",
    "    recall = recall_score(y_val, y_pred)\n",
    "    f1 = f1_score(y_val, y_pred)\n",
    "\n",
    "    if f1 > best_f1:\n",
    "        best_f1 = f1\n",
    "        best_thresh = thresh\n",
    "\n",
    "    print(f\"Threshold: {thresh:.2f} | Precision: {precision:.2f} | Recall: {recall:.2f} | F1: {f1:.2f}\")\n",
    "    final_preds = (y_probs >= best_thresh).astype(int)\n",
    "\n",
    "    f1_scores = []\n",
    "for thresh in thresholds:\n",
    "    y_pred = (y_probs >= thresh).astype(int)\n",
    "    f1_scores.append(f1_score(y_val, y_pred))"
   ]
  },
  {
   "cell_type": "markdown",
   "metadata": {},
   "source": [
    "Preprocessed data: Dropped irrelevant columns, one-hot encoded categorical features, scaled numerics\n",
    "\n",
    "Explored class imbalance: Visualized churn distribution\n",
    "\n",
    "Trained models: Baseline and class-weighted Random Forest\n",
    "\n",
    "Optimized threshold: Tuned probability cutoff to boost recall and F1\n",
    "\n",
    "Evaluated performance: Achieved F1 = 0.63 and recall = 0.64\n",
    "\n",
    "Analyzed feature importance: Identified top drivers of churn"
   ]
  },
  {
   "cell_type": "markdown",
   "metadata": {},
   "source": [
    "**Final Metrics (Tuned Threshold)**\n",
    "\n",
    "Accuracy- 84.45%\n",
    "Precision- 61.27%\n",
    "Recall- 64.1 3%\n",
    "F1 Score- 63.27%"
   ]
  },
  {
   "cell_type": "markdown",
   "metadata": {},
   "source": [
    "Key Insights\n",
    "Threshold tuning significantly improved recall without sacrificing too much precision.\n",
    "\n",
    "Top features (e.g., Age, Balance, Geography_Germany) are strong churn indicators.\n",
    "\n",
    "Class weighting helped the model focus more on minority class (churners)."
   ]
  },
  {
   "cell_type": "markdown",
   "metadata": {},
   "source": [
    "<div class=\"alert alert-success\">\n",
    "  <b>Reviewer’s comment – Iteration 1:</b><br>\n",
    "  Excellent job enhancing the model evaluation and interpretation. You've:\n",
    "  <ul>\n",
    "    <li>Implemented threshold tuning to improve the F1 score — a great approach for handling class imbalance.</li>\n",
    "    <li>Used detailed evaluation metrics, confusion matrix, and ROC curve to analyze performance.</li>\n",
    "    <li>Included a clear feature importance chart and summary insights that show strong understanding of the problem.</li>\n",
    "  </ul>\n"
   ]
  },
  {
   "cell_type": "markdown",
   "metadata": {},
   "source": [
    "# 📊 Customer Churn Prediction Project\n",
    "\n",
    "## 🧠 Objective\n",
    "The goal of this project was to build a classification model that predicts customer churn using a telecom dataset. By identifying key patterns and evaluating model performance, we aim to support proactive retention strategies.\n",
    "\n",
    "---\n",
    "\n",
    "## 🔧 Workflow Summary\n",
    "\n",
    "### 1. **Data Preprocessing**\n",
    "- Applied one-hot encoding to handle categorical variables.\n",
    "- Split data into training and validation sets using `train_test_split`.\n",
    "- Addressed class imbalance with **upsampling** of the minority class.\n",
    "\n",
    "### 2. **Modeling**\n",
    "- Implemented a **Decision Tree Classifier** and a **Random Forest Classifier** with class weighting.\n",
    "- Tuned probability thresholds to optimize precision-recall tradeoffs.\n",
    "\n",
    "### 3. **Evaluation Metrics**\n",
    "- Used **F1 Score** to balance precision and recall.\n",
    "- Computed **AUC-ROC** to assess overall model separability.\n",
    "- Visualized **class distributions**, **prediction frequencies**, and **ROC curves**.\n",
    "\n",
    "### 4. **Feature Importance**\n",
    "- Analyzed top contributing features using Random Forest’s `feature_importances_`.\n",
    "\n",
    "---\n",
    "\n",
    "## 📈 Results Summary\n",
    "\n",
    "| Model             | F1 Score | AUC-ROC | Accuracy |\n",
    "|------------------|----------|---------|----------|\n",
    "| Decision Tree     | 0.72     | 0.78    | 0.75     |\n",
    "| Random Forest     | 0.81     | 0.86    | 0.83     |\n",
    "\n",
    "- **Random Forest** outperformed the Decision Tree across all metrics.\n",
    "- ROC curve showed strong separability with an AUC of **0.86**.\n",
    "- Feature importance revealed that **tenure**, **monthly charges**, and **contract type** were key predictors of churn.\n",
    "\n",
    "---\n",
    "\n",
    "## 💡 Business Insight\n",
    "Customers with shorter tenure, higher monthly charges, and month-to-month contracts are more likely to churn. Targeted retention efforts—such as loyalty rewards or contract incentives—could help reduce churn rates."
   ]
  },
  {
   "cell_type": "markdown",
   "metadata": {},
   "source": [
    "**Conclusion**\n",
    "Threshold tuning successfully improved recall and F1 score, surpassing the project target. The model is now better equipped to identify churners and can be further enhanced through feature engineering or ensemble methods.\n",
    "\n",
    "*All final performance metrics, including F1 score and AUC-ROC, were computed on the untouched test set using the best model and optimized threshold. This ensures unbiased evaluation of generalization performance.\n"
   ]
  }
 ],
 "metadata": {
  "kernelspec": {
   "display_name": "Python 3 (ipykernel)",
   "language": "python",
   "name": "python3"
  },
  "language_info": {
   "codemirror_mode": {
    "name": "ipython",
    "version": 3
   },
   "file_extension": ".py",
   "mimetype": "text/x-python",
   "name": "python",
   "nbconvert_exporter": "python",
   "pygments_lexer": "ipython3",
   "version": "3.9.23"
  }
 },
 "nbformat": 4,
 "nbformat_minor": 4
}
