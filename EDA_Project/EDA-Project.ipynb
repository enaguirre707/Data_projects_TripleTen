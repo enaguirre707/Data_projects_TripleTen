{
 "cells": [
  {
   "cell_type": "markdown",
   "id": "79ca74bf-ff47-4363-b42a-0b15ff5d7af0",
   "metadata": {},
   "source": [
    "\n",
    "<div style=\"border:solid blue 2px; padding: 20px\">\n",
    "\n",
    "**Hello Erik,**\n",
    "\n",
    "\n",
    "Thank you for carefully addressing all the feedback from previous reviews. I appreciate the attention to detail you've shown in improving each aspect - the project looks excellent now.\n",
    "\n",
    "Congratulations on your accomplishment! Your project has been accepted, marking another exciting milestone in your journey. The quality of your work is impressive, and I'm confident you'll continue to excel in future projects.\n",
    "\n",
    "Keep up the outstanding work! ✨\n"
   ]
  },
  {
   "cell_type": "markdown",
   "id": "432259c5-5678-48b2-b032-4b9a418ebbaf",
   "metadata": {},
   "source": [
    "\n",
    "<div style=\"border:solid blue 2px; padding: 20px\">\n",
    "\n",
    "**Hello Erik,**\n",
    "\n",
    "Thank you for the updates — you did a great job!\n",
    "However, there are a couple of new errors in the code that previously worked.\n",
    "Could you please take a look and fix them?\n",
    "\n"
   ]
  },
  {
   "cell_type": "markdown",
   "id": "5c568ea6-1450-47e1-8df2-dd07dc33b7cd",
   "metadata": {},
   "source": [
    "<div style=\"border:solid blue 2px; padding: 20px\">\n",
    "\n",
    "**Hello Erik,**\n",
    "\n",
    "Congratulations on submitting your second Python practical project! 🎉  \n",
    "\n",
    "You’re making fantastic progress, and every project you complete brings you closer to mastering the skills needed to excel in data analysis. Your dedication and hard work are evident, and you should be proud of this achievement.  \n",
    "\n",
    "Keep up the great momentum — let’s dive into this project together!  \n",
    "\n",
    "---\n",
    "\n",
    "You’ll find specific notes inside the project file, marked in green, yellow, or red. Below is a quick guide to what each color represents. **Note:** Please do not remove or alter my comments, as they’ll help guide future reviews and make the process smoother for both of us.  \n",
    "\n",
    "<div class=\"alert alert-success\"; style=\"border-left: 7px solid green\">\n",
    "<b>✅ Reviewer’s Comment</b>  \n",
    "\n",
    "These comments highlight efficient solutions and great ideas that you can apply to future projects.  \n",
    "</div>  \n",
    "\n",
    "<div class=\"alert alert-warning\"; style=\"border-left: 7px solid gold\">\n",
    "<b>⚠️ Reviewer’s Comment</b>  \n",
    "\n",
    "These comments point out areas for optimization. While corrections are not mandatory, addressing them will enhance your project.  \n",
    "</div>  \n",
    "\n",
    "<div class=\"alert alert-danger\"; style=\"border-left: 7px solid red\">\n",
    "<b>⛔️ Reviewer’s Comment</b>  \n",
    "\n",
    "These comments indicate issues that must be resolved before your project can be accepted.  \n",
    "</div>  \n",
    "\n",
    "---\n",
    "\n",
    "**Project Review Summary:**  \n",
    "\n",
    "**What Went Well:**  \n",
    "\n",
    "- **Data Pre-Processing:** You demonstrated a solid understanding of Python by applying the necessary methods to pre-process the data effectively. Excellent work here!\n",
    "  \n",
    "- **Code Quality:** Your code is both optimal and easy to follow, showcasing not only your technical skills but also your ability to write clean, maintainable code.\n",
    "  \n",
    "- **Data Visualization:** The charts you plotted effectively answered the questions posed in the analysis. They were well-designed, formatted professionally, and provided clear insights. Fantastic job!\n",
    "    \n",
    "\n",
    "**Areas for Improvement:**  \n",
    "\n",
    "- There are just a couple of those and they are mentioned along the project.\n",
    "\n",
    "---\n",
    "\n",
    "Feel free to add your own comments, explain the changes you’ve made, or ask questions by using the example below. Simply copy and paste the code into a Markdown cell:  \n",
    "\n",
    "```\n",
    "<div class=\"alert alert-info\"; style=\"border-left: 7px solid blue\">\n",
    "<b>Student’s Comment</b></div>\n",
    "```  \n",
    "\n",
    "It will appear like this:  \n",
    "\n",
    "<div class=\"alert alert-info\"; style=\"border-left: 7px solid blue\">\n",
    "<b>Student’s Comment</b></div>  \n",
    "\n",
    "---\n",
    "\n",
    "Revisions are a natural and essential part of the learning process, so don’t be discouraged! Take your time to review the feedback and make the necessary updates. Once you’re ready, resubmit the project, and I’m confident you’ll excel on your next attempt.  \n",
    "\n",
    "Remember, every challenge is an opportunity to grow. You’ve got this! 🏄  \n",
    "\n",
    "</div>  \n",
    "\n"
   ]
  },
  {
   "cell_type": "markdown",
   "id": "dafcfda4-03ec-40b7-9a59-6e21ad6a2447",
   "metadata": {
    "id": "dafcfda4-03ec-40b7-9a59-6e21ad6a2447"
   },
   "source": [
    "# Instacart Market Basket Analysis"
   ]
  },
  {
   "cell_type": "markdown",
   "id": "7c513406-9b90-479c-ab2f-a02f79ade6fc",
   "metadata": {
    "id": "7c513406-9b90-479c-ab2f-a02f79ade6fc"
   },
   "source": [
    "## Importing the required libraries"
   ]
  },
  {
   "cell_type": "code",
   "execution_count": 1,
   "id": "fbf1adab",
   "metadata": {
    "id": "fbf1adab"
   },
   "outputs": [],
   "source": [
    "# Import the libraries you'll need for this analysis\n",
    "import pandas as pd\n",
    "import matplotlib.pyplot as plt"
   ]
  },
  {
   "cell_type": "markdown",
   "id": "5b98ab49-65a7-4d51-ba62-8461c760e95c",
   "metadata": {},
   "source": [
    "<div class=\"alert alert-success\"; style=\"border-left: 7px solid green\">\n",
    "<b>✅ Reviewer's Comment, v. 1</b>\n",
    "\n",
    "Great work! It’s a best practice to import all necessary libraries in the first code cell, separate from loading the datasets. This way, if you need to add another library, you won’t have to reload the dataset.\n"
   ]
  },
  {
   "cell_type": "code",
   "execution_count": 2,
   "id": "fe188ef3-27b2-4825-b955-232cdd326307",
   "metadata": {
    "id": "fe188ef3-27b2-4825-b955-232cdd326307"
   },
   "outputs": [],
   "source": [
    "# Load the datasets\n",
    "# Note: These files use semicolon (;) as the separator instead of comma\n",
    "orders         = pd.read_csv('/datasets/instacart_orders.csv', sep=';')\n",
    "products       = pd.read_csv('/datasets/products.csv', sep=';')\n",
    "departments    = pd.read_csv('/datasets/departments.csv', sep=';')\n",
    "aisles         = pd.read_csv('/datasets/aisles.csv', sep=';')\n",
    "order_products = pd.read_csv('/datasets/order_products.csv', sep=';')"
   ]
  },
  {
   "cell_type": "markdown",
   "id": "9a38987c-bf93-4219-b61a-d31781438c8e",
   "metadata": {
    "id": "9a38987c-bf93-4219-b61a-d31781438c8e"
   },
   "source": [
    "## Analyze your data"
   ]
  },
  {
   "cell_type": "markdown",
   "id": "04d4b1a9-a75f-4c89-a297-3a6002b0e53d",
   "metadata": {
    "id": "04d4b1a9-a75f-4c89-a297-3a6002b0e53d"
   },
   "source": [
    "In the cells below, display the datasets using `.info()` and `.head()` to gain insights into their structure and content.\n",
    "\n",
    "- `.info()`: Provides a concise summary of the dataset, including the data types, non-null counts, and memory usage.\n",
    "- `.head()`: Displays the first few rows of the dataset, offering a quick overview of the data values."
   ]
  },
  {
   "cell_type": "code",
   "execution_count": 3,
   "id": "10cc6096-d5ba-40b9-ba42-967e2fb7dec1",
   "metadata": {
    "id": "10cc6096-d5ba-40b9-ba42-967e2fb7dec1",
    "scrolled": true
   },
   "outputs": [
    {
     "data": {
      "text/html": [
       "<div>\n",
       "<style scoped>\n",
       "    .dataframe tbody tr th:only-of-type {\n",
       "        vertical-align: middle;\n",
       "    }\n",
       "\n",
       "    .dataframe tbody tr th {\n",
       "        vertical-align: top;\n",
       "    }\n",
       "\n",
       "    .dataframe thead th {\n",
       "        text-align: right;\n",
       "    }\n",
       "</style>\n",
       "<table border=\"1\" class=\"dataframe\">\n",
       "  <thead>\n",
       "    <tr style=\"text-align: right;\">\n",
       "      <th></th>\n",
       "      <th>order_id</th>\n",
       "      <th>user_id</th>\n",
       "      <th>order_number</th>\n",
       "      <th>order_dow</th>\n",
       "      <th>order_hour_of_day</th>\n",
       "      <th>days_since_prior_order</th>\n",
       "    </tr>\n",
       "  </thead>\n",
       "  <tbody>\n",
       "    <tr>\n",
       "      <th>0</th>\n",
       "      <td>1515936</td>\n",
       "      <td>183418</td>\n",
       "      <td>11</td>\n",
       "      <td>6</td>\n",
       "      <td>13</td>\n",
       "      <td>30.0</td>\n",
       "    </tr>\n",
       "    <tr>\n",
       "      <th>1</th>\n",
       "      <td>1690866</td>\n",
       "      <td>163593</td>\n",
       "      <td>5</td>\n",
       "      <td>5</td>\n",
       "      <td>12</td>\n",
       "      <td>9.0</td>\n",
       "    </tr>\n",
       "    <tr>\n",
       "      <th>2</th>\n",
       "      <td>1454967</td>\n",
       "      <td>39980</td>\n",
       "      <td>4</td>\n",
       "      <td>5</td>\n",
       "      <td>19</td>\n",
       "      <td>2.0</td>\n",
       "    </tr>\n",
       "    <tr>\n",
       "      <th>3</th>\n",
       "      <td>1768857</td>\n",
       "      <td>82516</td>\n",
       "      <td>56</td>\n",
       "      <td>0</td>\n",
       "      <td>20</td>\n",
       "      <td>10.0</td>\n",
       "    </tr>\n",
       "    <tr>\n",
       "      <th>4</th>\n",
       "      <td>3007858</td>\n",
       "      <td>196724</td>\n",
       "      <td>2</td>\n",
       "      <td>4</td>\n",
       "      <td>12</td>\n",
       "      <td>17.0</td>\n",
       "    </tr>\n",
       "  </tbody>\n",
       "</table>\n",
       "</div>"
      ],
      "text/plain": [
       "   order_id  user_id  order_number  order_dow  order_hour_of_day  \\\n",
       "0   1515936   183418            11          6                 13   \n",
       "1   1690866   163593             5          5                 12   \n",
       "2   1454967    39980             4          5                 19   \n",
       "3   1768857    82516            56          0                 20   \n",
       "4   3007858   196724             2          4                 12   \n",
       "\n",
       "   days_since_prior_order  \n",
       "0                    30.0  \n",
       "1                     9.0  \n",
       "2                     2.0  \n",
       "3                    10.0  \n",
       "4                    17.0  "
      ]
     },
     "execution_count": 3,
     "metadata": {},
     "output_type": "execute_result"
    }
   ],
   "source": [
    "# In this cell, type \"orders\" below this line and execute the cell\n",
    "orders.head()"
   ]
  },
  {
   "cell_type": "markdown",
   "id": "eef94ee1-b2c1-4540-985c-e55ba5955e9a",
   "metadata": {},
   "source": [
    "<div class=\"alert alert-success\"; style=\"border-left: 7px solid green\">\n",
    "<b>✅ Reviewer's comment, v. 3</b> \n",
    "    \n",
    "✔️ \n",
    "    "
   ]
  },
  {
   "cell_type": "code",
   "execution_count": 4,
   "id": "5130e05e",
   "metadata": {
    "id": "5130e05e"
   },
   "outputs": [
    {
     "data": {
      "text/html": [
       "<div>\n",
       "<style scoped>\n",
       "    .dataframe tbody tr th:only-of-type {\n",
       "        vertical-align: middle;\n",
       "    }\n",
       "\n",
       "    .dataframe tbody tr th {\n",
       "        vertical-align: top;\n",
       "    }\n",
       "\n",
       "    .dataframe thead th {\n",
       "        text-align: right;\n",
       "    }\n",
       "</style>\n",
       "<table border=\"1\" class=\"dataframe\">\n",
       "  <thead>\n",
       "    <tr style=\"text-align: right;\">\n",
       "      <th></th>\n",
       "      <th>product_id</th>\n",
       "      <th>product_name</th>\n",
       "      <th>aisle_id</th>\n",
       "      <th>department_id</th>\n",
       "    </tr>\n",
       "  </thead>\n",
       "  <tbody>\n",
       "    <tr>\n",
       "      <th>0</th>\n",
       "      <td>1</td>\n",
       "      <td>Chocolate Sandwich Cookies</td>\n",
       "      <td>61</td>\n",
       "      <td>19</td>\n",
       "    </tr>\n",
       "    <tr>\n",
       "      <th>1</th>\n",
       "      <td>2</td>\n",
       "      <td>All-Seasons Salt</td>\n",
       "      <td>104</td>\n",
       "      <td>13</td>\n",
       "    </tr>\n",
       "    <tr>\n",
       "      <th>2</th>\n",
       "      <td>3</td>\n",
       "      <td>Robust Golden Unsweetened Oolong Tea</td>\n",
       "      <td>94</td>\n",
       "      <td>7</td>\n",
       "    </tr>\n",
       "    <tr>\n",
       "      <th>3</th>\n",
       "      <td>4</td>\n",
       "      <td>Smart Ones Classic Favorites Mini Rigatoni Wit...</td>\n",
       "      <td>38</td>\n",
       "      <td>1</td>\n",
       "    </tr>\n",
       "    <tr>\n",
       "      <th>4</th>\n",
       "      <td>5</td>\n",
       "      <td>Green Chile Anytime Sauce</td>\n",
       "      <td>5</td>\n",
       "      <td>13</td>\n",
       "    </tr>\n",
       "  </tbody>\n",
       "</table>\n",
       "</div>"
      ],
      "text/plain": [
       "   product_id                                       product_name  aisle_id  \\\n",
       "0           1                         Chocolate Sandwich Cookies        61   \n",
       "1           2                                   All-Seasons Salt       104   \n",
       "2           3               Robust Golden Unsweetened Oolong Tea        94   \n",
       "3           4  Smart Ones Classic Favorites Mini Rigatoni Wit...        38   \n",
       "4           5                          Green Chile Anytime Sauce         5   \n",
       "\n",
       "   department_id  \n",
       "0             19  \n",
       "1             13  \n",
       "2              7  \n",
       "3              1  \n",
       "4             13  "
      ]
     },
     "execution_count": 4,
     "metadata": {},
     "output_type": "execute_result"
    }
   ],
   "source": [
    "# In this cell, type \"products\" below this line and execute the cell\n",
    "products.head()"
   ]
  },
  {
   "cell_type": "markdown",
   "id": "5143e30d-f791-4596-b1f2-3c64cf8d2243",
   "metadata": {
    "id": "5143e30d-f791-4596-b1f2-3c64cf8d2243"
   },
   "source": [
    "Repeat this process for each dataset to understand the structure, including the types of columns and rows they contain. Add additional code cells as needed for your analysis."
   ]
  },
  {
   "cell_type": "code",
   "execution_count": 5,
   "id": "688eb0d9-387c-4ef8-8aa2-49e2d24ed2d1",
   "metadata": {},
   "outputs": [
    {
     "data": {
      "text/html": [
       "<div>\n",
       "<style scoped>\n",
       "    .dataframe tbody tr th:only-of-type {\n",
       "        vertical-align: middle;\n",
       "    }\n",
       "\n",
       "    .dataframe tbody tr th {\n",
       "        vertical-align: top;\n",
       "    }\n",
       "\n",
       "    .dataframe thead th {\n",
       "        text-align: right;\n",
       "    }\n",
       "</style>\n",
       "<table border=\"1\" class=\"dataframe\">\n",
       "  <thead>\n",
       "    <tr style=\"text-align: right;\">\n",
       "      <th></th>\n",
       "      <th>department_id</th>\n",
       "      <th>department</th>\n",
       "    </tr>\n",
       "  </thead>\n",
       "  <tbody>\n",
       "    <tr>\n",
       "      <th>0</th>\n",
       "      <td>1</td>\n",
       "      <td>frozen</td>\n",
       "    </tr>\n",
       "    <tr>\n",
       "      <th>1</th>\n",
       "      <td>2</td>\n",
       "      <td>other</td>\n",
       "    </tr>\n",
       "    <tr>\n",
       "      <th>2</th>\n",
       "      <td>3</td>\n",
       "      <td>bakery</td>\n",
       "    </tr>\n",
       "    <tr>\n",
       "      <th>3</th>\n",
       "      <td>4</td>\n",
       "      <td>produce</td>\n",
       "    </tr>\n",
       "    <tr>\n",
       "      <th>4</th>\n",
       "      <td>5</td>\n",
       "      <td>alcohol</td>\n",
       "    </tr>\n",
       "  </tbody>\n",
       "</table>\n",
       "</div>"
      ],
      "text/plain": [
       "   department_id department\n",
       "0              1     frozen\n",
       "1              2      other\n",
       "2              3     bakery\n",
       "3              4    produce\n",
       "4              5    alcohol"
      ]
     },
     "execution_count": 5,
     "metadata": {},
     "output_type": "execute_result"
    }
   ],
   "source": [
    "departments.head()"
   ]
  },
  {
   "cell_type": "code",
   "execution_count": 6,
   "id": "703ffcd7-537d-4db0-9ba1-d8a74adf0217",
   "metadata": {},
   "outputs": [
    {
     "data": {
      "text/html": [
       "<div>\n",
       "<style scoped>\n",
       "    .dataframe tbody tr th:only-of-type {\n",
       "        vertical-align: middle;\n",
       "    }\n",
       "\n",
       "    .dataframe tbody tr th {\n",
       "        vertical-align: top;\n",
       "    }\n",
       "\n",
       "    .dataframe thead th {\n",
       "        text-align: right;\n",
       "    }\n",
       "</style>\n",
       "<table border=\"1\" class=\"dataframe\">\n",
       "  <thead>\n",
       "    <tr style=\"text-align: right;\">\n",
       "      <th></th>\n",
       "      <th>aisle_id</th>\n",
       "      <th>aisle</th>\n",
       "    </tr>\n",
       "  </thead>\n",
       "  <tbody>\n",
       "    <tr>\n",
       "      <th>0</th>\n",
       "      <td>1</td>\n",
       "      <td>prepared soups salads</td>\n",
       "    </tr>\n",
       "    <tr>\n",
       "      <th>1</th>\n",
       "      <td>2</td>\n",
       "      <td>specialty cheeses</td>\n",
       "    </tr>\n",
       "    <tr>\n",
       "      <th>2</th>\n",
       "      <td>3</td>\n",
       "      <td>energy granola bars</td>\n",
       "    </tr>\n",
       "    <tr>\n",
       "      <th>3</th>\n",
       "      <td>4</td>\n",
       "      <td>instant foods</td>\n",
       "    </tr>\n",
       "    <tr>\n",
       "      <th>4</th>\n",
       "      <td>5</td>\n",
       "      <td>marinades meat preparation</td>\n",
       "    </tr>\n",
       "  </tbody>\n",
       "</table>\n",
       "</div>"
      ],
      "text/plain": [
       "   aisle_id                       aisle\n",
       "0         1       prepared soups salads\n",
       "1         2           specialty cheeses\n",
       "2         3         energy granola bars\n",
       "3         4               instant foods\n",
       "4         5  marinades meat preparation"
      ]
     },
     "execution_count": 6,
     "metadata": {},
     "output_type": "execute_result"
    }
   ],
   "source": [
    "aisles.head()"
   ]
  },
  {
   "cell_type": "code",
   "execution_count": 7,
   "id": "365c6ebd-a89e-46e5-94ad-df10b029e9c8",
   "metadata": {},
   "outputs": [
    {
     "data": {
      "text/html": [
       "<div>\n",
       "<style scoped>\n",
       "    .dataframe tbody tr th:only-of-type {\n",
       "        vertical-align: middle;\n",
       "    }\n",
       "\n",
       "    .dataframe tbody tr th {\n",
       "        vertical-align: top;\n",
       "    }\n",
       "\n",
       "    .dataframe thead th {\n",
       "        text-align: right;\n",
       "    }\n",
       "</style>\n",
       "<table border=\"1\" class=\"dataframe\">\n",
       "  <thead>\n",
       "    <tr style=\"text-align: right;\">\n",
       "      <th></th>\n",
       "      <th>order_id</th>\n",
       "      <th>product_id</th>\n",
       "      <th>add_to_cart_order</th>\n",
       "      <th>reordered</th>\n",
       "    </tr>\n",
       "  </thead>\n",
       "  <tbody>\n",
       "    <tr>\n",
       "      <th>0</th>\n",
       "      <td>2141543</td>\n",
       "      <td>11440</td>\n",
       "      <td>17.0</td>\n",
       "      <td>0</td>\n",
       "    </tr>\n",
       "    <tr>\n",
       "      <th>1</th>\n",
       "      <td>567889</td>\n",
       "      <td>1560</td>\n",
       "      <td>1.0</td>\n",
       "      <td>1</td>\n",
       "    </tr>\n",
       "    <tr>\n",
       "      <th>2</th>\n",
       "      <td>2261212</td>\n",
       "      <td>26683</td>\n",
       "      <td>1.0</td>\n",
       "      <td>1</td>\n",
       "    </tr>\n",
       "    <tr>\n",
       "      <th>3</th>\n",
       "      <td>491251</td>\n",
       "      <td>8670</td>\n",
       "      <td>35.0</td>\n",
       "      <td>1</td>\n",
       "    </tr>\n",
       "    <tr>\n",
       "      <th>4</th>\n",
       "      <td>2571142</td>\n",
       "      <td>1940</td>\n",
       "      <td>5.0</td>\n",
       "      <td>1</td>\n",
       "    </tr>\n",
       "  </tbody>\n",
       "</table>\n",
       "</div>"
      ],
      "text/plain": [
       "   order_id  product_id  add_to_cart_order  reordered\n",
       "0   2141543       11440               17.0          0\n",
       "1    567889        1560                1.0          1\n",
       "2   2261212       26683                1.0          1\n",
       "3    491251        8670               35.0          1\n",
       "4   2571142        1940                5.0          1"
      ]
     },
     "execution_count": 7,
     "metadata": {},
     "output_type": "execute_result"
    }
   ],
   "source": [
    "order_products.head()"
   ]
  },
  {
   "cell_type": "markdown",
   "id": "765681a7-6f60-4d1c-9160-380c9688dcb4",
   "metadata": {},
   "source": [
    "<div class=\"alert alert-success\"; style=\"border-left: 7px solid green\">\n",
    "<b>✅ Reviewer's comment, v. 2</b> \n",
    "    \n",
    "✔️ \n",
    "    \n"
   ]
  },
  {
   "cell_type": "code",
   "execution_count": 8,
   "id": "d8370c05",
   "metadata": {
    "id": "d8370c05"
   },
   "outputs": [
    {
     "name": "stdout",
     "output_type": "stream",
     "text": [
      "<class 'pandas.core.frame.DataFrame'>\n",
      "RangeIndex: 478967 entries, 0 to 478966\n",
      "Data columns (total 6 columns):\n",
      " #   Column                  Non-Null Count   Dtype  \n",
      "---  ------                  --------------   -----  \n",
      " 0   order_id                478967 non-null  int64  \n",
      " 1   user_id                 478967 non-null  int64  \n",
      " 2   order_number            478967 non-null  int64  \n",
      " 3   order_dow               478967 non-null  int64  \n",
      " 4   order_hour_of_day       478967 non-null  int64  \n",
      " 5   days_since_prior_order  450148 non-null  float64\n",
      "dtypes: float64(1), int64(5)\n",
      "memory usage: 21.9 MB\n"
     ]
    }
   ],
   "source": [
    "# In this cell, type \"orders.info() below this line and execute the cell\n",
    "orders.info()"
   ]
  },
  {
   "cell_type": "markdown",
   "id": "73bc6c88-e73f-4d53-b887-5ee6b5e6c570",
   "metadata": {
    "id": "73bc6c88-e73f-4d53-b887-5ee6b5e6c570"
   },
   "source": [
    "The \"Non-Null Count\" column provides information about any missing values in each column of the dataset. With a total of 478,952 entries, observe any columns where the non-null count is less than this number to identify missing values."
   ]
  },
  {
   "cell_type": "code",
   "execution_count": 9,
   "id": "59e2090f",
   "metadata": {
    "id": "59e2090f"
   },
   "outputs": [
    {
     "name": "stdout",
     "output_type": "stream",
     "text": [
      "<class 'pandas.core.frame.DataFrame'>\n",
      "RangeIndex: 4545007 entries, 0 to 4545006\n",
      "Data columns (total 4 columns):\n",
      " #   Column             Dtype  \n",
      "---  ------             -----  \n",
      " 0   order_id           int64  \n",
      " 1   product_id         int64  \n",
      " 2   add_to_cart_order  float64\n",
      " 3   reordered          int64  \n",
      "dtypes: float64(1), int64(3)\n",
      "memory usage: 138.7 MB\n"
     ]
    }
   ],
   "source": [
    "# In this cell, run order_products.info() below, but include the argument show_counts=True since this is a large file.\n",
    "order_products.info()"
   ]
  },
  {
   "cell_type": "markdown",
   "id": "3360e4ce-723c-45bd-8998-ca2f1db53349",
   "metadata": {
    "id": "3360e4ce-723c-45bd-8998-ca2f1db53349"
   },
   "source": [
    "Repeat the use of .info() on the remaining datasets to identify missing values and understand their structure. Check the \"Non-Null Count\" for each dataset to spot any columns with missing values."
   ]
  },
  {
   "cell_type": "code",
   "execution_count": 10,
   "id": "9903767c-ab09-4dd2-833c-2f3ece86eef4",
   "metadata": {},
   "outputs": [
    {
     "name": "stdout",
     "output_type": "stream",
     "text": [
      "<class 'pandas.core.frame.DataFrame'>\n",
      "RangeIndex: 21 entries, 0 to 20\n",
      "Data columns (total 2 columns):\n",
      " #   Column         Non-Null Count  Dtype \n",
      "---  ------         --------------  ----- \n",
      " 0   department_id  21 non-null     int64 \n",
      " 1   department     21 non-null     object\n",
      "dtypes: int64(1), object(1)\n",
      "memory usage: 464.0+ bytes\n"
     ]
    }
   ],
   "source": [
    "departments.info()"
   ]
  },
  {
   "cell_type": "code",
   "execution_count": 11,
   "id": "324b55ed-45c8-4b4d-989d-ae4167f4247c",
   "metadata": {},
   "outputs": [
    {
     "name": "stdout",
     "output_type": "stream",
     "text": [
      "<class 'pandas.core.frame.DataFrame'>\n",
      "RangeIndex: 134 entries, 0 to 133\n",
      "Data columns (total 2 columns):\n",
      " #   Column    Non-Null Count  Dtype \n",
      "---  ------    --------------  ----- \n",
      " 0   aisle_id  134 non-null    int64 \n",
      " 1   aisle     134 non-null    object\n",
      "dtypes: int64(1), object(1)\n",
      "memory usage: 2.2+ KB\n"
     ]
    }
   ],
   "source": [
    "aisles.info()"
   ]
  },
  {
   "cell_type": "code",
   "execution_count": 12,
   "id": "85f1673e-2830-4945-aaac-c4231f710cff",
   "metadata": {},
   "outputs": [
    {
     "name": "stdout",
     "output_type": "stream",
     "text": [
      "<class 'pandas.core.frame.DataFrame'>\n",
      "RangeIndex: 4545007 entries, 0 to 4545006\n",
      "Data columns (total 4 columns):\n",
      " #   Column             Dtype  \n",
      "---  ------             -----  \n",
      " 0   order_id           int64  \n",
      " 1   product_id         int64  \n",
      " 2   add_to_cart_order  float64\n",
      " 3   reordered          int64  \n",
      "dtypes: float64(1), int64(3)\n",
      "memory usage: 138.7 MB\n"
     ]
    }
   ],
   "source": [
    "order_products.info()"
   ]
  },
  {
   "cell_type": "markdown",
   "id": "2f7d7d96-c1ac-4496-ab9b-fe632d29a6c6",
   "metadata": {},
   "source": [
    "<div class=\"alert alert-success\"; style=\"border-left: 7px solid green\">\n",
    "<b>✅ Reviewer's comment, v. 2</b> \n",
    "    \n",
    "✔️ \n",
    "    \n"
   ]
  },
  {
   "cell_type": "markdown",
   "id": "1e46de76",
   "metadata": {
    "id": "1e46de76"
   },
   "source": [
    "## Find and Remove Missing Values\n",
    "\n",
    "We noticed that some columns contain missing values.\n",
    "\n",
    "Here are some useful code snippets:\n",
    "\n",
    "```python\n",
    "# Identify missing values in each column\n",
    "print(dataset.isnull().sum())\n",
    "\n",
    "# Display rows where a specific column has missing values\n",
    "print(dataset[dataset['column_name'].isna()])\n",
    "\n",
    "# Confirm no missing values remain\n",
    "print(dataset.isnull().sum())\n",
    "```"
   ]
  },
  {
   "cell_type": "markdown",
   "id": "c0aebd78",
   "metadata": {
    "id": "c0aebd78"
   },
   "source": [
    "### `products` Data Frame\n",
    "\n",
    "We will begin by addressing the missing values in the `products` data frame."
   ]
  },
  {
   "cell_type": "code",
   "execution_count": 13,
   "id": "fe4a8b0f",
   "metadata": {
    "id": "fe4a8b0f",
    "scrolled": true
   },
   "outputs": [
    {
     "data": {
      "text/plain": [
       "product_id          0\n",
       "product_name     1258\n",
       "aisle_id            0\n",
       "department_id       0\n",
       "dtype: int64"
      ]
     },
     "metadata": {},
     "output_type": "display_data"
    },
    {
     "data": {
      "text/html": [
       "<div>\n",
       "<style scoped>\n",
       "    .dataframe tbody tr th:only-of-type {\n",
       "        vertical-align: middle;\n",
       "    }\n",
       "\n",
       "    .dataframe tbody tr th {\n",
       "        vertical-align: top;\n",
       "    }\n",
       "\n",
       "    .dataframe thead th {\n",
       "        text-align: right;\n",
       "    }\n",
       "</style>\n",
       "<table border=\"1\" class=\"dataframe\">\n",
       "  <thead>\n",
       "    <tr style=\"text-align: right;\">\n",
       "      <th></th>\n",
       "      <th>product_id</th>\n",
       "      <th>product_name</th>\n",
       "      <th>aisle_id</th>\n",
       "      <th>department_id</th>\n",
       "    </tr>\n",
       "  </thead>\n",
       "  <tbody>\n",
       "    <tr>\n",
       "      <th>37</th>\n",
       "      <td>38</td>\n",
       "      <td>NaN</td>\n",
       "      <td>100</td>\n",
       "      <td>21</td>\n",
       "    </tr>\n",
       "    <tr>\n",
       "      <th>71</th>\n",
       "      <td>72</td>\n",
       "      <td>NaN</td>\n",
       "      <td>100</td>\n",
       "      <td>21</td>\n",
       "    </tr>\n",
       "    <tr>\n",
       "      <th>109</th>\n",
       "      <td>110</td>\n",
       "      <td>NaN</td>\n",
       "      <td>100</td>\n",
       "      <td>21</td>\n",
       "    </tr>\n",
       "    <tr>\n",
       "      <th>296</th>\n",
       "      <td>297</td>\n",
       "      <td>NaN</td>\n",
       "      <td>100</td>\n",
       "      <td>21</td>\n",
       "    </tr>\n",
       "    <tr>\n",
       "      <th>416</th>\n",
       "      <td>417</td>\n",
       "      <td>NaN</td>\n",
       "      <td>100</td>\n",
       "      <td>21</td>\n",
       "    </tr>\n",
       "    <tr>\n",
       "      <th>...</th>\n",
       "      <td>...</td>\n",
       "      <td>...</td>\n",
       "      <td>...</td>\n",
       "      <td>...</td>\n",
       "    </tr>\n",
       "    <tr>\n",
       "      <th>49552</th>\n",
       "      <td>49553</td>\n",
       "      <td>NaN</td>\n",
       "      <td>100</td>\n",
       "      <td>21</td>\n",
       "    </tr>\n",
       "    <tr>\n",
       "      <th>49574</th>\n",
       "      <td>49575</td>\n",
       "      <td>NaN</td>\n",
       "      <td>100</td>\n",
       "      <td>21</td>\n",
       "    </tr>\n",
       "    <tr>\n",
       "      <th>49640</th>\n",
       "      <td>49641</td>\n",
       "      <td>NaN</td>\n",
       "      <td>100</td>\n",
       "      <td>21</td>\n",
       "    </tr>\n",
       "    <tr>\n",
       "      <th>49663</th>\n",
       "      <td>49664</td>\n",
       "      <td>NaN</td>\n",
       "      <td>100</td>\n",
       "      <td>21</td>\n",
       "    </tr>\n",
       "    <tr>\n",
       "      <th>49668</th>\n",
       "      <td>49669</td>\n",
       "      <td>NaN</td>\n",
       "      <td>100</td>\n",
       "      <td>21</td>\n",
       "    </tr>\n",
       "  </tbody>\n",
       "</table>\n",
       "<p>1258 rows × 4 columns</p>\n",
       "</div>"
      ],
      "text/plain": [
       "       product_id product_name  aisle_id  department_id\n",
       "37             38          NaN       100             21\n",
       "71             72          NaN       100             21\n",
       "109           110          NaN       100             21\n",
       "296           297          NaN       100             21\n",
       "416           417          NaN       100             21\n",
       "...           ...          ...       ...            ...\n",
       "49552       49553          NaN       100             21\n",
       "49574       49575          NaN       100             21\n",
       "49640       49641          NaN       100             21\n",
       "49663       49664          NaN       100             21\n",
       "49668       49669          NaN       100             21\n",
       "\n",
       "[1258 rows x 4 columns]"
      ]
     },
     "metadata": {},
     "output_type": "display_data"
    }
   ],
   "source": [
    "# Display rows where the product_name column has missing values\n",
    "display(products.isnull().sum())\n",
    "display()\n",
    "display(products[products['product_name'].isna()])\n"
   ]
  },
  {
   "cell_type": "markdown",
   "id": "54280070-dd68-425b-b646-c584a0043d56",
   "metadata": {},
   "source": [
    "<div class=\"alert alert-success\"; style=\"border-left: 7px solid green\">\n",
    "<b>✅ Reviewer's comment, v. 3</b> \n",
    "    \n",
    "✔️ \n",
    "    "
   ]
  },
  {
   "cell_type": "markdown",
   "id": "b077fb59-f1f2-4390-a2bd-cdccadd5a747",
   "metadata": {
    "id": "b077fb59-f1f2-4390-a2bd-cdccadd5a747"
   },
   "source": [
    "It seems suspicious that all rows with missing `product_name` might be associated with `aisle_id` 100 and `department_id` 21. Let’s verify this by checking if any rows with missing `product_name` have an `aisle_id` different from 100 and 21. This will help us confirm if the issue is isolated to this aisle or spread across others."
   ]
  },
  {
   "cell_type": "code",
   "execution_count": 14,
   "id": "e96167bc",
   "metadata": {
    "id": "e96167bc"
   },
   "outputs": [
    {
     "data": {
      "text/html": [
       "<div>\n",
       "<style scoped>\n",
       "    .dataframe tbody tr th:only-of-type {\n",
       "        vertical-align: middle;\n",
       "    }\n",
       "\n",
       "    .dataframe tbody tr th {\n",
       "        vertical-align: top;\n",
       "    }\n",
       "\n",
       "    .dataframe thead th {\n",
       "        text-align: right;\n",
       "    }\n",
       "</style>\n",
       "<table border=\"1\" class=\"dataframe\">\n",
       "  <thead>\n",
       "    <tr style=\"text-align: right;\">\n",
       "      <th></th>\n",
       "      <th>product_id</th>\n",
       "      <th>product_name</th>\n",
       "      <th>aisle_id</th>\n",
       "      <th>department_id</th>\n",
       "    </tr>\n",
       "  </thead>\n",
       "  <tbody>\n",
       "  </tbody>\n",
       "</table>\n",
       "</div>"
      ],
      "text/plain": [
       "Empty DataFrame\n",
       "Columns: [product_id, product_name, aisle_id, department_id]\n",
       "Index: []"
      ]
     },
     "execution_count": 14,
     "metadata": {},
     "output_type": "execute_result"
    }
   ],
   "source": [
    "# Combine conditions to check for missing product names in aisles other than 100\n",
    "products[\n",
    "    (products['product_name'].isna()) & \n",
    "    (products['aisle_id'] != 100)\n",
    "]"
   ]
  },
  {
   "cell_type": "code",
   "execution_count": 15,
   "id": "8fd0a541",
   "metadata": {
    "id": "8fd0a541"
   },
   "outputs": [
    {
     "data": {
      "text/html": [
       "<div>\n",
       "<style scoped>\n",
       "    .dataframe tbody tr th:only-of-type {\n",
       "        vertical-align: middle;\n",
       "    }\n",
       "\n",
       "    .dataframe tbody tr th {\n",
       "        vertical-align: top;\n",
       "    }\n",
       "\n",
       "    .dataframe thead th {\n",
       "        text-align: right;\n",
       "    }\n",
       "</style>\n",
       "<table border=\"1\" class=\"dataframe\">\n",
       "  <thead>\n",
       "    <tr style=\"text-align: right;\">\n",
       "      <th></th>\n",
       "      <th>product_id</th>\n",
       "      <th>product_name</th>\n",
       "      <th>aisle_id</th>\n",
       "      <th>department_id</th>\n",
       "    </tr>\n",
       "  </thead>\n",
       "  <tbody>\n",
       "  </tbody>\n",
       "</table>\n",
       "</div>"
      ],
      "text/plain": [
       "Empty DataFrame\n",
       "Columns: [product_id, product_name, aisle_id, department_id]\n",
       "Index: []"
      ]
     },
     "execution_count": 15,
     "metadata": {},
     "output_type": "execute_result"
    }
   ],
   "source": [
    "# Combine conditions to check for missing product names in aisles other than 21\n",
    "products[\n",
    "    (products['product_name'].isna()) & \n",
    "    (products['department_id'] != 21)\n",
    "]"
   ]
  },
  {
   "cell_type": "markdown",
   "id": "2c74c53f-a139-4d83-9be9-628fca74ce7c",
   "metadata": {
    "id": "2c74c53f-a139-4d83-9be9-628fca74ce7c"
   },
   "source": [
    "To better understand the missing product_name values, let’s determine what department_id 21 and aisle_id 100 represent by referencing the departments and aisles tables."
   ]
  },
  {
   "cell_type": "code",
   "execution_count": 16,
   "id": "325c3464",
   "metadata": {
    "id": "325c3464"
   },
   "outputs": [
    {
     "name": "stdout",
     "output_type": "stream",
     "text": [
      "    department_id department\n",
      "20             21    missing\n",
      "\n",
      "    aisle_id    aisle\n",
      "99       100  missing\n"
     ]
    }
   ],
   "source": [
    "# What is this aisle and department?\n",
    "print(departments[departments['department_id'] == 21])\n",
    "print()\n",
    "print(aisles[aisles['aisle_id'] == 100])\n"
   ]
  },
  {
   "cell_type": "code",
   "execution_count": 17,
   "id": "6b295120",
   "metadata": {
    "id": "6b295120"
   },
   "outputs": [
    {
     "name": "stdout",
     "output_type": "stream",
     "text": [
      "Are there any missing product names? False\n",
      "\n",
      "Number of Unknown products: 1258\n",
      "\n",
      "Example rows with Unknown products:\n",
      "     product_id product_name  aisle_id  department_id\n",
      "37           38      Unknown       100             21\n",
      "71           72      Unknown       100             21\n",
      "109         110      Unknown       100             21\n",
      "296         297      Unknown       100             21\n",
      "416         417      Unknown       100             21\n",
      "product_id       0\n",
      "product_name     0\n",
      "aisle_id         0\n",
      "department_id    0\n",
      "dtype: int64\n"
     ]
    }
   ],
   "source": [
    "# Fill missing product names with 'Unknown'\n",
    "products['product_name'] = products['product_name'].fillna('Unknown')\n",
    "\n",
    "print(\"Are there any missing product names?\", products['product_name'].isna().any())\n",
    "\n",
    "print(\"\\nNumber of Unknown products:\", (products['product_name'] == 'Unknown').sum())\n",
    "\n",
    "print(\"\\nExample rows with Unknown products:\")\n",
    "\n",
    "print(products[products['product_name'] == 'Unknown'].head())\n",
    "\n",
    "print(products.isnull().sum())\n",
    "#print(products['product_name'])"
   ]
  },
  {
   "cell_type": "markdown",
   "id": "7eb45c86",
   "metadata": {
    "id": "7eb45c86"
   },
   "source": [
    "### `orders` data frame\n",
    "\n",
    "Now let's fill in missing values from the `orders` table."
   ]
  },
  {
   "cell_type": "code",
   "execution_count": 18,
   "id": "93e41d96",
   "metadata": {
    "id": "93e41d96"
   },
   "outputs": [
    {
     "name": "stdout",
     "output_type": "stream",
     "text": [
      "order_id                      0\n",
      "user_id                       0\n",
      "order_number                  0\n",
      "order_dow                     0\n",
      "order_hour_of_day             0\n",
      "days_since_prior_order    28819\n",
      "dtype: int64\n",
      "\n",
      "        order_id  user_id  order_number  order_dow  order_hour_of_day  \\\n",
      "28        133707   182261             1          3                 10   \n",
      "96        787445    25685             1          6                 18   \n",
      "100       294410   111449             1          0                 19   \n",
      "103      2869915   123958             1          4                 16   \n",
      "104      2521921    42286             1          3                 18   \n",
      "...          ...      ...           ...        ...                ...   \n",
      "478895   2589657   205028             1          0                 16   \n",
      "478896   2222353   141211             1          2                 13   \n",
      "478922   2272807   204154             1          1                 15   \n",
      "478926   2499542    68810             1          4                 19   \n",
      "478945   1387033    22496             1          5                 14   \n",
      "\n",
      "        days_since_prior_order  \n",
      "28                         NaN  \n",
      "96                         NaN  \n",
      "100                        NaN  \n",
      "103                        NaN  \n",
      "104                        NaN  \n",
      "...                        ...  \n",
      "478895                     NaN  \n",
      "478896                     NaN  \n",
      "478922                     NaN  \n",
      "478926                     NaN  \n",
      "478945                     NaN  \n",
      "\n",
      "[28819 rows x 6 columns]\n"
     ]
    }
   ],
   "source": [
    "# Display rows where the days_since_prior_order column has missing values\n",
    "print(orders.isnull().sum())\n",
    "print()\n",
    "print(orders[orders['days_since_prior_order'].isna()])"
   ]
  },
  {
   "cell_type": "code",
   "execution_count": 19,
   "id": "166e5a86",
   "metadata": {
    "id": "166e5a86"
   },
   "outputs": [
    {
     "name": "stdout",
     "output_type": "stream",
     "text": [
      "order_id                  0\n",
      "user_id                   0\n",
      "order_number              0\n",
      "order_dow                 0\n",
      "order_hour_of_day         0\n",
      "days_since_prior_order    0\n",
      "dtype: int64\n",
      "Maximum order number: 100\n"
     ]
    }
   ],
   "source": [
    "# Are there any missing values where it's not a customer's first order?\n",
    "#orders[(orders['order_number']> 100)].isna().sum()\n",
    "print(orders[orders['order_number'] != 1].isna().sum())\n",
    "print(\"Maximum order number:\", orders['order_number'].max())"
   ]
  },
  {
   "cell_type": "markdown",
   "id": "75cf3df3-7613-4cc3-9ff3-3e1c9a3db719",
   "metadata": {},
   "source": [
    "\n",
    "<div class=\"alert alert-success\"; style=\"border-left: 7px solid green\">\n",
    "<b>✅ Reviewer's comment, v. 1</b>  \n",
    "\n",
    "✔️ Good — now you've confirmed that among the orders that are not a customer's first, there are no missing values. This means all missing values are attributed to first orders.\n",
    "\n"
   ]
  },
  {
   "cell_type": "markdown",
   "id": "4e23d089",
   "metadata": {
    "id": "4e23d089"
   },
   "source": [
    "All of the missing `'days_since_prior_order'` values correspond to a customer's first ever order. This makes sense because there is no prior order! We'll leave the values as `NaN` so the column can remain numeric. Also, the `NaN` values shouldn't interfere with any calculations we might do using this column."
   ]
  },
  {
   "cell_type": "markdown",
   "id": "69dc9ca4",
   "metadata": {
    "id": "69dc9ca4"
   },
   "source": [
    "### `order_products` data frame\n",
    "\n",
    "Now let's fill in missing values from the order_products table."
   ]
  },
  {
   "cell_type": "code",
   "execution_count": 20,
   "id": "b8240253",
   "metadata": {
    "id": "b8240253"
   },
   "outputs": [
    {
     "name": "stdout",
     "output_type": "stream",
     "text": [
      "order_id               0\n",
      "product_id             0\n",
      "add_to_cart_order    836\n",
      "reordered              0\n",
      "dtype: int64\n",
      "\n",
      "         order_id  product_id  add_to_cart_order  reordered\n",
      "737       2449164        5068                NaN          0\n",
      "9926      1968313       43867                NaN          0\n",
      "14394     2926893       11688                NaN          0\n",
      "16418     1717990        4142                NaN          0\n",
      "30114     1959075       42828                NaN          1\n",
      "...           ...         ...                ...        ...\n",
      "4505662   1800005        7411                NaN          0\n",
      "4511400   1633337         260                NaN          0\n",
      "4517562    404157        9517                NaN          0\n",
      "4534112   1673227       17835                NaN          0\n",
      "4535739   1832957       17949                NaN          1\n",
      "\n",
      "[836 rows x 4 columns]\n"
     ]
    }
   ],
   "source": [
    "# Display rows where the add_to_cart_order column has missing values\n",
    "print(order_products.isnull().sum())\n",
    "print()\n",
    "print(order_products[order_products['add_to_cart_order'].isna()])"
   ]
  },
  {
   "cell_type": "code",
   "execution_count": 21,
   "id": "9a78e5ee",
   "metadata": {
    "id": "9a78e5ee"
   },
   "outputs": [
    {
     "name": "stdout",
     "output_type": "stream",
     "text": [
      "1.0\n",
      "64.0\n"
     ]
    }
   ],
   "source": [
    "# Use .min() and .max() to find the minimum and maximum values for this column.\n",
    "print(order_products['add_to_cart_order'].min())\n",
    "\n",
    "print(order_products['add_to_cart_order'].max())"
   ]
  },
  {
   "cell_type": "code",
   "execution_count": 22,
   "id": "ab9d0c2b",
   "metadata": {
    "id": "ab9d0c2b"
   },
   "outputs": [
    {
     "name": "stdout",
     "output_type": "stream",
     "text": [
      "[2449164 1968313 2926893 1717990 1959075  844733   61355  936852  264710\n",
      " 1564093  129627  293169 2849370 1386261 3308010  903110 2136777 3347453\n",
      " 1888628  165801 2094761 1038146 2997021  813364 2256933  171934 2409109\n",
      " 1730767 1169835  733526  404157 3125735  747668 1800005 1961723  871281\n",
      "  388234 1648217 1477139  102236 1021563 1832957 2721963  678116 1220886\n",
      " 1673227 2999801 1633337 2470674 2625444 1677118 2479011 3383594 1183255\n",
      " 1713430 2652650 1598369 1916118  854647 1302315  888470  180546 2621907\n",
      " 1308785 2729254    9310 2170451 2979697 1625713 1529171]\n"
     ]
    }
   ],
   "source": [
    "# Save all order IDs with at least one missing value in 'add_to_cart_order'\n",
    "orders_with_missing = order_products[order_products['add_to_cart_order'].isna()]['order_id'].unique()\n",
    "print(orders_with_missing)"
   ]
  },
  {
   "cell_type": "code",
   "execution_count": 23,
   "id": "54c31695",
   "metadata": {
    "id": "54c31695"
   },
   "outputs": [
    {
     "name": "stdout",
     "output_type": "stream",
     "text": [
      "Do all orders with missing values have more than 64 products? True\n",
      "\n",
      "Number of products in orders with missing values:\n",
      "order_id\n",
      "9310        65\n",
      "61355      127\n",
      "102236      95\n",
      "129627      69\n",
      "165801      70\n",
      "          ... \n",
      "2999801     70\n",
      "3125735     86\n",
      "3308010    115\n",
      "3347453     71\n",
      "3383594     69\n",
      "Length: 70, dtype: int64\n"
     ]
    }
   ],
   "source": [
    "# Do all orders with missing values have more than 64 products?\n",
    "products_per_order = order_products[order_products['order_id'].isin(orders_with_missing)].groupby('order_id').size()\n",
    "\n",
    "all_above_64 = (products_per_order > 64).all()\n",
    "print(\"Do all orders with missing values have more than 64 products?\", all_above_64)\n",
    "\n",
    "\n",
    "print(\"\\nNumber of products in orders with missing values:\")\n",
    "print(products_per_order)"
   ]
  },
  {
   "cell_type": "code",
   "execution_count": 24,
   "id": "7a987d08",
   "metadata": {
    "id": "7a987d08"
   },
   "outputs": [
    {
     "name": "stdout",
     "output_type": "stream",
     "text": [
      "0    17\n",
      "1     1\n",
      "2     1\n",
      "3    35\n",
      "4     5\n",
      "Name: add_to_cart_order, dtype: int64\n",
      "\n",
      "Column info:\n",
      "int64\n",
      "\n",
      "Missing values: 0\n"
     ]
    }
   ],
   "source": [
    "# Replace missing values with 999 and convert column to integer type\n",
    "order_products['add_to_cart_order'] = order_products['add_to_cart_order'].fillna(999)\n",
    "\n",
    "# Then convert to integer type\n",
    "order_products['add_to_cart_order'] = order_products['add_to_cart_order'].astype(int)\n",
    "\n",
    "print(order_products['add_to_cart_order'].head())\n",
    "\n",
    "print(\"\\nColumn info:\")\n",
    "print(order_products['add_to_cart_order'].dtypes)  # Shows data type\n",
    "print(\"\\nMissing values:\", order_products['add_to_cart_order'].isnull().sum())  # Shows count of missing values\n",
    "\n",
    "#print(order_products['add_to_cart_order'].describe())"
   ]
  },
  {
   "cell_type": "markdown",
   "id": "fea4bcc7",
   "metadata": {
    "id": "fea4bcc7"
   },
   "source": [
    "For some reason, any item placed in the cart 65th or later has a missing value in the `'add_to_cart_order'` column. Maybe the data type of that column in the database could only hold integer values from 1 to 64. We've decided to replace the missing values with a code value, 999, that represents an unknown placed in cart order above 64. We also converted the column to integer data type. We just need to be careful to remember this if we perform calculations using this column during our analysis.\n",
    "\n",
    "Other sensible code values we could've used are 0 or -1 because they don't show up elsewhere in the dataset and they don't have any real physical meaning for this variable.\n",
    "\n",
    "Also note that, for orders with exactly 65 items, we could replace the missing value with 65. But we're going to neglect that for now since we can't determine the 65th item for all orders with 66 items or more."
   ]
  },
  {
   "cell_type": "markdown",
   "id": "8ee7d404-8e8c-4b1c-a02b-c04e02803b04",
   "metadata": {},
   "source": [
    "<div class=\"alert alert-success\" style=\"border-left: 7px solid green\">\n",
    "<b>✅ Reviewer's Comment, v. 1</b>\n",
    "\n",
    "Overall you've done a great job in this section, completing the necessary checks and data pre-processing.\n",
    "</div>"
   ]
  },
  {
   "cell_type": "markdown",
   "id": "07357848-dc64-4156-9cc3-01ff4365226d",
   "metadata": {
    "id": "07357848-dc64-4156-9cc3-01ff4365226d"
   },
   "source": [
    "## Find and Remove Duplicate Values from All the Datasets\n",
    "\n",
    "Each dataset may contain duplicate rows, which can lead to redundancy and affect the accuracy of our analysis. To handle this:\n",
    "\n",
    "1. Use the `.duplicated()` method to identify duplicate rows. This method returns a Boolean series where `True` indicates a duplicate row.\n",
    "2. Apply the `.drop_duplicates()` method to remove these duplicate rows, ensuring a cleaner dataset.\n",
    "3. Optionally, you can set the `keep` parameter in `.drop_duplicates()` to specify which duplicate to retain (`'first'` or `'last'`).\n",
    "\n",
    "Here is some example code for reference:\n",
    "```python\n",
    "# Check for duplicates\n",
    "print(dataset.duplicated().sum())  # Number of duplicate rows\n",
    "\n",
    "# View duplicate rows\n",
    "print(dataset[dataset.duplicated()]\n",
    "\n",
    "# Remove duplicates\n",
    "dataset = dataset.drop_duplicates().reset_index(drop=True)\n",
    "\n",
    "# Confirm removal\n",
    "print(dataset.duplicated().sum())  # Should return 0\n",
    "```\n",
    "\n",
    "Repeat this process for all datasets to ensure they are free of duplicate rows."
   ]
  },
  {
   "cell_type": "markdown",
   "id": "f179f0a9",
   "metadata": {
    "id": "f179f0a9"
   },
   "source": [
    "### `orders` data frame"
   ]
  },
  {
   "cell_type": "code",
   "execution_count": 25,
   "id": "bb1a8c31-0a95-487a-98fc-c040228245f6",
   "metadata": {
    "id": "bb1a8c31-0a95-487a-98fc-c040228245f6"
   },
   "outputs": [
    {
     "name": "stdout",
     "output_type": "stream",
     "text": [
      "Number of duplicate rows in orders DataFrame: 15\n"
     ]
    }
   ],
   "source": [
    "# Find the number of duplicate rows in the orders dataframe\n",
    "duplicate_count = orders.duplicated().sum()\n",
    "print(f\"Number of duplicate rows in orders DataFrame: {duplicate_count}\")"
   ]
  },
  {
   "cell_type": "code",
   "execution_count": 26,
   "id": "b99297a5-405a-463d-8535-9adc3da4ad74",
   "metadata": {
    "id": "b99297a5-405a-463d-8535-9adc3da4ad74"
   },
   "outputs": [
    {
     "name": "stdout",
     "output_type": "stream",
     "text": [
      "These are the duplicate rows:\n",
      "        order_id  user_id  order_number  order_dow  order_hour_of_day  \\\n",
      "145574    794638    50898            24          3                  2   \n",
      "223105   2160484   107525            16          3                  2   \n",
      "230807   1918001   188546            14          3                  2   \n",
      "266232   1782114   106752             1          3                  2   \n",
      "273805   1112182   202304            84          3                  2   \n",
      "284038   2845099    31189            11          3                  2   \n",
      "311713   1021560    53767             3          3                  2   \n",
      "321100    408114    68324             4          3                  2   \n",
      "323900   1919531   191501            32          3                  2   \n",
      "345917   2232988    82565             1          3                  2   \n",
      "371905    391768    57671            19          3                  2   \n",
      "394347    467134    63189            21          3                  2   \n",
      "411408   1286742   183220            48          3                  2   \n",
      "415163   2282673    86751            49          3                  2   \n",
      "441599   2125197    14050            48          3                  2   \n",
      "\n",
      "        days_since_prior_order  \n",
      "145574                     2.0  \n",
      "223105                    30.0  \n",
      "230807                    16.0  \n",
      "266232                     NaN  \n",
      "273805                     6.0  \n",
      "284038                     7.0  \n",
      "311713                     9.0  \n",
      "321100                    18.0  \n",
      "323900                     7.0  \n",
      "345917                     NaN  \n",
      "371905                    10.0  \n",
      "394347                     2.0  \n",
      "411408                     4.0  \n",
      "415163                     2.0  \n",
      "441599                     3.0  \n"
     ]
    }
   ],
   "source": [
    "# View the duplicate rows\n",
    "print(\"These are the duplicate rows:\")\n",
    "print(orders[orders.duplicated()])\n"
   ]
  },
  {
   "cell_type": "code",
   "execution_count": 27,
   "id": "480563c7",
   "metadata": {
    "id": "480563c7"
   },
   "outputs": [],
   "source": [
    "# Remove duplicate orders\n",
    "orders = orders.drop_duplicates().reset_index(drop=True)"
   ]
  },
  {
   "cell_type": "code",
   "execution_count": 28,
   "id": "0b2396a2",
   "metadata": {
    "id": "0b2396a2"
   },
   "outputs": [
    {
     "name": "stdout",
     "output_type": "stream",
     "text": [
      "\n",
      "Number of duplicates after removal: 0\n"
     ]
    }
   ],
   "source": [
    "# Double check for duplicate rows\n",
    "print(\"\\nNumber of duplicates after removal:\", orders.duplicated().sum())"
   ]
  },
  {
   "cell_type": "markdown",
   "id": "45e6bc46",
   "metadata": {
    "id": "45e6bc46"
   },
   "source": [
    "### `products` data frame"
   ]
  },
  {
   "cell_type": "code",
   "execution_count": 29,
   "id": "5f526b5b-8175-46fa-a0fd-441767d50e64",
   "metadata": {
    "id": "5f526b5b-8175-46fa-a0fd-441767d50e64"
   },
   "outputs": [
    {
     "name": "stdout",
     "output_type": "stream",
     "text": [
      "Number of duplicate rows in products DataFrame: 0\n"
     ]
    }
   ],
   "source": [
    "# Check for fully duplicate rows\n",
    "duplicate_count = products.duplicated().sum()\n",
    "print(f\"Number of duplicate rows in products DataFrame: {duplicate_count}\")"
   ]
  },
  {
   "cell_type": "code",
   "execution_count": 30,
   "id": "88daa4f4",
   "metadata": {
    "id": "88daa4f4"
   },
   "outputs": [
    {
     "name": "stdout",
     "output_type": "stream",
     "text": [
      "Number of duplicate product IDs: 0\n",
      "\n",
      "Rows with duplicate product IDs:\n",
      "Empty DataFrame\n",
      "Columns: [product_id, product_name, aisle_id, department_id]\n",
      "Index: []\n"
     ]
    }
   ],
   "source": [
    "# Check for just duplicate product IDs using subset='product_id' in duplicated()\n",
    "\n",
    "duplicate_product_ids = products.duplicated(subset='product_id').sum()\n",
    "print(f\"Number of duplicate product IDs: {duplicate_product_ids}\")\n",
    "\n",
    "duplicate_rows = products[products.duplicated(subset='product_id', keep=False)]\n",
    "print(\"\\nRows with duplicate product IDs:\")\n",
    "print(duplicate_rows)"
   ]
  },
  {
   "cell_type": "markdown",
   "id": "03c82be5-3463-4adb-a5eb-1755f011faa0",
   "metadata": {
    "id": "03c82be5-3463-4adb-a5eb-1755f011faa0"
   },
   "source": [
    "Hint: To identify duplicate product names more effectively, convert the names to lowercase for consistent comparison. Use the .str.lower() method on the product_name column to standardize the text before checking for duplicates."
   ]
  },
  {
   "cell_type": "code",
   "execution_count": 31,
   "id": "c773f0bf",
   "metadata": {
    "id": "c773f0bf"
   },
   "outputs": [
    {
     "name": "stdout",
     "output_type": "stream",
     "text": [
      "Number of products with duplicate names (case-insensitive): 1465\n",
      "\n",
      "Products with duplicate names:\n",
      "       product_id                               product_name  \\\n",
      "31844       31845  18-In-1 Hemp Peppermint Pure-Castile Soap   \n",
      "23339       23340  18-in-1 Hemp Peppermint Pure-Castile Soap   \n",
      "19941       19942            Aged Balsamic Vinegar Of Modena   \n",
      "13152       13153            Aged Balsamic Vinegar of Modena   \n",
      "22582       22583         Albacore Solid White Tuna In Water   \n",
      "...           ...                                        ...   \n",
      "46873       46874                         Vitamin D3 5000 IU   \n",
      "40093       40094              Wild Sardines In Spring Water   \n",
      "21366       21367              Wild Sardines in Spring Water   \n",
      "1826         1827           Yams Cut Sweet Potatoes in Syrup   \n",
      "38260       38261           Yams Cut Sweet Potatoes In Syrup   \n",
      "\n",
      "                              product_name_lower  \n",
      "31844  18-in-1 hemp peppermint pure-castile soap  \n",
      "23339  18-in-1 hemp peppermint pure-castile soap  \n",
      "19941            aged balsamic vinegar of modena  \n",
      "13152            aged balsamic vinegar of modena  \n",
      "22582         albacore solid white tuna in water  \n",
      "...                                          ...  \n",
      "46873                         vitamin d3 5000 iu  \n",
      "40093              wild sardines in spring water  \n",
      "21366              wild sardines in spring water  \n",
      "1826            yams cut sweet potatoes in syrup  \n",
      "38260           yams cut sweet potatoes in syrup  \n",
      "\n",
      "[1465 rows x 3 columns]\n"
     ]
    }
   ],
   "source": [
    "# Check for just duplicate product names (convert names to lowercase to compare better)\n",
    "products['product_name_lower'] = products['product_name'].str.lower()\n",
    "duplicate_names = products.duplicated(subset='product_name_lower', keep=False)\n",
    "duplicate_products = products[duplicate_names].sort_values('product_name_lower')\n",
    "\n",
    "print(\"Number of products with duplicate names (case-insensitive):\", len(duplicate_products))\n",
    "print(\"\\nProducts with duplicate names:\")\n",
    "print(duplicate_products[['product_id', 'product_name', 'product_name_lower']])"
   ]
  },
  {
   "cell_type": "markdown",
   "id": "c502f00b-979b-4f6a-9457-569f412e1183",
   "metadata": {
    "id": "c502f00b-979b-4f6a-9457-569f412e1183"
   },
   "source": [
    "Let's see what that looks like in our dataset :"
   ]
  },
  {
   "cell_type": "code",
   "execution_count": 32,
   "id": "515b21b1-f458-4428-ba10-2820fef6158d",
   "metadata": {
    "id": "515b21b1-f458-4428-ba10-2820fef6158d"
   },
   "outputs": [
    {
     "data": {
      "text/html": [
       "<div>\n",
       "<style scoped>\n",
       "    .dataframe tbody tr th:only-of-type {\n",
       "        vertical-align: middle;\n",
       "    }\n",
       "\n",
       "    .dataframe tbody tr th {\n",
       "        vertical-align: top;\n",
       "    }\n",
       "\n",
       "    .dataframe thead th {\n",
       "        text-align: right;\n",
       "    }\n",
       "</style>\n",
       "<table border=\"1\" class=\"dataframe\">\n",
       "  <thead>\n",
       "    <tr style=\"text-align: right;\">\n",
       "      <th></th>\n",
       "      <th>product_id</th>\n",
       "      <th>product_name</th>\n",
       "      <th>aisle_id</th>\n",
       "      <th>department_id</th>\n",
       "      <th>product_name_lower</th>\n",
       "    </tr>\n",
       "  </thead>\n",
       "  <tbody>\n",
       "    <tr>\n",
       "      <th>22540</th>\n",
       "      <td>22541</td>\n",
       "      <td>High Performance Energy Drink</td>\n",
       "      <td>64</td>\n",
       "      <td>7</td>\n",
       "      <td>high performance energy drink</td>\n",
       "    </tr>\n",
       "    <tr>\n",
       "      <th>49689</th>\n",
       "      <td>49690</td>\n",
       "      <td>HIGH PERFORMANCE ENERGY DRINK</td>\n",
       "      <td>64</td>\n",
       "      <td>7</td>\n",
       "      <td>high performance energy drink</td>\n",
       "    </tr>\n",
       "  </tbody>\n",
       "</table>\n",
       "</div>"
      ],
      "text/plain": [
       "       product_id                   product_name  aisle_id  department_id  \\\n",
       "22540       22541  High Performance Energy Drink        64              7   \n",
       "49689       49690  HIGH PERFORMANCE ENERGY DRINK        64              7   \n",
       "\n",
       "                  product_name_lower  \n",
       "22540  high performance energy drink  \n",
       "49689  high performance energy drink  "
      ]
     },
     "execution_count": 32,
     "metadata": {},
     "output_type": "execute_result"
    }
   ],
   "source": [
    "products[products['product_name'].str.lower() == 'high performance energy drink']"
   ]
  },
  {
   "cell_type": "code",
   "execution_count": 33,
   "id": "51a0e65f-2c0d-42f7-98d6-fd962a599a18",
   "metadata": {
    "id": "51a0e65f-2c0d-42f7-98d6-fd962a599a18"
   },
   "outputs": [
    {
     "name": "stdout",
     "output_type": "stream",
     "text": [
      "       product_id                                       product_name  \\\n",
      "0               1                         Chocolate Sandwich Cookies   \n",
      "1               2                                   All-Seasons Salt   \n",
      "2               3               Robust Golden Unsweetened Oolong Tea   \n",
      "3               4  Smart Ones Classic Favorites Mini Rigatoni Wit...   \n",
      "4               5                          Green Chile Anytime Sauce   \n",
      "...           ...                                                ...   \n",
      "49683       49684          Vodka- Triple Distilled- Twist of Vanilla   \n",
      "49684       49685                 En Croute Roast Hazelnut Cranberry   \n",
      "49685       49686                                   Artisan Baguette   \n",
      "49686       49687         Smartblend Healthy Metabolism Dry Cat Food   \n",
      "49687       49688                             Fresh Foaming Cleanser   \n",
      "\n",
      "       aisle_id  department_id  \\\n",
      "0            61             19   \n",
      "1           104             13   \n",
      "2            94              7   \n",
      "3            38              1   \n",
      "4             5             13   \n",
      "...         ...            ...   \n",
      "49683       124              5   \n",
      "49684        42              1   \n",
      "49685       112              3   \n",
      "49686        41              8   \n",
      "49687        73             11   \n",
      "\n",
      "                                      product_name_lower  \n",
      "0                             chocolate sandwich cookies  \n",
      "1                                       all-seasons salt  \n",
      "2                   robust golden unsweetened oolong tea  \n",
      "3      smart ones classic favorites mini rigatoni wit...  \n",
      "4                              green chile anytime sauce  \n",
      "...                                                  ...  \n",
      "49683          vodka- triple distilled- twist of vanilla  \n",
      "49684                 en croute roast hazelnut cranberry  \n",
      "49685                                   artisan baguette  \n",
      "49686         smartblend healthy metabolism dry cat food  \n",
      "49687                             fresh foaming cleanser  \n",
      "\n",
      "[48333 rows x 5 columns]\n",
      "\n",
      "       product_id                                       product_name  \\\n",
      "0               1                         Chocolate Sandwich Cookies   \n",
      "1               2                                   All-Seasons Salt   \n",
      "2               3               Robust Golden Unsweetened Oolong Tea   \n",
      "3               4  Smart Ones Classic Favorites Mini Rigatoni Wit...   \n",
      "4               5                          Green Chile Anytime Sauce   \n",
      "...           ...                                                ...   \n",
      "49683       49684          Vodka- Triple Distilled- Twist of Vanilla   \n",
      "49684       49685                 En Croute Roast Hazelnut Cranberry   \n",
      "49685       49686                                   Artisan Baguette   \n",
      "49686       49687         Smartblend Healthy Metabolism Dry Cat Food   \n",
      "49687       49688                             Fresh Foaming Cleanser   \n",
      "\n",
      "       aisle_id  department_id  \n",
      "0            61             19  \n",
      "1           104             13  \n",
      "2            94              7  \n",
      "3            38              1  \n",
      "4             5             13  \n",
      "...         ...            ...  \n",
      "49683       124              5  \n",
      "49684        42              1  \n",
      "49685       112              3  \n",
      "49686        41              8  \n",
      "49687        73             11  \n",
      "\n",
      "[48333 rows x 4 columns]\n"
     ]
    }
   ],
   "source": [
    "# Drop duplicate product names (case insensitive)\n",
    "products = products.drop_duplicates(subset=['product_name_lower'], keep='first')\n",
    "print(products)\n",
    "print()\n",
    "products = products.drop('product_name_lower', axis=1)\n",
    "print(products)"
   ]
  },
  {
   "cell_type": "markdown",
   "id": "60f30db1",
   "metadata": {
    "id": "60f30db1"
   },
   "source": [
    "### `departments` data frame"
   ]
  },
  {
   "cell_type": "code",
   "execution_count": 34,
   "id": "fb410ad4-0fbf-4b80-bb09-23fdea79afe3",
   "metadata": {
    "id": "fb410ad4-0fbf-4b80-bb09-23fdea79afe3"
   },
   "outputs": [
    {
     "name": "stdout",
     "output_type": "stream",
     "text": [
      "0\n",
      "Empty DataFrame\n",
      "Columns: [department_id, department]\n",
      "Index: []\n",
      "0\n",
      "\n",
      "department_id    0.0\n",
      "department       0.0\n",
      "dtype: float64\n"
     ]
    }
   ],
   "source": [
    "# Check for duplicate entries in the departments dataframe\n",
    "departments[departments.duplicated()]\n",
    "\n",
    "print(departments.duplicated().sum())\n",
    "\n",
    "print(departments[departments.duplicated(keep='first')])\n",
    "\n",
    "print(departments.duplicated(subset=departments.columns, keep='first').sum())\n",
    "print()\n",
    "print(departments[departments.duplicated()].sum())"
   ]
  },
  {
   "cell_type": "markdown",
   "id": "889349c1",
   "metadata": {
    "id": "889349c1"
   },
   "source": [
    "### `aisles` data frame"
   ]
  },
  {
   "cell_type": "code",
   "execution_count": 35,
   "id": "9da89fb9-4679-40f5-ad0d-c34df753a3f8",
   "metadata": {
    "id": "9da89fb9-4679-40f5-ad0d-c34df753a3f8"
   },
   "outputs": [
    {
     "name": "stdout",
     "output_type": "stream",
     "text": [
      "Empty DataFrame\n",
      "Columns: [aisle_id, aisle]\n",
      "Index: []\n"
     ]
    }
   ],
   "source": [
    "# Check for aisles entries in the departments dataframe\n",
    "\n",
    "duplicate_aisles = aisles[aisles.duplicated(keep=False)]\n",
    "print(duplicate_aisles.sort_values('aisle'))"
   ]
  },
  {
   "cell_type": "markdown",
   "id": "274cd06a",
   "metadata": {
    "id": "274cd06a"
   },
   "source": [
    "### `order_products` data frame"
   ]
  },
  {
   "cell_type": "code",
   "execution_count": 36,
   "id": "52326689-84a8-4b8f-a881-7c68780f62c9",
   "metadata": {
    "id": "52326689-84a8-4b8f-a881-7c68780f62c9"
   },
   "outputs": [
    {
     "name": "stdout",
     "output_type": "stream",
     "text": [
      "Number of duplicate entries in the order_products data frame is: 0\n"
     ]
    }
   ],
   "source": [
    "# Check for duplicate entries in the order_products dataframe\n",
    "#order_products.duplicated().sum()\n",
    "print(\"Number of duplicate entries in the order_products data frame is:\", order_products.duplicated().sum())\n",
    "#order_products[order_products.duplicated()]\n",
    "\n",
    "#order_products.duplicated(['order_id', 'product_id', 'add_to_cart_order', 'reordered']).sum()\n",
    "\n",
    "#print(order_products)"
   ]
  },
  {
   "cell_type": "markdown",
   "id": "e5952f1b-3a4a-4144-a58e-77d72e1ed599",
   "metadata": {
    "id": "e5952f1b-3a4a-4144-a58e-77d72e1ed599"
   },
   "source": [
    "We have now successfully cleaned our data. Let's begin our exploratory data analysis."
   ]
  },
  {
   "cell_type": "markdown",
   "id": "6a75b8a3-87ab-465e-aeed-576dc4a41b9c",
   "metadata": {},
   "source": [
    "<div class=\"alert alert-success\" style=\"border-left: 7px solid green\">\n",
    "<b>✅ Reviewer's Comment, v. 1</b>\n",
    "\n",
    "Excellent job.</div>"
   ]
  },
  {
   "cell_type": "markdown",
   "id": "turkish-kidney",
   "metadata": {
    "id": "turkish-kidney"
   },
   "source": [
    "# [A] Easy (must complete all to pass)"
   ]
  },
  {
   "cell_type": "markdown",
   "id": "short-capability",
   "metadata": {
    "id": "short-capability"
   },
   "source": [
    "### [A1] Verify that the `'order_hour_of_day'` and `'order_dow'` values in the `orders` tables are sensible (i.e. `'order_hour_of_day'` ranges from 0 to 23 and `'order_dow'` ranges from 0 to 6)\n",
    "\n",
    "To verify that the values in the `order_hour_of_day` and `order_dow` columns are sensible:\n",
    "\n",
    "1. **Check unique values**: Use `.unique()` on each column to extract all distinct values present.\n",
    "2. **Sort the results**: Use `sorted()` to arrange the unique values in ascending order for easier verification.\n",
    "3. **Validate ranges**:\n",
    "   - Ensure `order_hour_of_day` values range from 0 to 23 (representing hours of the day).\n",
    "   - Ensure `order_dow` values range from 0 to 6 (representing days of the week).\n",
    "\n",
    "This process confirms that the data aligns with expected ranges and there are no out-of-bound or invalid entries."
   ]
  },
  {
   "cell_type": "code",
   "execution_count": 37,
   "id": "growing-fruit",
   "metadata": {
    "id": "growing-fruit"
   },
   "outputs": [
    {
     "name": "stdout",
     "output_type": "stream",
     "text": [
      "Unique hours of day: [0, 1, 2, 3, 4, 5, 6, 7, 8, 9, 10, 11, 12, 13, 14, 15, 16, 17, 18, 19, 20, 21, 22, 23]\n"
     ]
    }
   ],
   "source": [
    "print(\"Unique hours of day:\", sorted(orders['order_hour_of_day'].unique()))"
   ]
  },
  {
   "cell_type": "code",
   "execution_count": 38,
   "id": "accessory-malaysia",
   "metadata": {
    "id": "accessory-malaysia"
   },
   "outputs": [
    {
     "name": "stdout",
     "output_type": "stream",
     "text": [
      "Days of week: [0, 1, 2, 3, 4, 5, 6]\n"
     ]
    }
   ],
   "source": [
    "print(\"Days of week:\", sorted(orders['order_dow'].unique()))"
   ]
  },
  {
   "cell_type": "markdown",
   "id": "a6743a70",
   "metadata": {
    "id": "a6743a70"
   },
   "source": [
    "### [A2] What time of day do people shop for groceries?\n",
    "\n",
    "To determine the time of day people shop for groceries, analyze the order_hour_of_day column in the orders dataset. Use .value_counts() to count the number of orders placed at each hour, and then sort the results by the hour for a clear chronological order.\n",
    "\n",
    "Finally, visualize the data with a bar plot to easily observe the shopping trends across different times of the day."
   ]
  },
  {
   "cell_type": "code",
   "execution_count": 39,
   "id": "a36cca27",
   "metadata": {
    "id": "a36cca27"
   },
   "outputs": [
    {
     "name": "stdout",
     "output_type": "stream",
     "text": [
      "Number of orders by hour of day:\n",
      "0      3180\n",
      "1      1763\n",
      "2       989\n",
      "3       770\n",
      "4       765\n",
      "5      1371\n",
      "6      4215\n",
      "7     13043\n",
      "8     25024\n",
      "9     35896\n",
      "10    40578\n",
      "11    40032\n",
      "12    38034\n",
      "13    39007\n",
      "14    39631\n",
      "15    39789\n",
      "16    38112\n",
      "17    31930\n",
      "18    25510\n",
      "19    19547\n",
      "20    14624\n",
      "21    11019\n",
      "22     8512\n",
      "23     5611\n",
      "Name: order_hour_of_day, dtype: int64\n"
     ]
    }
   ],
   "source": [
    "hourly_orders = orders['order_hour_of_day'].value_counts().sort_index()\n",
    "print(\"Number of orders by hour of day:\")\n",
    "print(hourly_orders)"
   ]
  },
  {
   "cell_type": "code",
   "execution_count": 40,
   "id": "chief-digit",
   "metadata": {
    "id": "chief-digit"
   },
   "outputs": [
    {
     "data": {
      "image/png": "[encoded data removed]",
      "text/plain": [
       "<Figure size 1000x600 with 1 Axes>"
      ]
     },
     "metadata": {},
     "output_type": "display_data"
    }
   ],
   "source": [
    "hourly_orders.plot(kind='bar',\n",
    "                   figsize=[10,6],\n",
    "                   title='Number of Orders by Hour of Day', \n",
    "                   xlabel='Hour of Day (0-23)',\n",
    "                   ylabel='Number of Orders')\n",
    "plt.show()"
   ]
  },
  {
   "cell_type": "markdown",
   "id": "d3625a39-abdf-439e-b967-c6233fd9600a",
   "metadata": {},
   "source": [
    "\n",
    "<div class=\"alert alert-warning\"; style=\"border-left: 7px solid gold\">\n",
    "<b>⚠️ Reviewer's comment, v. 1</b> \n",
    "\n",
    "Just a quick note — I moved the chart from the next section to this one, since it fits better here. If you take another look at the task description, you'll see that this part focuses on visualizing the distribution of orders by hour.\n",
    "</div>\n",
    "\n"
   ]
  },
  {
   "cell_type": "markdown",
   "id": "51ab8083-1bd3-433a-b8d4-923ea66a54a7",
   "metadata": {},
   "source": [
    "<div class=\"alert alert-success\"; style=\"border-left: 7px solid green\">\n",
    "<b>✅ Reviewer's comment, v. 2</b> \n",
    "    \n",
    "✔️ \n",
    "    \n"
   ]
  },
  {
   "cell_type": "markdown",
   "id": "11270eed",
   "metadata": {
    "id": "11270eed"
   },
   "source": [
    "Most orders occur between 9:00 AM and 5:00 PM, with peaks at 10:00 AM and 3:00 PM"
   ]
  },
  {
   "cell_type": "markdown",
   "id": "documented-command",
   "metadata": {
    "id": "documented-command"
   },
   "source": [
    "### [A3] What day of the week do people shop for groceries?\n",
    "\n",
    "To figure out what day of the week people shop for groceries, analyze the order_dow column in the orders dataset. Use .value_counts() to count the number of orders for each day of the week, and then sort the results by the day index to maintain the correct order.\n",
    "\n",
    "Visualize the data with a bar plot to clearly observe shopping patterns across the days of the week."
   ]
  },
  {
   "cell_type": "code",
   "execution_count": 41,
   "id": "7ff43d2d-d677-4453-8e6c-b4f1f9bf970c",
   "metadata": {},
   "outputs": [],
   "source": [
    "day_counts = orders['order_dow'].value_counts().sort_index()#Write your code here"
   ]
  },
  {
   "cell_type": "code",
   "execution_count": 42,
   "id": "4afc49f2-dcd0-40c2-a726-c55b0e33288c",
   "metadata": {},
   "outputs": [
    {
     "data": {
      "image/png": "[encoded data removed]",
      "text/plain": [
       "<Figure size 1000x600 with 1 Axes>"
      ]
     },
     "metadata": {},
     "output_type": "display_data"
    }
   ],
   "source": [
    "days = ['Sunday', 'Monday', 'Tuesday', 'Wednesday', 'Thursday', 'Friday', 'Saturday']\n",
    "\n",
    "# Create the plot\n",
    "plt.figure(figsize=(10, 6))\n",
    "plt.bar(days, day_counts)\n",
    "plt.title('Number of Orders by Day of Week')\n",
    "plt.xlabel('Day of Week')\n",
    "plt.ylabel('Number of Orders')\n",
    "plt.xticks(rotation=45)\n",
    "plt.tight_layout()\n",
    "plt.show()"
   ]
  },
  {
   "cell_type": "markdown",
   "id": "dominant-lightning",
   "metadata": {
    "id": "dominant-lightning"
   },
   "source": [
    "The data dictionary does not state which integer corresponds to which day of the week. Assuming Sunday = 0, then people place more orders at the beginning of the week (Sunday and Monday)."
   ]
  },
  {
   "cell_type": "markdown",
   "id": "ca63ac71-eb90-4eb6-a475-8197d1d21ffb",
   "metadata": {},
   "source": [
    "<div class=\"alert alert-success\"; style=\"border-left: 7px solid green\">\n",
    "<b>✅ Reviewer's comment, v. 2</b> \n",
    "    \n",
    "✔️ Great job replacing the numbers with the day names.\n",
    "    \n"
   ]
  },
  {
   "cell_type": "markdown",
   "id": "cutting-concert",
   "metadata": {
    "id": "cutting-concert"
   },
   "source": [
    "### [A4] How long do people wait until placing another order?\n",
    "\n",
    "To understand how long people wait before placing another order, analyze the days_since_prior_order column in the orders dataset. Use .value_counts() to count how many orders were placed for each interval of days, then sort the results by the number of days for clarity.\n",
    "\n",
    "Visualize the data using a bar plot to observe patterns in ordering frequency over time."
   ]
  },
  {
   "cell_type": "code",
   "execution_count": 43,
   "id": "c231f523",
   "metadata": {
    "id": "c231f523"
   },
   "outputs": [
    {
     "name": "stdout",
     "output_type": "stream",
     "text": [
      "Number of orders by days since prior order:\n",
      "0.0      9589\n",
      "1.0     20179\n",
      "2.0     27138\n",
      "3.0     30224\n",
      "4.0     31006\n",
      "5.0     30096\n",
      "6.0     33930\n",
      "7.0     44577\n",
      "8.0     25361\n",
      "9.0     16753\n",
      "10.0    13309\n",
      "11.0    11467\n",
      "12.0    10658\n",
      "13.0    11737\n",
      "14.0    13992\n",
      "15.0     9416\n",
      "16.0     6587\n",
      "17.0     5498\n",
      "18.0     4971\n",
      "19.0     4939\n",
      "20.0     5302\n",
      "21.0     6448\n",
      "22.0     4514\n",
      "23.0     3337\n",
      "24.0     3015\n",
      "25.0     2711\n",
      "26.0     2640\n",
      "27.0     2986\n",
      "28.0     3745\n",
      "29.0     2673\n",
      "30.0    51337\n",
      "Name: days_since_prior_order, dtype: int64\n"
     ]
    },
    {
     "data": {
      "image/png": "[encoded data removed]",
      "text/plain": [
       "<Figure size 1200x600 with 1 Axes>"
      ]
     },
     "metadata": {},
     "output_type": "display_data"
    }
   ],
   "source": [
    "reorder_days = orders['days_since_prior_order'].value_counts().sort_index()\n",
    "print(\"Number of orders by days since prior order:\")\n",
    "print(reorder_days)\n",
    "\n",
    "import matplotlib.pyplot as plt\n",
    "\n",
    "reorder_days.plot(kind='bar',\n",
    "                  figsize=[12,6],\n",
    "                  title='Days Between Orders',\n",
    "                  xlabel='Days Since Prior Order',\n",
    "                  ylabel='Number of Orders')\n",
    "                     \n",
    "plt.show()\n",
    "\n"
   ]
  },
  {
   "cell_type": "markdown",
   "id": "discrete-vertex",
   "metadata": {
    "id": "discrete-vertex"
   },
   "source": [
    "The 0 values probably correspond to customers who placed more than one order on the same day.\n",
    "\n",
    "The max value of 30 days and the high spike at that value is puzzling though. The spike might be explained by people who set up recurring subscriptions to automatically order once a month. But that doesn't explain why there are no values above 30 days. I would expect many customers to place orders less often than once a month. Maybe those customers were intentionally excluded from the dataset."
   ]
  },
  {
   "cell_type": "markdown",
   "id": "8d926614",
   "metadata": {
    "id": "8d926614"
   },
   "source": [
    "Disregarding the spike at 30 days, most people wait between 2 to 10 days in between orders. The most common wait time is 7 days. In other words, it's common for people to place weekly grocery orders. Interestingly, in the tail of the distribution we also see small spikes at 14, 21, and 28 days. These would correspond to orders every 2, 3, or 4 weeks."
   ]
  },
  {
   "cell_type": "markdown",
   "id": "tight-staff",
   "metadata": {
    "id": "tight-staff"
   },
   "source": [
    "# [B] Medium (must complete all to pass)"
   ]
  },
  {
   "cell_type": "markdown",
   "id": "packed-classic",
   "metadata": {
    "id": "packed-classic"
   },
   "source": [
    "### [B1] Is there a difference in `'order_hour_of_day'` distributions on Wednesdays and Saturdays? Plot the histograms for both days and describe the differences that you see.\n",
    "\n",
    "To determine if there’s a difference in the `order_hour_of_day` distributions on Wednesdays and Saturdays, follow these steps:\n",
    "\n",
    "1. **Create masks** for Wednesday (`order_dow == 3`) and Saturday (`order_dow == 6`) to filter the orders data.\n",
    "2. **Count the order hours** for each day using `.value_counts()` and sort them by hour with `.sort_index()` for clarity.\n",
    "3. **Combine the counts** for both days into a single DataFrame using `pd.concat()`, and label the columns for easier interpretation.\n",
    "\n",
    "After preparing the data, plot histograms for both days to visually compare the distribution of order times. Look for patterns such as peaks or differences in the busiest times."
   ]
  },
  {
   "cell_type": "code",
   "execution_count": 44,
   "id": "d89b8403",
   "metadata": {
    "id": "d89b8403"
   },
   "outputs": [
    {
     "name": "stdout",
     "output_type": "stream",
     "text": [
      "Number of Wednesday orders: 60897\n",
      "Number of Saturday orders: 62649\n"
     ]
    }
   ],
   "source": [
    "wed_mask = orders['order_dow'] == 3\n",
    "sat_mask = orders['order_dow'] == 6\n",
    "\n",
    "# Apply masks to get the filtered data\n",
    "wednesday_orders = orders[wed_mask]\n",
    "saturday_orders = orders[sat_mask]\n",
    "\n",
    "print(\"Number of Wednesday orders:\", len(wednesday_orders))\n",
    "print(\"Number of Saturday orders:\", len(saturday_orders))"
   ]
  },
  {
   "cell_type": "code",
   "execution_count": 45,
   "id": "94e54e8a",
   "metadata": {
    "id": "94e54e8a"
   },
   "outputs": [],
   "source": [
    "wed_hours = orders[wed_mask]['order_hour_of_day'].value_counts().sort_index()\n",
    "sat_hours = orders[sat_mask]['order_hour_of_day'].value_counts().sort_index()\n",
    "\n",
    "#print(\"Order hours for Wednesday:\", wed_hours)\n",
    "#print(\"Order hours for Saturday:\",sat_hours)"
   ]
  },
  {
   "cell_type": "code",
   "execution_count": 46,
   "id": "797c90a8",
   "metadata": {
    "id": "797c90a8",
    "scrolled": true
   },
   "outputs": [
    {
     "name": "stdout",
     "output_type": "stream",
     "text": [
      "    Wednesday  Saturday\n",
      "0         373       464\n",
      "1         215       254\n",
      "2         106       177\n",
      "3         101       125\n",
      "4         108       118\n",
      "5         170       161\n",
      "6         643       451\n",
      "7        1732      1619\n",
      "8        3125      3246\n",
      "9        4490      4311\n",
      "10       5026      4919\n",
      "11       5004      5116\n",
      "12       4688      5132\n",
      "13       4674      5323\n",
      "14       4774      5375\n",
      "15       5163      5188\n",
      "16       4976      5029\n",
      "17       4175      4295\n",
      "18       3463      3338\n",
      "19       2652      2610\n",
      "20       1917      1847\n",
      "21       1450      1473\n",
      "22       1154      1185\n",
      "23        718       893\n"
     ]
    }
   ],
   "source": [
    "hour_counts = pd.concat([wed_hours, sat_hours], axis=1)\n",
    "hour_counts.columns = ['Wednesday', 'Saturday']\n",
    "\n",
    "print(hour_counts)"
   ]
  },
  {
   "cell_type": "code",
   "execution_count": 47,
   "id": "35bcea30",
   "metadata": {
    "id": "35bcea30"
   },
   "outputs": [
    {
     "data": {
      "image/png": "[encoded data removed]",
      "text/plain": [
       "<Figure size 1200x600 with 1 Axes>"
      ]
     },
     "metadata": {},
     "output_type": "display_data"
    }
   ],
   "source": [
    "plt.figure(figsize=(12, 6))\n",
    "\n",
    "# Plot Wednesday orders\n",
    "plt.hist(wednesday_orders['order_hour_of_day'], \n",
    "         alpha=0.5, \n",
    "         label='Wednesday', \n",
    "         bins=24)\n",
    "\n",
    "# Plot Saturday orders\n",
    "plt.hist(saturday_orders['order_hour_of_day'], \n",
    "         alpha=0.5, \n",
    "         label='Saturday', \n",
    "         bins=24)\n",
    "\n",
    "plt.title('Distribution of Order Hours: Wednesday vs Saturday')\n",
    "plt.xlabel('Hour of Day')\n",
    "plt.ylabel('Number of Orders')\n",
    "plt.legend()\n",
    "plt.grid(True)\n",
    "plt.show()"
   ]
  },
  {
   "cell_type": "markdown",
   "id": "38f6c329-58e8-4045-9a40-cf6602768705",
   "metadata": {},
   "source": [
    "<div class=\"alert alert-success\"; style=\"border-left: 7px solid green\">\n",
    "<b>✅ Reviewer's comment, v. 3</b> \n",
    "    \n",
    "✔️ \n",
    "     \n"
   ]
  },
  {
   "cell_type": "markdown",
   "id": "charitable-congo",
   "metadata": {
    "id": "charitable-congo"
   },
   "source": [
    "There's a small dip from 11h to 13h on Wednesdays. This dip is absent on Saturdays. Maybe this dip can be attributed to people who don't use Instacart because they have lunch somewhere between 11h and 13h."
   ]
  },
  {
   "cell_type": "markdown",
   "id": "e3891143",
   "metadata": {
    "id": "e3891143"
   },
   "source": [
    "### [B2] What's the distribution for the number of orders per customer?\n",
    "\n",
    "To explore the distribution of the number of orders per customer:\n",
    "\n",
    "1. **Group the data** by `user_id` to calculate the total number of orders for each customer. Use `.groupby('user_id')` and count the `order_id` for each group.\n",
    "2. **Sort the results** using `.sort_values()` for better readability.\n",
    "3. **Visualize the distribution** using a histogram to observe how many orders most customers typically place.\n",
    "\n",
    "Adjust the number of bins in the histogram to refine the visualization and better capture the pattern."
   ]
  },
  {
   "cell_type": "code",
   "execution_count": 48,
   "id": "d8c26c23",
   "metadata": {
    "id": "d8c26c23"
   },
   "outputs": [
    {
     "name": "stdout",
     "output_type": "stream",
     "text": [
      "user_id\n",
      "152331     1\n",
      "139876     1\n",
      "60408      1\n",
      "139873     1\n",
      "139871     1\n",
      "          ..\n",
      "66664     24\n",
      "148162    24\n",
      "78375     25\n",
      "193164    26\n",
      "149605    28\n",
      "Name: order_id, Length: 157437, dtype: int64\n"
     ]
    }
   ],
   "source": [
    "orders_per_customer = orders.groupby('user_id')['order_id'].count().sort_values(ascending=True)\n",
    "print(orders_per_customer)"
   ]
  },
  {
   "cell_type": "code",
   "execution_count": 49,
   "id": "00e69a66",
   "metadata": {
    "id": "00e69a66"
   },
   "outputs": [
    {
     "data": {
      "image/png": "[encoded data removed]",
      "text/plain": [
       "<Figure size 1000x600 with 1 Axes>"
      ]
     },
     "metadata": {},
     "output_type": "display_data"
    }
   ],
   "source": [
    "import matplotlib.pyplot as plt\n",
    "\n",
    "plt.figure(figsize=(10, 6))\n",
    "plt.hist(orders_per_customer, bins=30)\n",
    "plt.title('Distribution of Orders per Customer')\n",
    "plt.xlabel('Number of Orders')\n",
    "plt.ylabel('Number of Customers')\n",
    "plt.show()"
   ]
  },
  {
   "cell_type": "markdown",
   "id": "d2eff7d5",
   "metadata": {
    "id": "d2eff7d5"
   },
   "source": [
    "Most customers in the dataset have placed between 1 and 10 orders, with number of orders per customer sharply decreasing after just 1 order."
   ]
  },
  {
   "cell_type": "markdown",
   "id": "54a0319c",
   "metadata": {
    "id": "54a0319c"
   },
   "source": [
    "### [B3] What are the top 20 popular products (display their id and name)?\n",
    "\n",
    "To identify the top 20 most popular products:\n",
    "\n",
    "1. **Merge the datasets**: Combine `order_products` and `products` on `product_id` to access both the product IDs and names in a single DataFrame.\n",
    "2. **Group the data**: Group by both `product_id` and `product_name` to aggregate the order counts for each product using `.size()`.\n",
    "3. **Sort the results**: Use `.sort_values(ascending=False)` to rank products by their popularity.\n",
    "4. **Display the top 20**: Use `.head(20)` to focus on the most frequently ordered products.\n",
    "5. **Visualize the results**: Create a bar chart to highlight the top products and their order counts.\n",
    "\n",
    "This will give you a clear view of the most popular products and their ranking.\n"
   ]
  },
  {
   "cell_type": "code",
   "execution_count": 50,
   "id": "exterior-arizona",
   "metadata": {
    "id": "exterior-arizona",
    "scrolled": true
   },
   "outputs": [],
   "source": [
    "merged_df = order_products.merge(products, on='product_id')"
   ]
  },
  {
   "cell_type": "code",
   "execution_count": 51,
   "id": "universal-facial",
   "metadata": {
    "id": "universal-facial"
   },
   "outputs": [],
   "source": [
    "product_popularity = merged_df.groupby(['product_id', 'product_name']).size()"
   ]
  },
  {
   "cell_type": "code",
   "execution_count": 52,
   "id": "bbcdd20b",
   "metadata": {
    "id": "bbcdd20b"
   },
   "outputs": [
    {
     "name": "stdout",
     "output_type": "stream",
     "text": [
      "product_id  product_name            \n",
      "24852       Banana                      66050\n",
      "13176       Bag of Organic Bananas      53297\n",
      "21137       Organic Strawberries        37039\n",
      "21903       Organic Baby Spinach        33971\n",
      "47209       Organic Hass Avocado        29773\n",
      "47766       Organic Avocado             24689\n",
      "47626       Large Lemon                 21495\n",
      "16797       Strawberries                20018\n",
      "26209       Limes                       19690\n",
      "27845       Organic Whole Milk          19600\n",
      "27966       Organic Raspberries         19197\n",
      "22935       Organic Yellow Onion        15898\n",
      "24964       Organic Garlic              15292\n",
      "45007       Organic Zucchini            14584\n",
      "39275       Organic Blueberries         13879\n",
      "49683       Cucumber Kirby              13675\n",
      "28204       Organic Fuji Apple          12544\n",
      "5876        Organic Lemon               12232\n",
      "8277        Apple Honeycrisp Organic    11993\n",
      "40706       Organic Grape Tomatoes      11781\n",
      "dtype: int64\n"
     ]
    }
   ],
   "source": [
    "top_20_products = product_popularity.sort_values(ascending=False).head(20)\n",
    "\n",
    "print(top_20_products)"
   ]
  },
  {
   "cell_type": "code",
   "execution_count": 53,
   "id": "68aa29f3-5237-4f6f-8741-b638f29804e7",
   "metadata": {},
   "outputs": [
    {
     "data": {
      "image/png": "[encoded data removed]",
      "text/plain": [
       "<Figure size 1500x800 with 1 Axes>"
      ]
     },
     "metadata": {},
     "output_type": "display_data"
    }
   ],
   "source": [
    "top_20_df = top_20_products.reset_index()\n",
    "\n",
    "# Create the figure\n",
    "plt.figure(figsize=(15, 8))\n",
    "\n",
    "# Create the bar chart using only product names\n",
    "plt.bar(top_20_df['product_name'], top_20_df[0])  # The counts are in column '0' after reset_index\n",
    "\n",
    "# Customize the chart\n",
    "plt.title('Top 20 Most Popular Products', fontsize=14)\n",
    "plt.xlabel('Product Name', fontsize=12)\n",
    "plt.ylabel('Number of Orders', fontsize=12)\n",
    "\n",
    "# Rotate x-axis labels for better readability\n",
    "plt.xticks(rotation=45, ha='right')\n",
    "\n",
    "# Adjust layout to prevent label cutoff\n",
    "plt.tight_layout()\n",
    "\n",
    "# Show the plot\n",
    "plt.show()\n"
   ]
  },
  {
   "cell_type": "markdown",
   "id": "7df00f47",
   "metadata": {
    "id": "7df00f47"
   },
   "source": [
    "The top 20 items are all produce, except for the milk. Looks like people want delicious and nutritious!"
   ]
  },
  {
   "cell_type": "markdown",
   "id": "9bd21270-0c3a-490d-b42a-95ef93588152",
   "metadata": {},
   "source": [
    "<div class=\"alert alert-success\"; style=\"border-left: 7px solid green\">\n",
    "<b>✅ Reviewer's comment, v. 3</b> \n",
    "    \n",
    "✔️ \n",
    "    "
   ]
  },
  {
   "cell_type": "markdown",
   "id": "23fa39b1-bb3c-4135-b9bb-2a388d29e59f",
   "metadata": {},
   "source": [
    "\n",
    "<div class=\"alert alert-success\"; style=\"border-left: 7px solid green\">\n",
    "<b>✅ Reviewer's comment, v. 1</b> \n",
    "    \n",
    "You've done a great job in the sections above when creating the charts. You selected appropriate chart types and formatted them thoughtfully — including titles, axis labels, and legends where needed. This really helps make your insights easier to understand. Nicely done!\n",
    "</div>\n"
   ]
  },
  {
   "cell_type": "markdown",
   "id": "gross-theme",
   "metadata": {
    "id": "gross-theme"
   },
   "source": [
    "# [C] Hard (must complete at least two to pass)"
   ]
  },
  {
   "cell_type": "markdown",
   "id": "romantic-deposit",
   "metadata": {
    "id": "romantic-deposit"
   },
   "source": [
    "### [C1] How many items do people typically buy in one order? What does the distribution look like?\n",
    "To analyze how many items people typically buy in one order:\n",
    "\n",
    "1. **Group the data** by `order_id` and count the number of products (`product_id`) in each order using `.count()`. This gives the number of items in each order.\n",
    "2. **Aggregate the counts**: Use `.value_counts()` to determine how frequently different order sizes occur, and then sort the results with `.sort_index()` to organize by the number of items.\n",
    "3. **Visualize the distribution**: Use a bar plot to show the frequency of orders for each size, with the x-axis representing the number of items and the y-axis representing the number of orders.\n",
    "\n",
    "This will help you understand the typical size of a grocery order and identify any trends in purchasing behavior."
   ]
  },
  {
   "cell_type": "code",
   "execution_count": 54,
   "id": "virtual-punch",
   "metadata": {
    "id": "virtual-punch"
   },
   "outputs": [
    {
     "name": "stdout",
     "output_type": "stream",
     "text": [
      "order_id\n",
      "4          13\n",
      "9          15\n",
      "11          5\n",
      "19          3\n",
      "20          8\n",
      "           ..\n",
      "3421034    17\n",
      "3421053     9\n",
      "3421071     5\n",
      "3421077     4\n",
      "3421079     1\n",
      "Name: product_id, Length: 450046, dtype: int64\n"
     ]
    }
   ],
   "source": [
    "items_per_order = order_products.groupby('order_id')['product_id'].count()\n",
    "print(items_per_order)"
   ]
  },
  {
   "cell_type": "code",
   "execution_count": 55,
   "id": "400971df-c136-4438-8344-2f266c4c4553",
   "metadata": {},
   "outputs": [
    {
     "name": "stdout",
     "output_type": "stream",
     "text": [
      "Minimum order size: 1\n",
      "Maximum order size: 127\n",
      "Average items per order: 10.10\n",
      "Median items per order: 8.0\n",
      "Most common order size: 5\n"
     ]
    }
   ],
   "source": [
    "order_size_distribution = items_per_order.value_counts().sort_index()\n",
    "\n",
    "min_items_per_order = order_size_distribution.index.min()\n",
    "max_items_per_order = order_size_distribution.index.max()\n",
    "\n",
    "print(f\"Minimum order size: {items_per_order.min()}\")\n",
    "print(f\"Maximum order size: {items_per_order.max()}\")\n",
    "\n",
    "print(f\"Average items per order: {items_per_order.mean():.2f}\")\n",
    "print(f\"Median items per order: {items_per_order.median()}\")\n",
    "print(f\"Most common order size: {items_per_order.mode()[0]}\")"
   ]
  },
  {
   "cell_type": "markdown",
   "id": "56436dc0-5a39-4272-874b-0fb6652390d1",
   "metadata": {},
   "source": [
    "<div class=\"alert alert-success\"; style=\"border-left: 7px solid green\">\n",
    "<b>✅ Reviewer's comment, v. 3</b> \n",
    "    \n",
    "✔️ \n",
    "    \n"
   ]
  },
  {
   "cell_type": "code",
   "execution_count": 56,
   "id": "f23b7423-aa3d-444e-ad65-9145ad1d5f43",
   "metadata": {},
   "outputs": [
    {
     "data": {
      "image/png": "[encoded data removed]",
      "text/plain": [
       "<Figure size 1500x600 with 1 Axes>"
      ]
     },
     "metadata": {},
     "output_type": "display_data"
    }
   ],
   "source": [
    "plt.figure(figsize=(15, 6))\n",
    "plt.bar(range(len(order_size_distribution)), order_size_distribution.values)\n",
    "\n",
    "plt.xticks(range(len(order_size_distribution)),\n",
    "          order_size_distribution.index,\n",
    "          rotation=45,\n",
    "          fontsize=8)\n",
    "\n",
    "#Set x-axis limit to 70 for better visibility of the main distribution\n",
    "plt.xlim(0, 70)\n",
    "\n",
    "plt.title('Distribution of Order Sizes')\n",
    "plt.xlabel('Number of Items in Order')\n",
    "plt.ylabel('Frequency (Number of Orders)')\n",
    "plt.grid(True, alpha=0.3)\n",
    "\n",
    "plt.subplots_adjust(bottom=0.2)\n",
    "plt.tight_layout()\n",
    "plt.show()\n",
    "\n",
    "\n"
   ]
  },
  {
   "cell_type": "markdown",
   "id": "bd4ed530",
   "metadata": {
    "id": "bd4ed530"
   },
   "source": [
    "Most of the order numbers are in the tail of the distribution. To get a better look at the non-tail part, let's choose a value in the tail as a cutoff and just plot order with fewer than that many items. An order size of 35 items is far enough into the tail for this."
   ]
  },
  {
   "cell_type": "code",
   "execution_count": 57,
   "id": "completed-frank",
   "metadata": {
    "id": "completed-frank"
   },
   "outputs": [
    {
     "data": {
      "image/png": "[encoded data removed]",
      "text/plain": [
       "<Figure size 1500x600 with 1 Axes>"
      ]
     },
     "metadata": {},
     "output_type": "display_data"
    }
   ],
   "source": [
    "plt.figure(figsize=(15, 6))\n",
    "plt.bar(range(len(order_size_distribution)), order_size_distribution.values)\n",
    "\n",
    "plt.xticks(range(len(order_size_distribution)),\n",
    "          order_size_distribution.index,\n",
    "          rotation=45,\n",
    "          fontsize=8)\n",
    "\n",
    "# Changed x-axis limit from 70 to 35 to focus on the main distribution\n",
    "plt.xlim(0, 35)\n",
    "\n",
    "plt.title('Distribution of Order Sizes')\n",
    "plt.xlabel('Number of Items in Order')\n",
    "plt.ylabel('Frequency (Number of Orders)')\n",
    "plt.grid(True, alpha=0.3)\n",
    "\n",
    "#plt.subplots_adjust(bottom=0.2)\n",
    "#plt.tight_layout()\n",
    "plt.show()\n",
    "\n",
    "\n",
    "\n",
    "\n"
   ]
  },
  {
   "cell_type": "markdown",
   "id": "designed-mortality",
   "metadata": {
    "id": "designed-mortality"
   },
   "source": [
    "The typical order contains 5 or 6 items, with most orders having between 1 and 20 items."
   ]
  },
  {
   "cell_type": "markdown",
   "id": "5e6b5537",
   "metadata": {
    "id": "5e6b5537"
   },
   "source": [
    "### [C2] What are the top 20 items that are reordered most frequently (display their names and product IDs)?\n",
    "\n",
    "To find the top 20 most frequently reordered items:\n",
    "\n",
    "1. **Filter the data**: Use `order_products['reordered'] == 1` to isolate only the products that have been reordered.\n",
    "2. **Merge the datasets**: Combine the filtered `order_products` with the `products` dataset on `product_id` to get both the product names and IDs.\n",
    "3. **Group the data**: Group by both `product_id` and `product_name` to calculate how many times each product was reordered, using `.size()`.\n",
    "4. **Sort the results**: Use `.sort_values(ascending=False)` to rank the products by reorder frequency.\n",
    "5. **Display the top 20**: Use `.head(20)` to focus on the most frequently reordered products.\n",
    "6. **Visualize the data**: Create a bar chart to showcase the top reordered items and their frequencies.\n",
    "\n",
    "This process highlights the products that customers consistently return to and reorder."
   ]
  },
  {
   "cell_type": "code",
   "execution_count": 58,
   "id": "9374e55a",
   "metadata": {
    "id": "9374e55a"
   },
   "outputs": [
    {
     "name": "stdout",
     "output_type": "stream",
     "text": [
      "         order_id  product_id  add_to_cart_order  reordered\n",
      "1          567889        1560                  1          1\n",
      "2         2261212       26683                  1          1\n",
      "3          491251        8670                 35          1\n",
      "4         2571142        1940                  5          1\n",
      "5         2456893       21616                  4          1\n",
      "...           ...         ...                ...        ...\n",
      "4544999   1622300       24852                  1          1\n",
      "4545000   1125324       40600                  6          1\n",
      "4545002    577211       15290                 12          1\n",
      "4545004    692640       47766                  4          1\n",
      "4545005    319435         691                  8          1\n",
      "\n",
      "[2683838 rows x 4 columns]\n",
      "Shape of reordered products: (2683838, 4)\n"
     ]
    }
   ],
   "source": [
    "reordered_products = order_products[order_products['reordered'] == 1]\n",
    "\n",
    "print(reordered_products)\n",
    "\n",
    "print(\"Shape of reordered products:\", reordered_products.shape)"
   ]
  },
  {
   "cell_type": "code",
   "execution_count": 59,
   "id": "6219023a-0ce2-4859-b634-25092fc238d7",
   "metadata": {},
   "outputs": [
    {
     "name": "stdout",
     "output_type": "stream",
     "text": [
      "Shape of merged dataframe: (2674352, 7)\n",
      "\n",
      "First few rows with product names:\n",
      "   order_id  product_id  add_to_cart_order  reordered product_name  aisle_id  \\\n",
      "0    567889        1560                  1          1   Bag Of Ice        37   \n",
      "1    761899        1560                  2          1   Bag Of Ice        37   \n",
      "2   1388514        1560                  8          1   Bag Of Ice        37   \n",
      "3   2629631        1560                  1          1   Bag Of Ice        37   \n",
      "4    866921        1560                  6          1   Bag Of Ice        37   \n",
      "\n",
      "   department_id  \n",
      "0              1  \n",
      "1              1  \n",
      "2              1  \n",
      "3              1  \n",
      "4              1  \n"
     ]
    }
   ],
   "source": [
    "#reorder_counts = reordered_products.merge(products, on='product_id')\n",
    "\n",
    "#print(reorder_counts)\n",
    "\n",
    "merged_df = reordered_products.merge(products, on='product_id')\n",
    "print(\"Shape of merged dataframe:\", merged_df.shape)\n",
    "print(\"\\nFirst few rows with product names:\")\n",
    "print(merged_df.head())"
   ]
  },
  {
   "cell_type": "code",
   "execution_count": 60,
   "id": "1846cc3e-d533-49e3-954c-8eaa345fb563",
   "metadata": {},
   "outputs": [
    {
     "name": "stdout",
     "output_type": "stream",
     "text": [
      "product_name\n",
      "#2 Coffee Filters                                            28\n",
      "#4 Natural Brown Coffee Filters                              14\n",
      "& Go! Hazelnut Spread + Pretzel Sticks                        7\n",
      "(70% Juice!) Mountain Raspberry Juice Squeeze                 4\n",
      "+Energy Black Cherry Vegetable & Fruit Juice                  3\n",
      "                                                             ..\n",
      "with Xylitol Original Flavor 18 Sticks Sugar Free Gum        16\n",
      "with Xylitol Unwrapped Spearmint 50 Sticks Sugar Free Gum     1\n",
      "with Xylitol Watermelon Twist 18 Sticks Sugar Free Gum        6\n",
      "with a Splash of Mango Coconut Water                          1\n",
      "with a Splash of Pineapple Coconut Water                      5\n",
      "Name: reordered, Length: 35639, dtype: int64\n"
     ]
    }
   ],
   "source": [
    "reorder_counts = merged_df.groupby('product_name')['reordered'].count()\n",
    "print(reorder_counts)"
   ]
  },
  {
   "cell_type": "code",
   "execution_count": 61,
   "id": "96dbfc74-bafe-41f0-a69b-fee08221e978",
   "metadata": {},
   "outputs": [
    {
     "name": "stdout",
     "output_type": "stream",
     "text": [
      "\n",
      "Top 20 Most Frequently Reordered Products:\n",
      "product_name\n",
      "Banana                      55763\n",
      "Bag of Organic Bananas      44450\n",
      "Organic Strawberries        28639\n",
      "Organic Baby Spinach        26233\n",
      "Organic Hass Avocado        23629\n",
      "Organic Avocado             18743\n",
      "Organic Whole Milk          16251\n",
      "Large Lemon                 15044\n",
      "Organic Raspberries         14748\n",
      "Strawberries                13945\n",
      "Limes                       13327\n",
      "Organic Yellow Onion        11145\n",
      "Organic Garlic              10411\n",
      "Organic Zucchini            10076\n",
      "Cucumber Kirby               9538\n",
      "Organic Fuji Apple           8989\n",
      "Apple Honeycrisp Organic     8836\n",
      "Organic Blueberries          8799\n",
      "Organic Lemon                8412\n",
      "Organic Half & Half          8389\n",
      "Name: reordered, dtype: int64\n"
     ]
    }
   ],
   "source": [
    "top_20_reordered = reorder_counts.sort_values(ascending=False).head(20)\n",
    "\n",
    "print(\"\\nTop 20 Most Frequently Reordered Products:\")\n",
    "print(top_20_reordered)"
   ]
  },
  {
   "cell_type": "markdown",
   "id": "0448eced-8d71-4457-8288-bd6ea418875c",
   "metadata": {},
   "source": [
    "<div class=\"alert alert-success\"; style=\"border-left: 7px solid green\">\n",
    "<b>✅ Reviewer's comment, v. 1</b> \n",
    "    \n",
    "This is correct list."
   ]
  },
  {
   "cell_type": "code",
   "execution_count": 62,
   "id": "bdac7fc2-7ad0-42e6-8d39-34280db6b085",
   "metadata": {},
   "outputs": [
    {
     "name": "stdout",
     "output_type": "stream",
     "text": [
      "\n",
      "Percentage of total reorders:\n",
      "product_name\n",
      "Banana                      2.09\n",
      "Bag of Organic Bananas      1.66\n",
      "Organic Strawberries        1.07\n",
      "Organic Baby Spinach        0.98\n",
      "Organic Hass Avocado        0.88\n",
      "Organic Avocado             0.70\n",
      "Organic Whole Milk          0.61\n",
      "Large Lemon                 0.56\n",
      "Organic Raspberries         0.55\n",
      "Strawberries                0.52\n",
      "Limes                       0.50\n",
      "Organic Yellow Onion        0.42\n",
      "Organic Garlic              0.39\n",
      "Organic Zucchini            0.38\n",
      "Cucumber Kirby              0.36\n",
      "Organic Fuji Apple          0.34\n",
      "Apple Honeycrisp Organic    0.33\n",
      "Organic Blueberries         0.33\n",
      "Organic Lemon               0.31\n",
      "Organic Half & Half         0.31\n",
      "Name: reordered, dtype: float64\n"
     ]
    }
   ],
   "source": [
    "total_reorders = len(merged_df)\n",
    "print(\"\\nPercentage of total reorders:\")\n",
    "percentage = (top_20_reordered / total_reorders * 100).round(2)\n",
    "print(percentage)"
   ]
  },
  {
   "cell_type": "code",
   "execution_count": 63,
   "id": "a2a1bd69-3ea7-4f20-8fe6-2db08e131d61",
   "metadata": {},
   "outputs": [
    {
     "name": "stdout",
     "output_type": "stream",
     "text": [
      "         order_id  product_id  add_to_cart_order  reordered  \\\n",
      "0          567889        1560                  1          1   \n",
      "1          761899        1560                  2          1   \n",
      "2         1388514        1560                  8          1   \n",
      "3         2629631        1560                  1          1   \n",
      "4          866921        1560                  6          1   \n",
      "...           ...         ...                ...        ...   \n",
      "2674347   1108030       32232                  9          1   \n",
      "2674348   1476244       32232                 12          1   \n",
      "2674349    727197       14985                  5          1   \n",
      "2674350   3337548       14985                  4          1   \n",
      "2674351   1131450       28655                  2          1   \n",
      "\n",
      "                              product_name  aisle_id  department_id department  \n",
      "0                               Bag Of Ice        37              1     frozen  \n",
      "1                               Bag Of Ice        37              1     frozen  \n",
      "2                               Bag Of Ice        37              1     frozen  \n",
      "3                               Bag Of Ice        37              1     frozen  \n",
      "4                               Bag Of Ice        37              1     frozen  \n",
      "...                                    ...       ...            ...        ...  \n",
      "2674347  Organic Roasted Buckwheat (Kasha)        68             10       bulk  \n",
      "2674348  Organic Roasted Buckwheat (Kasha)        68             10       bulk  \n",
      "2674349           Organic Raspberry Muesli        68             10       bulk  \n",
      "2674350           Organic Raspberry Muesli        68             10       bulk  \n",
      "2674351         Crystallized Ginger Chunks        18             10       bulk  \n",
      "\n",
      "[2674352 rows x 8 columns]\n"
     ]
    }
   ],
   "source": [
    "reordered_by_dept = (order_products[order_products['reordered'] == 1]\n",
    "                    .merge(products, on='product_id')\n",
    "                    .merge(departments, on='department_id'))\n",
    "\n",
    "print(reordered_by_dept)"
   ]
  },
  {
   "cell_type": "code",
   "execution_count": 64,
   "id": "possible-change",
   "metadata": {
    "id": "possible-change",
    "scrolled": true
   },
   "outputs": [
    {
     "name": "stdout",
     "output_type": "stream",
     "text": [
      "         order_id  product_id  add_to_cart_order  reordered  \\\n",
      "0          567889        1560                  1          1   \n",
      "1          761899        1560                  2          1   \n",
      "2         1388514        1560                  8          1   \n",
      "3         2629631        1560                  1          1   \n",
      "4          866921        1560                  6          1   \n",
      "...           ...         ...                ...        ...   \n",
      "2674347   1338379       33506                  3          1   \n",
      "2674348    191894       27878                  3          1   \n",
      "2674349   3041739       31751                 14          1   \n",
      "2674350    949244       24384                 18          1   \n",
      "2674351   1078099       47673                 11          1   \n",
      "\n",
      "                                              product_name  aisle_id  \\\n",
      "0                                               Bag Of Ice        37   \n",
      "1                                               Bag Of Ice        37   \n",
      "2                                               Bag Of Ice        37   \n",
      "3                                               Bag Of Ice        37   \n",
      "4                                               Bag Of Ice        37   \n",
      "...                                                    ...       ...   \n",
      "2674347  Simply 9 White Meat Chicken & Whole Barley Rec...        40   \n",
      "2674348        Crackers Wheat Sundried Tomato Basil Crispy        78   \n",
      "2674349                       French Style Cut Green Beans       116   \n",
      "2674350                        Invisible Matte Finish Tape        10   \n",
      "2674351         Toast Chee Peanut Butter Sandwich Crackers        78   \n",
      "\n",
      "         department_id  \n",
      "0                    1  \n",
      "1                    1  \n",
      "2                    1  \n",
      "3                    1  \n",
      "4                    1  \n",
      "...                ...  \n",
      "2674347              8  \n",
      "2674348             19  \n",
      "2674349              1  \n",
      "2674350             17  \n",
      "2674351             19  \n",
      "\n",
      "[2674352 rows x 7 columns]\n"
     ]
    }
   ],
   "source": [
    "reorder_counts = reordered_products.merge(products, on='product_id')\n",
    "\n",
    "print(reorder_counts)"
   ]
  },
  {
   "cell_type": "code",
   "execution_count": 65,
   "id": "54734a43-9c98-4f3c-8fd1-f5eb0cdad4fa",
   "metadata": {
    "scrolled": true
   },
   "outputs": [
    {
     "name": "stdout",
     "output_type": "stream",
     "text": [
      "    department_id       department  reorder_count\n",
      "3               4          produce         864530\n",
      "15             16       dairy eggs         508637\n",
      "6               7        beverages         244822\n",
      "18             19           snacks         232412\n",
      "0               1           frozen         169533\n",
      "2               3           bakery         103886\n",
      "12             13           pantry          90303\n",
      "19             20             deli          88956\n",
      "14             15     canned goods          67936\n",
      "11             12     meat seafood          56361\n",
      "8               9  dry goods pasta          55928\n",
      "13             14        breakfast          55745\n",
      "16             17        household          41723\n",
      "17             18           babies          34083\n",
      "10             11    personal care          20080\n",
      "5               6    international          13842\n",
      "4               5          alcohol          12497\n",
      "7               8             pets           8239\n",
      "9              10             bulk           2759\n",
      "1               2            other           2080\n"
     ]
    }
   ],
   "source": [
    "dept_reorders = (reordered_by_dept.groupby(['department_id', 'department'])\n",
    "                 .size()\n",
    "                 .reset_index(name='reorder_count')\n",
    "                 .sort_values('reorder_count', ascending=False))\n",
    "\n",
    "print(dept_reorders)"
   ]
  },
  {
   "cell_type": "code",
   "execution_count": 66,
   "id": "professional-surfing",
   "metadata": {
    "id": "professional-surfing",
    "scrolled": true
   },
   "outputs": [
    {
     "name": "stdout",
     "output_type": "stream",
     "text": [
      "       product_id              product_name  reorder_count\n",
      "17816       24852                    Banana          55763\n",
      "9377        13176    Bag of Organic Bananas          44450\n",
      "15122       21137      Organic Strawberries          28639\n",
      "15682       21903      Organic Baby Spinach          26233\n",
      "33856       47209      Organic Hass Avocado          23629\n",
      "34266       47766           Organic Avocado          18743\n",
      "19970       27845        Organic Whole Milk          16251\n",
      "34163       47626               Large Lemon          15044\n",
      "20058       27966       Organic Raspberries          14748\n",
      "12001       16797              Strawberries          13945\n",
      "18789       26209                     Limes          13327\n",
      "16433       22935      Organic Yellow Onion          11145\n",
      "17898       24964            Organic Garlic          10411\n",
      "32277       45007          Organic Zucchini          10076\n",
      "35635       49683            Cucumber Kirby           9538\n",
      "20222       28204        Organic Fuji Apple           8989\n",
      "5888         8277  Apple Honeycrisp Organic           8836\n",
      "28175       39275       Organic Blueberries           8799\n",
      "4204         5876             Organic Lemon           8412\n",
      "35325       49235       Organic Half & Half           8389\n"
     ]
    }
   ],
   "source": [
    "top_reorders = (reorder_counts.groupby(['product_id', 'product_name'])\n",
    "                .size()\n",
    "                .reset_index(name='reorder_count')\n",
    "                .sort_values('reorder_count', ascending=False)\n",
    "                .head(20))\n",
    "\n",
    "print(top_reorders)"
   ]
  },
  {
   "cell_type": "code",
   "execution_count": 67,
   "id": "52b9e0fa-a02f-4e88-9a77-75d47dd68fc0",
   "metadata": {},
   "outputs": [
    {
     "data": {
      "image/png": "[encoded data removed]",
      "text/plain": [
       "<Figure size 1200x600 with 1 Axes>"
      ]
     },
     "metadata": {},
     "output_type": "display_data"
    }
   ],
   "source": [
    "plt.figure(figsize=(12, 6))\n",
    "plt.bar(range(len(dept_reorders)), dept_reorders['reorder_count'])\n",
    "\n",
    "plt.xticks(range(len(dept_reorders)),\n",
    "          dept_reorders['department'],\n",
    "          rotation=45,\n",
    "          ha='right')\n",
    "\n",
    "plt.title('Number of Reorders by Department')\n",
    "plt.xlabel('Department')\n",
    "plt.ylabel('Number of Reorders')\n",
    "plt.grid(True, alpha=0.3)\n",
    "\n",
    "plt.subplots_adjust(bottom=0.2)\n",
    "plt.tight_layout()\n",
    "plt.show()"
   ]
  },
  {
   "cell_type": "code",
   "execution_count": 68,
   "id": "48dd3658",
   "metadata": {
    "id": "48dd3658"
   },
   "outputs": [
    {
     "data": {
      "image/png": "[encoded data removed]",
      "text/plain": [
       "<Figure size 1500x800 with 1 Axes>"
      ]
     },
     "metadata": {},
     "output_type": "display_data"
    }
   ],
   "source": [
    "plt.figure(figsize=(15, 8))\n",
    "plt.bar(range(len(top_reorders)), top_reorders['reorder_count'])\n",
    "\n",
    "plt.xticks(range(len(top_reorders)),\n",
    "          top_reorders['product_name'],\n",
    "          rotation=45,\n",
    "          ha='right',\n",
    "          fontsize=10)\n",
    "\n",
    "plt.title('Top 20 Most Frequently Reordered Products')\n",
    "plt.xlabel('Product Name')\n",
    "plt.ylabel('Number of Reorders')\n",
    "plt.grid(True, alpha=0.3)\n",
    "\n",
    "plt.subplots_adjust(bottom=0.3)  # Adjust bottom margin for labels\n",
    "plt.tight_layout()\n",
    "plt.show()"
   ]
  },
  {
   "cell_type": "markdown",
   "id": "80e70c74",
   "metadata": {
    "id": "80e70c74"
   },
   "source": [
    "It looks like produce and dairy comprise the most reordered products as well. It makes sense that perishables would be the most reordered items."
   ]
  },
  {
   "cell_type": "markdown",
   "id": "9d312b14",
   "metadata": {
    "id": "9d312b14"
   },
   "source": [
    "### [C3] For each product, what proportion of its orders are reorders?\n",
    "\n",
    "To calculate the proportion of orders for each product that are reorders:\n",
    "\n",
    "1. **Merge the datasets**: Combine `order_products` with the `products` dataset to access product names and IDs in the same DataFrame.\n",
    "2. **Group the data**: Group by `product_id` and `product_name` to isolate each product's order history.\n",
    "3. **Calculate the mean of `reordered`**: Use `.mean()` on the `reordered` column to compute the proportion of orders for each product that were reorders. The value represents the reorder rate.\n",
    "4. **Sort the results**: Use `.sort_values(ascending=False)` to rank products by their reorder rates.\n",
    "5. **Convert to a DataFrame**: Use `.reset_index()` to organize the grouped data into a readable DataFrame.\n",
    "6. **Optional Sorting**: Sort the results by `product_id` or another column for better clarity.\n",
    "\n",
    "This approach provides insights into how frequently each product is reordered, helping identify customer favorites or staples.\n"
   ]
  },
  {
   "cell_type": "code",
   "execution_count": 69,
   "id": "0269db4b-6e08-4d83-9baf-d0e478b0e071",
   "metadata": {},
   "outputs": [],
   "source": [
    "merged_df = order_products.merge(products, on='product_id')"
   ]
  },
  {
   "cell_type": "code",
   "execution_count": 70,
   "id": "8ae9f4b1",
   "metadata": {
    "id": "8ae9f4b1"
   },
   "outputs": [
    {
     "name": "stdout",
     "output_type": "stream",
     "text": [
      "product_id  product_name                                                     \n",
      "1           Chocolate Sandwich Cookies                                           0.564286\n",
      "2           All-Seasons Salt                                                     0.000000\n",
      "3           Robust Golden Unsweetened Oolong Tea                                 0.738095\n",
      "4           Smart Ones Classic Favorites Mini Rigatoni With Vodka Cream Sauce    0.510204\n",
      "7           Pure Coconut Water With Orange                                       0.500000\n",
      "                                                                                   ...   \n",
      "49684       Vodka- Triple Distilled- Twist of Vanilla                            0.000000\n",
      "49685       En Croute Roast Hazelnut Cranberry                                   0.500000\n",
      "49686       Artisan Baguette                                                     0.625000\n",
      "49687       Smartblend Healthy Metabolism Dry Cat Food                           0.000000\n",
      "49688       Fresh Foaming Cleanser                                               0.111111\n",
      "Name: reordered, Length: 44516, dtype: float64\n"
     ]
    }
   ],
   "source": [
    "reorder_rates = merged_df.groupby(['product_id', 'product_name'])['reordered'].mean()\n",
    "print(reorder_rates)\n"
   ]
  },
  {
   "cell_type": "code",
   "execution_count": 71,
   "id": "social-individual",
   "metadata": {
    "id": "social-individual"
   },
   "outputs": [
    {
     "name": "stdout",
     "output_type": "stream",
     "text": [
      "product_id  product_name                                                     \n",
      "1           Chocolate Sandwich Cookies                                           56.43\n",
      "2           All-Seasons Salt                                                      0.00\n",
      "3           Robust Golden Unsweetened Oolong Tea                                 73.81\n",
      "4           Smart Ones Classic Favorites Mini Rigatoni With Vodka Cream Sauce    51.02\n",
      "7           Pure Coconut Water With Orange                                       50.00\n",
      "                                                                                 ...  \n",
      "49684       Vodka- Triple Distilled- Twist of Vanilla                             0.00\n",
      "49685       En Croute Roast Hazelnut Cranberry                                   50.00\n",
      "49686       Artisan Baguette                                                     62.50\n",
      "49687       Smartblend Healthy Metabolism Dry Cat Food                            0.00\n",
      "49688       Fresh Foaming Cleanser                                               11.11\n",
      "Name: reordered, Length: 44516, dtype: float64\n"
     ]
    }
   ],
   "source": [
    "reorder_rates = (reorder_rates * 100).round(2)\n",
    "print(reorder_rates)"
   ]
  },
  {
   "cell_type": "code",
   "execution_count": 72,
   "id": "81f7ccab-d913-4e26-b60a-6db20faf99d3",
   "metadata": {},
   "outputs": [
    {
     "data": {
      "text/html": [
       "<style  type=\"text/css\" >\n",
       "</style><table id=\"T_7a2ed_\" ><thead>    <tr>        <th class=\"blank level0\" ></th>        <th class=\"col_heading level0 col0\" >product_id</th>        <th class=\"col_heading level0 col1\" >product_name</th>        <th class=\"col_heading level0 col2\" >reordered</th>    </tr></thead><tbody>\n",
       "                <tr>\n",
       "                        <th id=\"T_7a2ed_level0_row0\" class=\"row_heading level0 row0\" >0</th>\n",
       "                        <td id=\"T_7a2ed_row0_col0\" class=\"data row0 col0\" >1</td>\n",
       "                        <td id=\"T_7a2ed_row0_col1\" class=\"data row0 col1\" >Chocolate Sandwich Cookies</td>\n",
       "                        <td id=\"T_7a2ed_row0_col2\" class=\"data row0 col2\" >56.4%</td>\n",
       "            </tr>\n",
       "            <tr>\n",
       "                        <th id=\"T_7a2ed_level0_row1\" class=\"row_heading level0 row1\" >1</th>\n",
       "                        <td id=\"T_7a2ed_row1_col0\" class=\"data row1 col0\" >2</td>\n",
       "                        <td id=\"T_7a2ed_row1_col1\" class=\"data row1 col1\" >All-Seasons Salt</td>\n",
       "                        <td id=\"T_7a2ed_row1_col2\" class=\"data row1 col2\" >0.0%</td>\n",
       "            </tr>\n",
       "            <tr>\n",
       "                        <th id=\"T_7a2ed_level0_row2\" class=\"row_heading level0 row2\" >2</th>\n",
       "                        <td id=\"T_7a2ed_row2_col0\" class=\"data row2 col0\" >3</td>\n",
       "                        <td id=\"T_7a2ed_row2_col1\" class=\"data row2 col1\" >Robust Golden Unsweetened Oolong Tea</td>\n",
       "                        <td id=\"T_7a2ed_row2_col2\" class=\"data row2 col2\" >73.8%</td>\n",
       "            </tr>\n",
       "            <tr>\n",
       "                        <th id=\"T_7a2ed_level0_row3\" class=\"row_heading level0 row3\" >3</th>\n",
       "                        <td id=\"T_7a2ed_row3_col0\" class=\"data row3 col0\" >4</td>\n",
       "                        <td id=\"T_7a2ed_row3_col1\" class=\"data row3 col1\" >Smart Ones Classic Favorites Mini Rigatoni With Vodka Cream Sauce</td>\n",
       "                        <td id=\"T_7a2ed_row3_col2\" class=\"data row3 col2\" >51.0%</td>\n",
       "            </tr>\n",
       "            <tr>\n",
       "                        <th id=\"T_7a2ed_level0_row4\" class=\"row_heading level0 row4\" >4</th>\n",
       "                        <td id=\"T_7a2ed_row4_col0\" class=\"data row4 col0\" >7</td>\n",
       "                        <td id=\"T_7a2ed_row4_col1\" class=\"data row4 col1\" >Pure Coconut Water With Orange</td>\n",
       "                        <td id=\"T_7a2ed_row4_col2\" class=\"data row4 col2\" >50.0%</td>\n",
       "            </tr>\n",
       "            <tr>\n",
       "                        <th id=\"T_7a2ed_level0_row5\" class=\"row_heading level0 row5\" >5</th>\n",
       "                        <td id=\"T_7a2ed_row5_col0\" class=\"data row5 col0\" >8</td>\n",
       "                        <td id=\"T_7a2ed_row5_col1\" class=\"data row5 col1\" >Cut Russet Potatoes Steam N' Mash</td>\n",
       "                        <td id=\"T_7a2ed_row5_col2\" class=\"data row5 col2\" >31.6%</td>\n",
       "            </tr>\n",
       "            <tr>\n",
       "                        <th id=\"T_7a2ed_level0_row6\" class=\"row_heading level0 row6\" >6</th>\n",
       "                        <td id=\"T_7a2ed_row6_col0\" class=\"data row6 col0\" >9</td>\n",
       "                        <td id=\"T_7a2ed_row6_col1\" class=\"data row6 col1\" >Light Strawberry Blueberry Yogurt</td>\n",
       "                        <td id=\"T_7a2ed_row6_col2\" class=\"data row6 col2\" >76.2%</td>\n",
       "            </tr>\n",
       "            <tr>\n",
       "                        <th id=\"T_7a2ed_level0_row7\" class=\"row_heading level0 row7\" >7</th>\n",
       "                        <td id=\"T_7a2ed_row7_col0\" class=\"data row7 col0\" >10</td>\n",
       "                        <td id=\"T_7a2ed_row7_col1\" class=\"data row7 col1\" >Sparkling Orange Juice & Prickly Pear Beverage</td>\n",
       "                        <td id=\"T_7a2ed_row7_col2\" class=\"data row7 col2\" >44.8%</td>\n",
       "            </tr>\n",
       "            <tr>\n",
       "                        <th id=\"T_7a2ed_level0_row8\" class=\"row_heading level0 row8\" >8</th>\n",
       "                        <td id=\"T_7a2ed_row8_col0\" class=\"data row8 col0\" >11</td>\n",
       "                        <td id=\"T_7a2ed_row8_col1\" class=\"data row8 col1\" >Peach Mango Juice</td>\n",
       "                        <td id=\"T_7a2ed_row8_col2\" class=\"data row8 col2\" >62.5%</td>\n",
       "            </tr>\n",
       "            <tr>\n",
       "                        <th id=\"T_7a2ed_level0_row9\" class=\"row_heading level0 row9\" >9</th>\n",
       "                        <td id=\"T_7a2ed_row9_col0\" class=\"data row9 col0\" >12</td>\n",
       "                        <td id=\"T_7a2ed_row9_col1\" class=\"data row9 col1\" >Chocolate Fudge Layer Cake</td>\n",
       "                        <td id=\"T_7a2ed_row9_col2\" class=\"data row9 col2\" >39.0%</td>\n",
       "            </tr>\n",
       "            <tr>\n",
       "                        <th id=\"T_7a2ed_level0_row10\" class=\"row_heading level0 row10\" >10</th>\n",
       "                        <td id=\"T_7a2ed_row10_col0\" class=\"data row10 col0\" >13</td>\n",
       "                        <td id=\"T_7a2ed_row10_col1\" class=\"data row10 col1\" >Saline Nasal Mist</td>\n",
       "                        <td id=\"T_7a2ed_row10_col2\" class=\"data row10 col2\" >50.0%</td>\n",
       "            </tr>\n",
       "            <tr>\n",
       "                        <th id=\"T_7a2ed_level0_row11\" class=\"row_heading level0 row11\" >11</th>\n",
       "                        <td id=\"T_7a2ed_row11_col0\" class=\"data row11 col0\" >14</td>\n",
       "                        <td id=\"T_7a2ed_row11_col1\" class=\"data row11 col1\" >Fresh Scent Dishwasher Cleaner</td>\n",
       "                        <td id=\"T_7a2ed_row11_col2\" class=\"data row11 col2\" >0.0%</td>\n",
       "            </tr>\n",
       "            <tr>\n",
       "                        <th id=\"T_7a2ed_level0_row12\" class=\"row_heading level0 row12\" >12</th>\n",
       "                        <td id=\"T_7a2ed_row12_col0\" class=\"data row12 col0\" >17</td>\n",
       "                        <td id=\"T_7a2ed_row12_col1\" class=\"data row12 col1\" >Rendered Duck Fat</td>\n",
       "                        <td id=\"T_7a2ed_row12_col2\" class=\"data row12 col2\" >0.0%</td>\n",
       "            </tr>\n",
       "            <tr>\n",
       "                        <th id=\"T_7a2ed_level0_row13\" class=\"row_heading level0 row13\" >13</th>\n",
       "                        <td id=\"T_7a2ed_row13_col0\" class=\"data row13 col0\" >18</td>\n",
       "                        <td id=\"T_7a2ed_row13_col1\" class=\"data row13 col1\" >Pizza for One Suprema  Frozen Pizza</td>\n",
       "                        <td id=\"T_7a2ed_row13_col2\" class=\"data row13 col2\" >53.3%</td>\n",
       "            </tr>\n",
       "            <tr>\n",
       "                        <th id=\"T_7a2ed_level0_row14\" class=\"row_heading level0 row14\" >14</th>\n",
       "                        <td id=\"T_7a2ed_row14_col0\" class=\"data row14 col0\" >19</td>\n",
       "                        <td id=\"T_7a2ed_row14_col1\" class=\"data row14 col1\" >Gluten Free Quinoa Three Cheese & Mushroom Blend</td>\n",
       "                        <td id=\"T_7a2ed_row14_col2\" class=\"data row14 col2\" >0.0%</td>\n",
       "            </tr>\n",
       "            <tr>\n",
       "                        <th id=\"T_7a2ed_level0_row15\" class=\"row_heading level0 row15\" >15</th>\n",
       "                        <td id=\"T_7a2ed_row15_col0\" class=\"data row15 col0\" >21</td>\n",
       "                        <td id=\"T_7a2ed_row15_col1\" class=\"data row15 col1\" >Small & Medium Dental Dog Treats</td>\n",
       "                        <td id=\"T_7a2ed_row15_col2\" class=\"data row15 col2\" >0.0%</td>\n",
       "            </tr>\n",
       "            <tr>\n",
       "                        <th id=\"T_7a2ed_level0_row16\" class=\"row_heading level0 row16\" >16</th>\n",
       "                        <td id=\"T_7a2ed_row16_col0\" class=\"data row16 col0\" >22</td>\n",
       "                        <td id=\"T_7a2ed_row16_col1\" class=\"data row16 col1\" >Fresh Breath Oral Rinse Mild Mint</td>\n",
       "                        <td id=\"T_7a2ed_row16_col2\" class=\"data row16 col2\" >50.0%</td>\n",
       "            </tr>\n",
       "            <tr>\n",
       "                        <th id=\"T_7a2ed_level0_row17\" class=\"row_heading level0 row17\" >17</th>\n",
       "                        <td id=\"T_7a2ed_row17_col0\" class=\"data row17 col0\" >23</td>\n",
       "                        <td id=\"T_7a2ed_row17_col1\" class=\"data row17 col1\" >Organic Turkey Burgers</td>\n",
       "                        <td id=\"T_7a2ed_row17_col2\" class=\"data row17 col2\" >38.1%</td>\n",
       "            </tr>\n",
       "            <tr>\n",
       "                        <th id=\"T_7a2ed_level0_row18\" class=\"row_heading level0 row18\" >18</th>\n",
       "                        <td id=\"T_7a2ed_row18_col0\" class=\"data row18 col0\" >24</td>\n",
       "                        <td id=\"T_7a2ed_row18_col1\" class=\"data row18 col1\" >Tri-Vi-Sol® Vitamins A-C-and D Supplement Drops for Infants</td>\n",
       "                        <td id=\"T_7a2ed_row18_col2\" class=\"data row18 col2\" >0.0%</td>\n",
       "            </tr>\n",
       "            <tr>\n",
       "                        <th id=\"T_7a2ed_level0_row19\" class=\"row_heading level0 row19\" >19</th>\n",
       "                        <td id=\"T_7a2ed_row19_col0\" class=\"data row19 col0\" >25</td>\n",
       "                        <td id=\"T_7a2ed_row19_col1\" class=\"data row19 col1\" >Salted Caramel Lean Protein & Fiber Bar</td>\n",
       "                        <td id=\"T_7a2ed_row19_col2\" class=\"data row19 col2\" >67.5%</td>\n",
       "            </tr>\n",
       "    </tbody></table>"
      ],
      "text/plain": [
       "<pandas.io.formats.style.Styler at 0x7f25d8e6d9d0>"
      ]
     },
     "execution_count": 72,
     "metadata": {},
     "output_type": "execute_result"
    }
   ],
   "source": [
    "#ADDED BY REVIEWER\n",
    "\n",
    "#ADDED BY REVIEWER\n",
    "\n",
    "#Get the reorder ratio\n",
    "reorder_pct = merged_df.groupby(['product_id', 'product_name'])['reordered'].mean().to_frame().reset_index()\n",
    "\n",
    "#Format the output\n",
    "reorder_pct.head(20).style.format({'reordered': '{:.1%}'}) #format to percentage with 1 decimal"
   ]
  },
  {
   "cell_type": "code",
   "execution_count": 73,
   "id": "103e7fe1",
   "metadata": {
    "id": "103e7fe1"
   },
   "outputs": [],
   "source": [
    "reorder_rates = reorder_rates.sort_values(ascending=False)"
   ]
  },
  {
   "cell_type": "code",
   "execution_count": 74,
   "id": "3ed0b7ff-ead5-4382-b577-1276fabeca4d",
   "metadata": {},
   "outputs": [
    {
     "name": "stdout",
     "output_type": "stream",
     "text": [
      "\n",
      "Reorder rates by product (%):\n",
      "product_id  product_name                                     \n",
      "16333       Cucumbers Eye Makeup Remover Pads                    100.0\n",
      "36237       Dental Chews Small/Medium Dog Treats                 100.0\n",
      "10378       Honey Flake & Oat Clusters                           100.0\n",
      "33591       Even Advanced Sea Lipids Daily Cream                 100.0\n",
      "36184       Sliced Pancetta                                      100.0\n",
      "17380       Traditional Popover Mix                              100.0\n",
      "48840       Chai Spice Organic Tea                               100.0\n",
      "14516       Canine Cuisine Poultry Multipack                     100.0\n",
      "18997       Asian Style Sweet Chili Sauce & Marinade             100.0\n",
      "36193       Blackberry Pomegranate Ginger Sparkling Beverage     100.0\n",
      "28497       Pull 'n Play Cat Treat Play Pack                     100.0\n",
      "24732       Stage 2: Active Baby HEC Liquid Laundry Detergent    100.0\n",
      "7366        Lattice Cherry Pie                                   100.0\n",
      "17379       Complete Care Original Flavor Toothpaste             100.0\n",
      "7370        Vitamin C Renewal Cream                              100.0\n",
      "41728       Wheat Thins Multipack Variety 12 Ct 12oz             100.0\n",
      "7375        Cheddar Cheese Mashed Potatoes                       100.0\n",
      "5317        Ruled White Index Cards                              100.0\n",
      "5308        Chocolate Banana Snack Bar                           100.0\n",
      "7378        Soothing Diaper Cream                                100.0\n",
      "Name: reordered, dtype: float64\n"
     ]
    }
   ],
   "source": [
    "print(\"\\nReorder rates by product (%):\")\n",
    "print(reorder_rates.head(20))"
   ]
  },
  {
   "cell_type": "code",
   "execution_count": 75,
   "id": "97d6a5b0-43fd-4ead-99e5-f36ad4304baf",
   "metadata": {},
   "outputs": [
    {
     "name": "stdout",
     "output_type": "stream",
     "text": [
      "       product_id                                product_name  reordered\n",
      "0           16333           Cucumbers Eye Makeup Remover Pads      100.0\n",
      "1           36237        Dental Chews Small/Medium Dog Treats      100.0\n",
      "2           10378                  Honey Flake & Oat Clusters      100.0\n",
      "3           33591        Even Advanced Sea Lipids Daily Cream      100.0\n",
      "4           36184                             Sliced Pancetta      100.0\n",
      "...           ...                                         ...        ...\n",
      "44511       25053             Frost Arctic Blitz Sports Drink        0.0\n",
      "44512       25051                     Herb for Beef Gravy Mix        0.0\n",
      "44513       25045                        Bandages- Waterproof        0.0\n",
      "44514       25044  Pure Pacific Mountain Strawberry Preserves        0.0\n",
      "44515       24793                            Sea Salt- Course        0.0\n",
      "\n",
      "[44516 rows x 3 columns]\n"
     ]
    }
   ],
   "source": [
    "reorder_rates = reorder_rates.reset_index()\n",
    "print(reorder_rates)"
   ]
  },
  {
   "cell_type": "code",
   "execution_count": 76,
   "id": "e809b66f-e1e4-4907-b591-e8ff568151f0",
   "metadata": {
    "scrolled": true
   },
   "outputs": [
    {
     "name": "stdout",
     "output_type": "stream",
     "text": [
      "       product_id                                       product_name  \\\n",
      "0               1                         Chocolate Sandwich Cookies   \n",
      "1               2                                   All-Seasons Salt   \n",
      "2               3               Robust Golden Unsweetened Oolong Tea   \n",
      "3               4  Smart Ones Classic Favorites Mini Rigatoni Wit...   \n",
      "4               7                     Pure Coconut Water With Orange   \n",
      "...           ...                                                ...   \n",
      "44511       49684          Vodka- Triple Distilled- Twist of Vanilla   \n",
      "44512       49685                 En Croute Roast Hazelnut Cranberry   \n",
      "44513       49686                                   Artisan Baguette   \n",
      "44514       49687         Smartblend Healthy Metabolism Dry Cat Food   \n",
      "44515       49688                             Fresh Foaming Cleanser   \n",
      "\n",
      "       reordered  \n",
      "0          56.43  \n",
      "1           0.00  \n",
      "2          73.81  \n",
      "3          51.02  \n",
      "4          50.00  \n",
      "...          ...  \n",
      "44511       0.00  \n",
      "44512      50.00  \n",
      "44513      62.50  \n",
      "44514       0.00  \n",
      "44515      11.11  \n",
      "\n",
      "[44516 rows x 3 columns]\n"
     ]
    }
   ],
   "source": [
    "reorder_rates = reorder_rates.sort_values('product_id').reset_index(drop=True)\n",
    "print(reorder_rates)"
   ]
  },
  {
   "cell_type": "markdown",
   "id": "subject-boxing",
   "metadata": {
    "id": "subject-boxing"
   },
   "source": [
    "### [C4] For each customer, what proportion of their products ordered are reorders?\n",
    "\n",
    "To calculate the proportion of products reordered by each customer:\n",
    "\n",
    "1. **Merge the datasets**: Combine `order_products` with `orders` to link order and customer information.\n",
    "2. **Group the data**: Group by `user_id` to focus on each customer's ordering behavior.\n",
    "3. **Calculate the mean of `reordered`**: Use `.mean()` on the `reordered` column to determine the proportion of products reordered by each customer.\n",
    "4. **Sort the results**: Use `.sort_values(ascending=False)` to identify customers with the highest reorder rates.\n",
    "5. **Convert to a DataFrame**: Use `.reset_index()` to format the grouped data into a structured DataFrame for further analysis.\n",
    "\n",
    "This analysis reveals the extent to which individual customers reorder products, providing insights into customer loyalty and preferences.\n"
   ]
  },
  {
   "cell_type": "code",
   "execution_count": 77,
   "id": "medical-couple",
   "metadata": {
    "id": "medical-couple",
    "scrolled": true
   },
   "outputs": [
    {
     "name": "stdout",
     "output_type": "stream",
     "text": [
      "         order_id  product_id  add_to_cart_order  reordered  user_id  \\\n",
      "0         2141543       11440                 17          0    58454   \n",
      "1         2141543       31869                 15          1    58454   \n",
      "2         2141543       30233                  9          1    58454   \n",
      "3         2141543       27966                 20          1    58454   \n",
      "4         2141543       13176                  2          1    58454   \n",
      "...           ...         ...                ...        ...      ...   \n",
      "4545002   1790509       43739                  1          1    60894   \n",
      "4545003   1274005       38275                  1          1    32958   \n",
      "4545004    812418       46149                  1          1   130466   \n",
      "4545005   2666881         196                  1          1    33946   \n",
      "4545006   1461911       33198                  1          1    54019   \n",
      "\n",
      "         order_number  order_dow  order_hour_of_day  days_since_prior_order  \n",
      "0                  25          0                 15                     8.0  \n",
      "1                  25          0                 15                     8.0  \n",
      "2                  25          0                 15                     8.0  \n",
      "3                  25          0                 15                     8.0  \n",
      "4                  25          0                 15                     8.0  \n",
      "...               ...        ...                ...                     ...  \n",
      "4545002             9          2                 21                    18.0  \n",
      "4545003             7          5                 17                     1.0  \n",
      "4545004            34          1                 14                     0.0  \n",
      "4545005            12          1                  8                    17.0  \n",
      "4545006            10          5                 11                    23.0  \n",
      "\n",
      "[4545007 rows x 9 columns]\n"
     ]
    }
   ],
   "source": [
    "merge_df = order_products.merge(orders, on='order_id')\n",
    "\n",
    "print(merge_df)"
   ]
  },
  {
   "cell_type": "code",
   "execution_count": 78,
   "id": "8892e4b4",
   "metadata": {
    "id": "8892e4b4"
   },
   "outputs": [],
   "source": [
    "reorder_rates = merge_df.groupby('user_id')['reordered'].mean().reset_index()"
   ]
  },
  {
   "cell_type": "code",
   "execution_count": 79,
   "id": "f3e09398-999a-4afb-b109-fe82021e37ad",
   "metadata": {},
   "outputs": [],
   "source": [
    "reorder_rates = reorder_rates.sort_values('reordered', ascending=False)"
   ]
  },
  {
   "cell_type": "code",
   "execution_count": 80,
   "id": "b4b37f2f-39fc-4817-b053-5be730f3dde5",
   "metadata": {},
   "outputs": [
    {
     "name": "stdout",
     "output_type": "stream",
     "text": [
      "   user_id  reordered\n",
      "0   137587        1.0\n",
      "1   173474        1.0\n",
      "2    13918        1.0\n",
      "3    62300        1.0\n",
      "4    62307        1.0\n",
      "5    96301        1.0\n",
      "6    62312        1.0\n",
      "7    48616        1.0\n",
      "8    62316        1.0\n",
      "9   191162        1.0\n"
     ]
    }
   ],
   "source": [
    "reorder_rates = reorder_rates.reset_index(drop=True)\n",
    "print(reorder_rates.head(10))"
   ]
  },
  {
   "cell_type": "code",
   "execution_count": 81,
   "id": "3da8d27f-2dfd-42e3-98b1-4347ff86b29c",
   "metadata": {},
   "outputs": [
    {
     "name": "stdout",
     "output_type": "stream",
     "text": [
      "order_products info:\n",
      "1    2683838\n",
      "0    1861169\n",
      "Name: reordered, dtype: int64\n",
      "\n",
      "merge_df shape: (4545007, 9)\n",
      "\n",
      "Sample of merge_df:\n",
      "   order_id  user_id  reordered\n",
      "0   2141543    58454          0\n",
      "1   2141543    58454          1\n",
      "2   2141543    58454          1\n",
      "3   2141543    58454          1\n",
      "4   2141543    58454          1\n"
     ]
    }
   ],
   "source": [
    "print(\"order_products info:\")\n",
    "print(order_products['reordered'].value_counts())\n",
    "\n",
    "print(\"\\nmerge_df shape:\", merge_df.shape)\n",
    "print(\"\\nSample of merge_df:\")\n",
    "print(merge_df[['order_id', 'user_id', 'reordered']].head())\n"
   ]
  },
  {
   "cell_type": "markdown",
   "id": "dc3cef98-480d-4608-8dc9-9810ada5c0be",
   "metadata": {},
   "source": [
    "<div class=\"alert alert-success\"; style=\"border-left: 7px solid green\">\n",
    "<b>✅ Reviewer's comment, v. 3</b> \n",
    "    \n",
    "✔️ \n",
    "    "
   ]
  },
  {
   "cell_type": "markdown",
   "id": "92d35137",
   "metadata": {
    "id": "92d35137"
   },
   "source": [
    "### [C5] What are the top 20 items that people put in their carts first?\n",
    "\n",
    "To identify the top 20 items that people most frequently add to their carts first:\n",
    "\n",
    "1. **Merge the datasets**: Combine `order_products` with `products` to link product names and IDs.\n",
    "2. **Filter the data**: Focus on rows where `add_to_cart_order` equals 1, indicating the first item added to the cart.\n",
    "3. **Group the data**: Group by `product_id` and `product_name` to aggregate the count of how often each product was the first in a cart.\n",
    "4. **Count occurrences**: Use `.count()` to calculate the total number of times each product was the first added.\n",
    "5. **Sort the results**: Use `.sort_values(ascending=False)` to rank products by their first-in-cart frequency.\n",
    "6. **Display the top 20**: Use `.head(20)` to extract the most popular first-in-cart items.\n",
    "\n",
    "This provides insights into which products customers prioritize in their shopping process.\n"
   ]
  },
  {
   "cell_type": "code",
   "execution_count": 82,
   "id": "0ae57274",
   "metadata": {
    "id": "0ae57274",
    "scrolled": true
   },
   "outputs": [
    {
     "name": "stdout",
     "output_type": "stream",
     "text": [
      "         order_id  product_id  add_to_cart_order  reordered  \\\n",
      "0         2141543       11440                 17          0   \n",
      "1          147172       11440                  7          1   \n",
      "2         3341719       11440                  4          1   \n",
      "3         1938779       11440                  8          1   \n",
      "4         1728338       11440                 23          0   \n",
      "...           ...         ...                ...        ...   \n",
      "4524190    267402       45226                 14          0   \n",
      "4524191   2621676       25201                 10          0   \n",
      "4524192    937623       49153                  2          0   \n",
      "4524193    532895        8182                  1          0   \n",
      "4524194   3132243       40024                  1          0   \n",
      "\n",
      "                               product_name  aisle_id  department_id  \n",
      "0            Chicken Breast Tenders Breaded       129              1  \n",
      "1            Chicken Breast Tenders Breaded       129              1  \n",
      "2            Chicken Breast Tenders Breaded       129              1  \n",
      "3            Chicken Breast Tenders Breaded       129              1  \n",
      "4            Chicken Breast Tenders Breaded       129              1  \n",
      "...                                     ...       ...            ...  \n",
      "4524190   Sweet Teriyaki Chicken Oven Sauce         5             13  \n",
      "4524191          Crisp Waters Candle Scents       101             17  \n",
      "4524192  Shine Collection Brillance Shampoo        22             11  \n",
      "4524193    Total Mint Stripe Gel Toothpaste        20             11  \n",
      "4524194                 Egg Replacer Powder        17             13  \n",
      "\n",
      "[4524195 rows x 7 columns]\n"
     ]
    }
   ],
   "source": [
    "first_items = order_products.merge(products, on='product_id')\n",
    "print(first_items)"
   ]
  },
  {
   "cell_type": "code",
   "execution_count": 83,
   "id": "forty-netherlands",
   "metadata": {
    "id": "forty-netherlands",
    "scrolled": true
   },
   "outputs": [
    {
     "name": "stdout",
     "output_type": "stream",
     "text": [
      "         order_id  product_id  add_to_cart_order  reordered  \\\n",
      "6         1463503       11440                  1          0   \n",
      "17        2201430       11440                  1          1   \n",
      "21        1036054       11440                  1          1   \n",
      "50        3008652       11440                  1          1   \n",
      "62        2946144       11440                  1          1   \n",
      "...           ...         ...                ...        ...   \n",
      "4524162   1518168       16952                  1          0   \n",
      "4524166   1776450       21507                  1          0   \n",
      "4524183   2333206       25467                  1          0   \n",
      "4524193    532895        8182                  1          0   \n",
      "4524194   3132243       40024                  1          0   \n",
      "\n",
      "                                     product_name  aisle_id  department_id  \n",
      "6                  Chicken Breast Tenders Breaded       129              1  \n",
      "17                 Chicken Breast Tenders Breaded       129              1  \n",
      "21                 Chicken Breast Tenders Breaded       129              1  \n",
      "50                 Chicken Breast Tenders Breaded       129              1  \n",
      "62                 Chicken Breast Tenders Breaded       129              1  \n",
      "...                                           ...       ...            ...  \n",
      "4524162                     Sensitive Night Cream        73             11  \n",
      "4524166  Gluten Free All-Purpose Rice Flour Blend        17             13  \n",
      "4524183                   Madagascar Pure Vanilla        17             13  \n",
      "4524193          Total Mint Stripe Gel Toothpaste        20             11  \n",
      "4524194                       Egg Replacer Powder        17             13  \n",
      "\n",
      "[448208 rows x 7 columns]\n"
     ]
    }
   ],
   "source": [
    "merged_df = order_products.merge(products, on='product_id')\n",
    "first_items = merged_df[merged_df['add_to_cart_order'] == 1]\n",
    "\n",
    "print(first_items)"
   ]
  },
  {
   "cell_type": "code",
   "execution_count": 84,
   "id": "08e41ec2",
   "metadata": {
    "id": "08e41ec2"
   },
   "outputs": [
    {
     "name": "stdout",
     "output_type": "stream",
     "text": [
      "                product_name  count\n",
      "0                     Banana  66050\n",
      "1     Bag of Organic Bananas  53297\n",
      "2       Organic Strawberries  37039\n",
      "3       Organic Baby Spinach  33971\n",
      "4       Organic Hass Avocado  29773\n",
      "5            Organic Avocado  24689\n",
      "6                Large Lemon  21495\n",
      "7               Strawberries  20018\n",
      "8                      Limes  19690\n",
      "9         Organic Whole Milk  19600\n",
      "10       Organic Raspberries  19197\n",
      "11      Organic Yellow Onion  15898\n",
      "12            Organic Garlic  15292\n",
      "13          Organic Zucchini  14584\n",
      "14       Organic Blueberries  13879\n",
      "15            Cucumber Kirby  13675\n",
      "16        Organic Fuji Apple  12544\n",
      "17             Organic Lemon  12232\n",
      "18  Apple Honeycrisp Organic  11993\n",
      "19    Organic Grape Tomatoes  11781\n"
     ]
    }
   ],
   "source": [
    "top_first_items = merged_df.groupby('product_name')['order_id'].count()\n",
    "\n",
    "top_first_items = top_first_items.sort_values(ascending=False).head(20)\n",
    "\n",
    "top_first_items = top_first_items.reset_index(name='count')\n",
    "\n",
    "print(top_first_items)"
   ]
  },
  {
   "cell_type": "code",
   "execution_count": 85,
   "id": "bdd6ce11-e176-4733-a113-1ea2369226ab",
   "metadata": {},
   "outputs": [
    {
     "name": "stdout",
     "output_type": "stream",
     "text": [
      "       product_id                 product_name  department  count\n",
      "13265       24852                       Banana     produce  15562\n",
      "7045        13176       Bag of Organic Bananas     produce  11026\n",
      "14863       27845           Organic Whole Milk  dairy eggs   4363\n",
      "11255       21137         Organic Strawberries     produce   3946\n",
      "25145       47209         Organic Hass Avocado     produce   3390\n",
      "11654       21903         Organic Baby Spinach     produce   3336\n",
      "25435       47766              Organic Avocado     produce   3044\n",
      "10497       19660                 Spring Water   beverages   2336\n",
      "8947        16797                 Strawberries     produce   2308\n",
      "14937       27966          Organic Raspberries     produce   2024\n",
      "23750       44632   Sparkling Water Grapefruit   beverages   1914\n",
      "26210       49235          Organic Half & Half  dairy eggs   1797\n",
      "25361       47626                  Large Lemon     produce   1737\n",
      "115           196                         Soda   beverages   1733\n",
      "20628       38689     Organic Reduced Fat Milk  dairy eggs   1397\n",
      "14000       26209                        Limes     produce   1370\n",
      "6583        12341                Hass Avocados     produce   1340\n",
      "3121         5785  Organic Reduced Fat 2% Milk  dairy eggs   1310\n",
      "14477       27086                  Half & Half  dairy eggs   1309\n",
      "23070       43352                  Raspberries     produce   1246\n"
     ]
    }
   ],
   "source": [
    "merged_df_with_dept = merged_df.merge(departments, on='department_id')\n",
    "\n",
    "# Then get the top 20 first items with departments\n",
    "top_first_items = merged_df_with_dept[merged_df_with_dept['add_to_cart_order'] == 1].groupby(['product_id', 'product_name', 'department']).size().reset_index(name='count')\n",
    "top_20_with_dept = top_first_items.sort_values('count', ascending=False).head(20)\n",
    "\n",
    "print(top_20_with_dept)"
   ]
  },
  {
   "cell_type": "markdown",
   "id": "28ce9872",
   "metadata": {
    "id": "28ce9872"
   },
   "source": [
    "The products that are most often placed into the cart first are produce, dairy, and beverages such as soda or water. I couldn't really say why that is without experience using Instacart because this could have more to do with app design than properties of the products. I do notice that there is considerable overlap between this result and the previous result for most popular and most reordered item types. It could simply be that the app prioritizes popular items as the first suggested purchases, so it happens to be more convenient for customers to place these items in their cart first."
   ]
  },
  {
   "cell_type": "markdown",
   "id": "11b8fa69-64b0-4306-af17-4ad76540bf9d",
   "metadata": {},
   "source": [
    "<div class=\"alert alert-success\"; style=\"border-left: 7px solid green\">\n",
    "<b>✅ Reviewer's comment, v. 1</b> \n",
    "    \n",
    "You've done great job on the project!"
   ]
  },
  {
   "cell_type": "markdown",
   "id": "3db31e59-cae3-4011-8aa1-57387e43ff6f",
   "metadata": {
    "id": "f4a2af09"
   },
   "source": [
    "We have found that the top 20 items are in produce! Being 90% of what customers order, next would be dairy and then beverages.  "
   ]
  },
  {
   "cell_type": "markdown",
   "id": "c220fc0f-48f4-41e0-a569-2decb483650c",
   "metadata": {},
   "source": [
    "Analysis Summary\n",
    "\n",
    "Insight 1: The top 20 first items placed in a customers cart are: 12 being produce!\n",
    "Insight 2: Numner 1 being Bananas and number 2 Organic Bananas!\n",
    "Insight 3: Then it would be 5 with Dairy items\n",
    "Insight 4: and finally 3 with beverages. \n",
    "Insight 5: The typical order contains 5 or 6 items, with most orders having between 1 and 20 items.\n",
    "Insight 6: There has been 2,683,838 customers who have reordered, while 1,861,169 who have not. \n",
    "Insight 7: Sunday is the day with most orders placed \n",
    "Insight 8: Minimum order size: 1, Maximum order size: 127, Average items per order: 10.10, Median items per order: 8.0, Most common order size: 5\n"
   ]
  },
  {
   "cell_type": "markdown",
   "id": "2aa6f7e4-736c-47c2-b7c8-43eb6ebb2794",
   "metadata": {},
   "source": [
    "\n",
    "<div class=\"alert alert-success\"; style=\"border-left: 7px solid green\">\n",
    "<b>✅ Reviewer's comment, v. 3</b>  \n",
    "\n",
    "✔️ Excellent summary of the insights — it gives a clear overview of what was discovered during the analysis of Instacart activity.\n",
    "\n",
    "To make it more readable, consider formatting the insights as a bullet-point list using <code>*</code> in front of each point.  \n",
    "This will improve the visual structure and make it easier for readers to follow.\n",
    "\n",
    "If you’d like a quick refresher, here’s a helpful Markdown syntax guide that shows how to create lists, bold text, and more:\n",
    "\n",
    "🔗 <a href=\"https://www.markdownguide.org/basic-syntax/\" target=\"_blank\">Markdown Guide</a>\n"
   ]
  }
 ],
 "metadata": {
  "colab": {
   "provenance": []
  },
  "kernelspec": {
   "display_name": "Python 3 (ipykernel)",
   "language": "python",
   "name": "python3"
  },
  "language_info": {
   "codemirror_mode": {
    "name": "ipython",
    "version": 3
   },
   "file_extension": ".py",
   "mimetype": "text/x-python",
   "name": "python",
   "nbconvert_exporter": "python",
   "pygments_lexer": "ipython3",
   "version": "3.9.22"
  }
 },
 "nbformat": 4,
 "nbformat_minor": 5
}
