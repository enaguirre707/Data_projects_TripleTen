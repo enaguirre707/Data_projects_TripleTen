{
 "cells": [
  {
   "cell_type": "markdown",
   "metadata": {},
   "source": [
    "<div style=\"border:solid green 2px; padding: 20px\"> <h1 style=\"color:green; margin-bottom:20px\">Reviewers comment v1</h1>\n",
    "\n",
    "Hello Erik!\n",
    "\n",
    "I'm happy to review your project today 🙌\n",
    "\n",
    "My name is **Justino Imbert** ([this](https://hub.tripleten.com/u/125e88ae) is my Hub profile) and today I'll be reviewing your project!\n",
    "\n",
    "\n",
    "You can find my comments under the heading **«Review»**. I will categorize my comments in green, blue or red boxes like this:\n",
    "\n",
    "<div class=\"alert alert-success\">\n",
    "    <b>Success:</b> if everything is done successfully\n",
    "</div>\n",
    "<div class=\"alert alert-warning\">\n",
    "    <b>Remarks:</b> if I can give some recommendations or ways to improve the project\n",
    "</div>\n",
    "<div class=\"alert alert-danger\">\n",
    "    <b>Needs fixing:</b> if the block requires some corrections. Work cant be accepted with the red comments\n",
    "</div>\n",
    "\n",
    "Please dont remove my comments :) If you have any questions dont hesitate to respond to my comments in a different section. \n",
    "<div class=\"alert alert-info\"> <b>Student comments:</b> For example like this</div>    "
   ]
  },
  {
   "cell_type": "markdown",
   "metadata": {},
   "source": [
    "<div class=\"alert alert-block alert-success\">\n",
    "<b>Reviewer's comment v1:</b> </a>\n",
    "\n",
    "You did an awesome job on this submission! You went step by step through every task and completed them successfully, I'm approving this submission!\n",
    "\n",
    "Congrats on the great work you did in this notebook, from what you did with the `get_knn` function to the analytical proof, looking great!\n",
    "\n",
    "I'm looking forward to reviewing your future work!\n",
    "\n",
    "Good luck!\n",
    "    \n",
    "</div>"
   ]
  },
  {
   "cell_type": "markdown",
   "metadata": {},
   "source": [
    "# Statement"
   ]
  },
  {
   "cell_type": "markdown",
   "metadata": {},
   "source": [
    "The Sure Tomorrow insurance company wants to solve several tasks with the help of Machine Learning and you are asked to evaluate that possibility.\n",
    "\n",
    "- Task 1: Find customers who are similar to a given customer. This will help the company's agents with marketing.\n",
    "- Task 2: Predict whether a new customer is likely to receive an insurance benefit. Can a prediction model do better than a dummy model?\n",
    "- Task 3: Predict the number of insurance benefits a new customer is likely to receive using a linear regression model.\n",
    "- Task 4: Protect clients' personal data without breaking the model from the previous task. It's necessary to develop a data transformation algorithm that would make it hard to recover personal information if the data fell into the wrong hands. This is called data masking, or data obfuscation. But the data should be protected in such a way that the quality of machine learning models doesn't suffer. You don't need to pick the best model, just prove that the algorithm works correctly."
   ]
  },
  {
   "cell_type": "markdown",
   "metadata": {},
   "source": [
    "# Data Preprocessing & Exploration\n",
    "\n",
    "## Initialization"
   ]
  },
  {
   "cell_type": "code",
   "execution_count": 117,
   "metadata": {},
   "outputs": [],
   "source": [
    "import numpy as np\n",
    "import pandas as pd\n",
    "import math\n",
    "\n",
    "import seaborn as sns\n",
    "import matplotlib.pyplot as plt\n",
    "\n",
    "import sklearn.linear_model\n",
    "import sklearn.metrics\n",
    "import sklearn.neighbors\n",
    "import sklearn.preprocessing\n",
    "\n",
    "from sklearn.linear_model import LinearRegression\n",
    "from sklearn.metrics import r2_score\n",
    "from sklearn.neighbors import NearestNeighbors\n",
    "from sklearn.preprocessing import StandardScaler, MaxAbsScaler\n",
    "from sklearn.linear_model import LogisticRegression\n",
    "from sklearn.model_selection import train_test_split\n",
    "from sklearn.metrics import mean_squared_error, r2_score\n",
    "\n",
    "\n",
    "from IPython.display import display"
   ]
  },
  {
   "cell_type": "markdown",
   "metadata": {},
   "source": [
    "## Load Data"
   ]
  },
  {
   "cell_type": "markdown",
   "metadata": {},
   "source": [
    "Load data and conduct a basic check that it's free from obvious issues."
   ]
  },
  {
   "cell_type": "code",
   "execution_count": 68,
   "metadata": {},
   "outputs": [],
   "source": [
    "df = pd.read_csv('/datasets/insurance_us.csv')"
   ]
  },
  {
   "cell_type": "code",
   "execution_count": 69,
   "metadata": {},
   "outputs": [
    {
     "name": "stdout",
     "output_type": "stream",
     "text": [
      "Dataset shape: (5000, 5)\n",
      "\n",
      "Column names:\n",
      "['Gender', 'Age', 'Salary', 'Family members', 'Insurance benefits']\n",
      "\n",
      "First few rows:\n",
      "   Gender   Age   Salary  Family members  Insurance benefits\n",
      "0       1  41.0  49600.0               1                   0\n",
      "1       0  46.0  38000.0               1                   1\n",
      "2       0  29.0  21000.0               0                   0\n",
      "3       0  21.0  41700.0               2                   0\n",
      "4       1  28.0  26100.0               0                   0\n",
      "\n",
      "Data types:\n",
      "Gender                  int64\n",
      "Age                   float64\n",
      "Salary                float64\n",
      "Family members          int64\n",
      "Insurance benefits      int64\n",
      "dtype: object\n"
     ]
    }
   ],
   "source": [
    "# Basic info about the dataset\n",
    "print(\"Dataset shape:\", df.shape)\n",
    "print(\"\\nColumn names:\")\n",
    "print(df.columns.tolist())\n",
    "print(\"\\nFirst few rows:\")\n",
    "print(df.head())\n",
    "print(\"\\nData types:\")\n",
    "print(df.dtypes)"
   ]
  },
  {
   "cell_type": "markdown",
   "metadata": {},
   "source": [
    "We rename the colums to make the code look more consistent with its style."
   ]
  },
  {
   "cell_type": "code",
   "execution_count": 70,
   "metadata": {},
   "outputs": [],
   "source": [
    "df = df.rename(columns={'Gender': 'gender', 'Age': 'age', 'Salary': 'income', 'Family members': 'family_members', 'Insurance benefits': 'insurance_benefits'})"
   ]
  },
  {
   "cell_type": "code",
   "execution_count": 71,
   "metadata": {},
   "outputs": [
    {
     "name": "stdout",
     "output_type": "stream",
     "text": [
      "Index(['gender', 'age', 'income', 'family_members', 'insurance_benefits'], dtype='object')\n"
     ]
    }
   ],
   "source": [
    "print(df.columns)"
   ]
  },
  {
   "cell_type": "code",
   "execution_count": 72,
   "metadata": {},
   "outputs": [
    {
     "name": "stdout",
     "output_type": "stream",
     "text": [
      "[1 0]\n",
      "\n",
      "original distribution:\n",
      "0    2505\n",
      "1    2495\n",
      "Name: gender, dtype: int64\n"
     ]
    }
   ],
   "source": [
    "print(df['gender'].unique())\n",
    "print()\n",
    "print(\"original distribution:\")\n",
    "print(df['gender'].value_counts())"
   ]
  },
  {
   "cell_type": "code",
   "execution_count": 73,
   "metadata": {},
   "outputs": [],
   "source": [
    "df['gender_encoded'] = df['gender']  # Save numeric version\n",
    "df['gender_label'] = df['gender_encoded'].map({0: 'Male', 1: 'Female'})\n"
   ]
  },
  {
   "cell_type": "code",
   "execution_count": 74,
   "metadata": {},
   "outputs": [
    {
     "data": {
      "text/html": [
       "<div>\n",
       "<style scoped>\n",
       "    .dataframe tbody tr th:only-of-type {\n",
       "        vertical-align: middle;\n",
       "    }\n",
       "\n",
       "    .dataframe tbody tr th {\n",
       "        vertical-align: top;\n",
       "    }\n",
       "\n",
       "    .dataframe thead th {\n",
       "        text-align: right;\n",
       "    }\n",
       "</style>\n",
       "<table border=\"1\" class=\"dataframe\">\n",
       "  <thead>\n",
       "    <tr style=\"text-align: right;\">\n",
       "      <th></th>\n",
       "      <th>gender</th>\n",
       "      <th>age</th>\n",
       "      <th>income</th>\n",
       "      <th>family_members</th>\n",
       "      <th>insurance_benefits</th>\n",
       "      <th>gender_encoded</th>\n",
       "      <th>gender_label</th>\n",
       "    </tr>\n",
       "  </thead>\n",
       "  <tbody>\n",
       "    <tr>\n",
       "      <th>101</th>\n",
       "      <td>0</td>\n",
       "      <td>49.0</td>\n",
       "      <td>42500.0</td>\n",
       "      <td>1</td>\n",
       "      <td>2</td>\n",
       "      <td>0</td>\n",
       "      <td>Male</td>\n",
       "    </tr>\n",
       "    <tr>\n",
       "      <th>4981</th>\n",
       "      <td>1</td>\n",
       "      <td>26.0</td>\n",
       "      <td>39800.0</td>\n",
       "      <td>0</td>\n",
       "      <td>0</td>\n",
       "      <td>1</td>\n",
       "      <td>Female</td>\n",
       "    </tr>\n",
       "    <tr>\n",
       "      <th>3392</th>\n",
       "      <td>0</td>\n",
       "      <td>25.0</td>\n",
       "      <td>48100.0</td>\n",
       "      <td>0</td>\n",
       "      <td>0</td>\n",
       "      <td>0</td>\n",
       "      <td>Male</td>\n",
       "    </tr>\n",
       "    <tr>\n",
       "      <th>4420</th>\n",
       "      <td>1</td>\n",
       "      <td>33.0</td>\n",
       "      <td>38800.0</td>\n",
       "      <td>2</td>\n",
       "      <td>0</td>\n",
       "      <td>1</td>\n",
       "      <td>Female</td>\n",
       "    </tr>\n",
       "    <tr>\n",
       "      <th>1693</th>\n",
       "      <td>0</td>\n",
       "      <td>18.0</td>\n",
       "      <td>30100.0</td>\n",
       "      <td>0</td>\n",
       "      <td>0</td>\n",
       "      <td>0</td>\n",
       "      <td>Male</td>\n",
       "    </tr>\n",
       "    <tr>\n",
       "      <th>3409</th>\n",
       "      <td>1</td>\n",
       "      <td>38.0</td>\n",
       "      <td>31100.0</td>\n",
       "      <td>1</td>\n",
       "      <td>0</td>\n",
       "      <td>1</td>\n",
       "      <td>Female</td>\n",
       "    </tr>\n",
       "    <tr>\n",
       "      <th>1674</th>\n",
       "      <td>0</td>\n",
       "      <td>46.0</td>\n",
       "      <td>61800.0</td>\n",
       "      <td>1</td>\n",
       "      <td>1</td>\n",
       "      <td>0</td>\n",
       "      <td>Male</td>\n",
       "    </tr>\n",
       "    <tr>\n",
       "      <th>3001</th>\n",
       "      <td>1</td>\n",
       "      <td>18.0</td>\n",
       "      <td>13300.0</td>\n",
       "      <td>1</td>\n",
       "      <td>0</td>\n",
       "      <td>1</td>\n",
       "      <td>Female</td>\n",
       "    </tr>\n",
       "    <tr>\n",
       "      <th>1481</th>\n",
       "      <td>0</td>\n",
       "      <td>33.0</td>\n",
       "      <td>54400.0</td>\n",
       "      <td>1</td>\n",
       "      <td>0</td>\n",
       "      <td>0</td>\n",
       "      <td>Male</td>\n",
       "    </tr>\n",
       "    <tr>\n",
       "      <th>572</th>\n",
       "      <td>1</td>\n",
       "      <td>43.0</td>\n",
       "      <td>29600.0</td>\n",
       "      <td>0</td>\n",
       "      <td>1</td>\n",
       "      <td>1</td>\n",
       "      <td>Female</td>\n",
       "    </tr>\n",
       "  </tbody>\n",
       "</table>\n",
       "</div>"
      ],
      "text/plain": [
       "      gender   age   income  family_members  insurance_benefits  \\\n",
       "101        0  49.0  42500.0               1                   2   \n",
       "4981       1  26.0  39800.0               0                   0   \n",
       "3392       0  25.0  48100.0               0                   0   \n",
       "4420       1  33.0  38800.0               2                   0   \n",
       "1693       0  18.0  30100.0               0                   0   \n",
       "3409       1  38.0  31100.0               1                   0   \n",
       "1674       0  46.0  61800.0               1                   1   \n",
       "3001       1  18.0  13300.0               1                   0   \n",
       "1481       0  33.0  54400.0               1                   0   \n",
       "572        1  43.0  29600.0               0                   1   \n",
       "\n",
       "      gender_encoded gender_label  \n",
       "101                0         Male  \n",
       "4981               1       Female  \n",
       "3392               0         Male  \n",
       "4420               1       Female  \n",
       "1693               0         Male  \n",
       "3409               1       Female  \n",
       "1674               0         Male  \n",
       "3001               1       Female  \n",
       "1481               0         Male  \n",
       "572                1       Female  "
      ]
     },
     "execution_count": 74,
     "metadata": {},
     "output_type": "execute_result"
    }
   ],
   "source": [
    "df.sample(10)"
   ]
  },
  {
   "cell_type": "code",
   "execution_count": 75,
   "metadata": {},
   "outputs": [
    {
     "name": "stdout",
     "output_type": "stream",
     "text": [
      "<class 'pandas.core.frame.DataFrame'>\n",
      "RangeIndex: 5000 entries, 0 to 4999\n",
      "Data columns (total 7 columns):\n",
      " #   Column              Non-Null Count  Dtype  \n",
      "---  ------              --------------  -----  \n",
      " 0   gender              5000 non-null   int64  \n",
      " 1   age                 5000 non-null   float64\n",
      " 2   income              5000 non-null   float64\n",
      " 3   family_members      5000 non-null   int64  \n",
      " 4   insurance_benefits  5000 non-null   int64  \n",
      " 5   gender_encoded      5000 non-null   int64  \n",
      " 6   gender_label        5000 non-null   object \n",
      "dtypes: float64(2), int64(4), object(1)\n",
      "memory usage: 273.6+ KB\n"
     ]
    }
   ],
   "source": [
    "df.info()"
   ]
  },
  {
   "cell_type": "code",
   "execution_count": 76,
   "metadata": {},
   "outputs": [],
   "source": [
    "# we may want to fix the age type (from float to int) though this is not critical\n",
    "\n",
    "df['age'] = df['age'].astype(int)"
   ]
  },
  {
   "cell_type": "code",
   "execution_count": 77,
   "metadata": {},
   "outputs": [
    {
     "name": "stdout",
     "output_type": "stream",
     "text": [
      "int64\n",
      "\n",
      "   age\n",
      "0   41\n",
      "1   46\n",
      "2   29\n",
      "3   21\n",
      "4   28\n"
     ]
    }
   ],
   "source": [
    "# check to see that the conversion was successful\n",
    "print(df['age'].dtype)\n",
    "print()\n",
    "print(df[['age']].head())"
   ]
  },
  {
   "cell_type": "code",
   "execution_count": 78,
   "metadata": {},
   "outputs": [
    {
     "name": "stdout",
     "output_type": "stream",
     "text": [
      "            gender          age        income  family_members  \\\n",
      "count  5000.000000  5000.000000   5000.000000     5000.000000   \n",
      "mean      0.499000    30.952800  39916.360000        1.194200   \n",
      "std       0.500049     8.440807   9900.083569        1.091387   \n",
      "min       0.000000    18.000000   5300.000000        0.000000   \n",
      "25%       0.000000    24.000000  33300.000000        0.000000   \n",
      "50%       0.000000    30.000000  40200.000000        1.000000   \n",
      "75%       1.000000    37.000000  46600.000000        2.000000   \n",
      "max       1.000000    65.000000  79000.000000        6.000000   \n",
      "\n",
      "       insurance_benefits  gender_encoded  \n",
      "count         5000.000000     5000.000000  \n",
      "mean             0.148000        0.499000  \n",
      "std              0.463183        0.500049  \n",
      "min              0.000000        0.000000  \n",
      "25%              0.000000        0.000000  \n",
      "50%              0.000000        0.000000  \n",
      "75%              0.000000        1.000000  \n",
      "max              5.000000        1.000000  \n"
     ]
    }
   ],
   "source": [
    "# now have a look at the data's descriptive statistics. \n",
    "print(df.describe())\n",
    "# Does everything look okay?"
   ]
  },
  {
   "cell_type": "code",
   "execution_count": 79,
   "metadata": {},
   "outputs": [
    {
     "name": "stdout",
     "output_type": "stream",
     "text": [
      "             gender          age        income  family_members  \\\n",
      "count   5000.000000  5000.000000   5000.000000     5000.000000   \n",
      "unique          NaN          NaN           NaN             NaN   \n",
      "top             NaN          NaN           NaN             NaN   \n",
      "freq            NaN          NaN           NaN             NaN   \n",
      "mean       0.499000    30.952800  39916.360000        1.194200   \n",
      "std        0.500049     8.440807   9900.083569        1.091387   \n",
      "min        0.000000    18.000000   5300.000000        0.000000   \n",
      "25%        0.000000    24.000000  33300.000000        0.000000   \n",
      "50%        0.000000    30.000000  40200.000000        1.000000   \n",
      "75%        1.000000    37.000000  46600.000000        2.000000   \n",
      "max        1.000000    65.000000  79000.000000        6.000000   \n",
      "\n",
      "        insurance_benefits  gender_encoded gender_label  \n",
      "count          5000.000000     5000.000000         5000  \n",
      "unique                 NaN             NaN            2  \n",
      "top                    NaN             NaN         Male  \n",
      "freq                   NaN             NaN         2505  \n",
      "mean              0.148000        0.499000          NaN  \n",
      "std               0.463183        0.500049          NaN  \n",
      "min               0.000000        0.000000          NaN  \n",
      "25%               0.000000        0.000000          NaN  \n",
      "50%               0.000000        0.000000          NaN  \n",
      "75%               0.000000        1.000000          NaN  \n",
      "max               5.000000        1.000000          NaN  \n"
     ]
    }
   ],
   "source": [
    "print(df.describe(include='all'))"
   ]
  },
  {
   "cell_type": "code",
   "execution_count": 80,
   "metadata": {},
   "outputs": [],
   "source": [
    "#print(df[feature_names].isna().sum())"
   ]
  },
  {
   "cell_type": "code",
   "execution_count": 81,
   "metadata": {},
   "outputs": [
    {
     "name": "stdout",
     "output_type": "stream",
     "text": [
      "Missing values per column:\n",
      "gender                0\n",
      "age                   0\n",
      "income                0\n",
      "family_members        0\n",
      "insurance_benefits    0\n",
      "gender_encoded        0\n",
      "gender_label          0\n",
      "dtype: int64\n",
      "\n",
      "Percentage of missing values:\n",
      "gender                0.0\n",
      "age                   0.0\n",
      "income                0.0\n",
      "family_members        0.0\n",
      "insurance_benefits    0.0\n",
      "gender_encoded        0.0\n",
      "gender_label          0.0\n",
      "dtype: float64\n",
      "\n",
      "Data types:\n",
      "gender                  int64\n",
      "age                     int64\n",
      "income                float64\n",
      "family_members          int64\n",
      "insurance_benefits      int64\n",
      "gender_encoded          int64\n",
      "gender_label           object\n",
      "dtype: object\n",
      "\n",
      "First 5 rows:\n",
      "   gender  age   income  family_members  insurance_benefits  gender_encoded  \\\n",
      "0       1   41  49600.0               1                   0               1   \n",
      "1       0   46  38000.0               1                   1               0   \n",
      "2       0   29  21000.0               0                   0               0   \n",
      "3       0   21  41700.0               2                   0               0   \n",
      "4       1   28  26100.0               0                   0               1   \n",
      "\n",
      "  gender_label  \n",
      "0       Female  \n",
      "1         Male  \n",
      "2         Male  \n",
      "3         Male  \n",
      "4       Female  \n"
     ]
    }
   ],
   "source": [
    "# Check for missing values in each column\n",
    "print(\"Missing values per column:\")\n",
    "print(df.isnull().sum())\n",
    "\n",
    "# Get percentage of missing values\n",
    "print(\"\\nPercentage of missing values:\")\n",
    "print((df.isnull().sum() / len(df)) * 100)\n",
    "\n",
    "# Check data types\n",
    "print(\"\\nData types:\")\n",
    "print(df.dtypes)\n",
    "\n",
    "# Look at the first few rows\n",
    "print(\"\\nFirst 5 rows:\")\n",
    "print(df.head())"
   ]
  },
  {
   "cell_type": "code",
   "execution_count": 82,
   "metadata": {},
   "outputs": [
    {
     "data": {
      "text/html": [
       "<div>\n",
       "<style scoped>\n",
       "    .dataframe tbody tr th:only-of-type {\n",
       "        vertical-align: middle;\n",
       "    }\n",
       "\n",
       "    .dataframe tbody tr th {\n",
       "        vertical-align: top;\n",
       "    }\n",
       "\n",
       "    .dataframe thead th {\n",
       "        text-align: right;\n",
       "    }\n",
       "</style>\n",
       "<table border=\"1\" class=\"dataframe\">\n",
       "  <thead>\n",
       "    <tr style=\"text-align: right;\">\n",
       "      <th></th>\n",
       "      <th>gender</th>\n",
       "      <th>age</th>\n",
       "      <th>income</th>\n",
       "      <th>family_members</th>\n",
       "      <th>insurance_benefits</th>\n",
       "      <th>gender_encoded</th>\n",
       "      <th>gender_label</th>\n",
       "    </tr>\n",
       "  </thead>\n",
       "  <tbody>\n",
       "    <tr>\n",
       "      <th>0</th>\n",
       "      <td>1</td>\n",
       "      <td>41</td>\n",
       "      <td>49600.0</td>\n",
       "      <td>1</td>\n",
       "      <td>0</td>\n",
       "      <td>1</td>\n",
       "      <td>Female</td>\n",
       "    </tr>\n",
       "    <tr>\n",
       "      <th>1</th>\n",
       "      <td>0</td>\n",
       "      <td>46</td>\n",
       "      <td>38000.0</td>\n",
       "      <td>1</td>\n",
       "      <td>1</td>\n",
       "      <td>0</td>\n",
       "      <td>Male</td>\n",
       "    </tr>\n",
       "    <tr>\n",
       "      <th>2</th>\n",
       "      <td>0</td>\n",
       "      <td>29</td>\n",
       "      <td>21000.0</td>\n",
       "      <td>0</td>\n",
       "      <td>0</td>\n",
       "      <td>0</td>\n",
       "      <td>Male</td>\n",
       "    </tr>\n",
       "    <tr>\n",
       "      <th>3</th>\n",
       "      <td>0</td>\n",
       "      <td>21</td>\n",
       "      <td>41700.0</td>\n",
       "      <td>2</td>\n",
       "      <td>0</td>\n",
       "      <td>0</td>\n",
       "      <td>Male</td>\n",
       "    </tr>\n",
       "    <tr>\n",
       "      <th>4</th>\n",
       "      <td>1</td>\n",
       "      <td>28</td>\n",
       "      <td>26100.0</td>\n",
       "      <td>0</td>\n",
       "      <td>0</td>\n",
       "      <td>1</td>\n",
       "      <td>Female</td>\n",
       "    </tr>\n",
       "    <tr>\n",
       "      <th>5</th>\n",
       "      <td>1</td>\n",
       "      <td>43</td>\n",
       "      <td>41000.0</td>\n",
       "      <td>2</td>\n",
       "      <td>1</td>\n",
       "      <td>1</td>\n",
       "      <td>Female</td>\n",
       "    </tr>\n",
       "    <tr>\n",
       "      <th>6</th>\n",
       "      <td>1</td>\n",
       "      <td>39</td>\n",
       "      <td>39700.0</td>\n",
       "      <td>2</td>\n",
       "      <td>0</td>\n",
       "      <td>1</td>\n",
       "      <td>Female</td>\n",
       "    </tr>\n",
       "    <tr>\n",
       "      <th>7</th>\n",
       "      <td>1</td>\n",
       "      <td>25</td>\n",
       "      <td>38600.0</td>\n",
       "      <td>4</td>\n",
       "      <td>0</td>\n",
       "      <td>1</td>\n",
       "      <td>Female</td>\n",
       "    </tr>\n",
       "    <tr>\n",
       "      <th>8</th>\n",
       "      <td>1</td>\n",
       "      <td>36</td>\n",
       "      <td>49700.0</td>\n",
       "      <td>1</td>\n",
       "      <td>0</td>\n",
       "      <td>1</td>\n",
       "      <td>Female</td>\n",
       "    </tr>\n",
       "    <tr>\n",
       "      <th>9</th>\n",
       "      <td>1</td>\n",
       "      <td>32</td>\n",
       "      <td>51700.0</td>\n",
       "      <td>1</td>\n",
       "      <td>0</td>\n",
       "      <td>1</td>\n",
       "      <td>Female</td>\n",
       "    </tr>\n",
       "    <tr>\n",
       "      <th>10</th>\n",
       "      <td>1</td>\n",
       "      <td>25</td>\n",
       "      <td>36600.0</td>\n",
       "      <td>1</td>\n",
       "      <td>0</td>\n",
       "      <td>1</td>\n",
       "      <td>Female</td>\n",
       "    </tr>\n",
       "    <tr>\n",
       "      <th>11</th>\n",
       "      <td>1</td>\n",
       "      <td>38</td>\n",
       "      <td>29300.0</td>\n",
       "      <td>0</td>\n",
       "      <td>0</td>\n",
       "      <td>1</td>\n",
       "      <td>Female</td>\n",
       "    </tr>\n",
       "    <tr>\n",
       "      <th>12</th>\n",
       "      <td>0</td>\n",
       "      <td>23</td>\n",
       "      <td>39500.0</td>\n",
       "      <td>3</td>\n",
       "      <td>0</td>\n",
       "      <td>0</td>\n",
       "      <td>Male</td>\n",
       "    </tr>\n",
       "    <tr>\n",
       "      <th>13</th>\n",
       "      <td>0</td>\n",
       "      <td>21</td>\n",
       "      <td>55000.0</td>\n",
       "      <td>0</td>\n",
       "      <td>0</td>\n",
       "      <td>0</td>\n",
       "      <td>Male</td>\n",
       "    </tr>\n",
       "    <tr>\n",
       "      <th>14</th>\n",
       "      <td>0</td>\n",
       "      <td>40</td>\n",
       "      <td>43700.0</td>\n",
       "      <td>1</td>\n",
       "      <td>0</td>\n",
       "      <td>0</td>\n",
       "      <td>Male</td>\n",
       "    </tr>\n",
       "    <tr>\n",
       "      <th>15</th>\n",
       "      <td>1</td>\n",
       "      <td>34</td>\n",
       "      <td>23300.0</td>\n",
       "      <td>0</td>\n",
       "      <td>0</td>\n",
       "      <td>1</td>\n",
       "      <td>Female</td>\n",
       "    </tr>\n",
       "    <tr>\n",
       "      <th>16</th>\n",
       "      <td>1</td>\n",
       "      <td>26</td>\n",
       "      <td>48900.0</td>\n",
       "      <td>2</td>\n",
       "      <td>0</td>\n",
       "      <td>1</td>\n",
       "      <td>Female</td>\n",
       "    </tr>\n",
       "    <tr>\n",
       "      <th>17</th>\n",
       "      <td>1</td>\n",
       "      <td>41</td>\n",
       "      <td>33200.0</td>\n",
       "      <td>2</td>\n",
       "      <td>0</td>\n",
       "      <td>1</td>\n",
       "      <td>Female</td>\n",
       "    </tr>\n",
       "    <tr>\n",
       "      <th>18</th>\n",
       "      <td>1</td>\n",
       "      <td>42</td>\n",
       "      <td>49700.0</td>\n",
       "      <td>0</td>\n",
       "      <td>1</td>\n",
       "      <td>1</td>\n",
       "      <td>Female</td>\n",
       "    </tr>\n",
       "    <tr>\n",
       "      <th>19</th>\n",
       "      <td>1</td>\n",
       "      <td>27</td>\n",
       "      <td>36900.0</td>\n",
       "      <td>0</td>\n",
       "      <td>0</td>\n",
       "      <td>1</td>\n",
       "      <td>Female</td>\n",
       "    </tr>\n",
       "  </tbody>\n",
       "</table>\n",
       "</div>"
      ],
      "text/plain": [
       "    gender  age   income  family_members  insurance_benefits  gender_encoded  \\\n",
       "0        1   41  49600.0               1                   0               1   \n",
       "1        0   46  38000.0               1                   1               0   \n",
       "2        0   29  21000.0               0                   0               0   \n",
       "3        0   21  41700.0               2                   0               0   \n",
       "4        1   28  26100.0               0                   0               1   \n",
       "5        1   43  41000.0               2                   1               1   \n",
       "6        1   39  39700.0               2                   0               1   \n",
       "7        1   25  38600.0               4                   0               1   \n",
       "8        1   36  49700.0               1                   0               1   \n",
       "9        1   32  51700.0               1                   0               1   \n",
       "10       1   25  36600.0               1                   0               1   \n",
       "11       1   38  29300.0               0                   0               1   \n",
       "12       0   23  39500.0               3                   0               0   \n",
       "13       0   21  55000.0               0                   0               0   \n",
       "14       0   40  43700.0               1                   0               0   \n",
       "15       1   34  23300.0               0                   0               1   \n",
       "16       1   26  48900.0               2                   0               1   \n",
       "17       1   41  33200.0               2                   0               1   \n",
       "18       1   42  49700.0               0                   1               1   \n",
       "19       1   27  36900.0               0                   0               1   \n",
       "\n",
       "   gender_label  \n",
       "0        Female  \n",
       "1          Male  \n",
       "2          Male  \n",
       "3          Male  \n",
       "4        Female  \n",
       "5        Female  \n",
       "6        Female  \n",
       "7        Female  \n",
       "8        Female  \n",
       "9        Female  \n",
       "10       Female  \n",
       "11       Female  \n",
       "12         Male  \n",
       "13         Male  \n",
       "14         Male  \n",
       "15       Female  \n",
       "16       Female  \n",
       "17       Female  \n",
       "18       Female  \n",
       "19       Female  "
      ]
     },
     "execution_count": 82,
     "metadata": {},
     "output_type": "execute_result"
    }
   ],
   "source": [
    "df.head(20)"
   ]
  },
  {
   "cell_type": "markdown",
   "metadata": {},
   "source": [
    "<div class=\"alert alert-block alert-success\">\n",
    "<b>Reviewer's comment v1:</b> </a>\n",
    "\n",
    "Very nice job loading and inspecting the data!\n",
    "    \n",
    "</div>"
   ]
  },
  {
   "cell_type": "markdown",
   "metadata": {},
   "source": [
    "## EDA"
   ]
  },
  {
   "cell_type": "markdown",
   "metadata": {},
   "source": [
    "Let's quickly check whether there are certain groups of customers by looking at the pair plot."
   ]
  },
  {
   "cell_type": "code",
   "execution_count": 83,
   "metadata": {},
   "outputs": [
    {
     "data": {
      "image/png": "[encoded data removed]",
      "text/plain": [
       "<Figure size 1200x1200 with 42 Axes>"
      ]
     },
     "metadata": {},
     "output_type": "display_data"
    }
   ],
   "source": [
    "g = sns.pairplot(df, kind='hist')\n",
    "g.fig.set_size_inches(12, 12)"
   ]
  },
  {
   "cell_type": "markdown",
   "metadata": {},
   "source": [
    "Ok, it is a bit difficult to spot obvious groups (clusters) as it is difficult to combine several variables simultaneously (to analyze multivariate distributions). That's where LA and ML can be quite handy."
   ]
  },
  {
   "cell_type": "markdown",
   "metadata": {},
   "source": [
    "# Task 1. Similar Customers"
   ]
  },
  {
   "cell_type": "markdown",
   "metadata": {},
   "source": [
    "In the language of ML, it is necessary to develop a procedure that returns k nearest neighbors (objects) for a given object based on the distance between the objects.\n",
    "\n",
    "You may want to review the following lessons (chapter -> lesson)\n",
    "- Distance Between Vectors -> Euclidean Distance\n",
    "- Distance Between Vectors -> Manhattan Distance\n",
    "\n",
    "To solve the task, we can try different distance metrics."
   ]
  },
  {
   "cell_type": "markdown",
   "metadata": {},
   "source": [
    "Write a function that returns k nearest neighbors for an $n^{th}$ object based on a specified distance metric. The number of received insurance benefits should not be taken into account for this task. \n",
    "\n",
    "You can use a ready implementation of the kNN algorithm from scikit-learn (check [the link](https://scikit-learn.org/stable/modules/generated/sklearn.neighbors.NearestNeighbors.html#sklearn.neighbors.NearestNeighbors)) or use your own.\n",
    "\n",
    "Test it for four combination of two cases\n",
    "- Scaling\n",
    "  - the data is not scaled\n",
    "  - the data is scaled with the [MaxAbsScaler](https://scikit-learn.org/stable/modules/generated/sklearn.preprocessing.MaxAbsScaler.html) scaler\n",
    "- Distance Metrics\n",
    "  - Euclidean\n",
    "  - Manhattan\n",
    "\n",
    "Answer these questions:\n",
    "- Does the data being not scaled affect the kNN algorithm? If so, how does that appear?\n",
    "- How similar are the results using the Manhattan distance metric (regardless of the scaling)?"
   ]
  },
  {
   "cell_type": "code",
   "execution_count": 84,
   "metadata": {},
   "outputs": [],
   "source": [
    "feature_names = ['gender', 'age', 'income', 'family_members']\n",
    "X_unscaled = df[feature_names].to_numpy()"
   ]
  },
  {
   "cell_type": "code",
   "execution_count": 85,
   "metadata": {
    "scrolled": true
   },
   "outputs": [],
   "source": [
    "\n",
    "scaler_standard = StandardScaler().fit(X_unscaled)\n",
    "scaler_maxabs = MaxAbsScaler().fit(X_unscaled)\n",
    "\n",
    "X_dict = {\n",
    "    'standard': scaler_standard.transform(X_unscaled),\n",
    "    'maxabs': scaler_maxabs.transform(X_unscaled)\n",
    "}\n",
    "\n",
    "# 📐 Step 3: Define Distance Metrics\n",
    "metrics = ['euclidean', 'manhattan']"
   ]
  },
  {
   "cell_type": "code",
   "execution_count": 86,
   "metadata": {},
   "outputs": [],
   "source": [
    "def get_knn(df, n, k, metric):\n",
    "    \"\"\"\n",
    "    Returns k nearest neighbors\n",
    "\n",
    "    :param df: pandas DataFrame used to find similar objects within\n",
    "    :param n: object index for which the nearest neighbours are looked for\n",
    "    :param k: the number of the nearest neighbours to return\n",
    "    :param metric: name of distance metric ('euclidean', 'manhattan', etc.)\n",
    "    :return: DataFrame of k nearest neighbors with distances\n",
    "    \"\"\"\n",
    "    # Define features inside the function\n",
    "    feature_names = ['gender', 'age', 'income', 'family_members']\n",
    "    \n",
    "    # Extract feature matrix\n",
    "    X = df[feature_names].to_numpy()\n",
    "\n",
    "    # Fit NearestNeighbors model\n",
    "    nbrs = NearestNeighbors(n_neighbors=k+1, metric=metric)\n",
    "    nbrs.fit(X)\n",
    "\n",
    "    # Find neighbors for the nth customer\n",
    "    distances, indices = nbrs.kneighbors([X[n]], return_distance=True)\n",
    "\n",
    "    # Exclude the customer itself (first index)\n",
    "    neighbor_indices = indices[0][1:]\n",
    "    neighbor_distances = distances[0][1:]\n",
    "\n",
    "    # Combine results\n",
    "    df_res = pd.concat([\n",
    "        df.iloc[neighbor_indices].reset_index(drop=True),\n",
    "        pd.DataFrame({'distance': neighbor_distances})\n",
    "    ], axis=1)\n",
    "\n",
    "    return df_res"
   ]
  },
  {
   "cell_type": "code",
   "execution_count": 87,
   "metadata": {},
   "outputs": [
    {
     "name": "stdout",
     "output_type": "stream",
     "text": [
      "   gender  age   income  family_members  insurance_benefits  gender_encoded  \\\n",
      "0       1   41  49600.0               0                   0               1   \n",
      "1       0   42  49600.0               0                   1               0   \n",
      "2       1   44  49600.0               2                   1               1   \n",
      "3       0   38  49600.0               0                   0               0   \n",
      "4       1   37  49600.0               2                   0               1   \n",
      "\n",
      "  gender_label  distance  \n",
      "0       Female  1.000000  \n",
      "1         Male  1.732051  \n",
      "2       Female  3.162278  \n",
      "3         Male  3.316625  \n",
      "4       Female  4.123106  \n"
     ]
    }
   ],
   "source": [
    "similar_customers = get_knn(df, n=0, k=5, metric='euclidean')\n",
    "print(similar_customers)"
   ]
  },
  {
   "cell_type": "markdown",
   "metadata": {},
   "source": [
    "<div class=\"alert alert-block alert-success\">\n",
    "<b>Reviewer's comment v1:</b> </a>\n",
    "\n",
    "Nice job on your `get_knn` function!\n",
    "    \n",
    "</div>"
   ]
  },
  {
   "cell_type": "code",
   "execution_count": 88,
   "metadata": {},
   "outputs": [
    {
     "data": {
      "image/png": "[encoded data removed]",
      "text/plain": [
       "<Figure size 640x480 with 1 Axes>"
      ]
     },
     "metadata": {},
     "output_type": "display_data"
    }
   ],
   "source": [
    "# 🎨 Step 6: Visualize Similar Customers\n",
    "sns.scatterplot(x='income', y='insurance_benefits', hue='gender', data=similar_customers)\n",
    "plt.title(\"Similar Customers: Income vs Insurance Benefits\")\n",
    "plt.show()"
   ]
  },
  {
   "cell_type": "markdown",
   "metadata": {},
   "source": [
    "Scaling the data."
   ]
  },
  {
   "cell_type": "code",
   "execution_count": 89,
   "metadata": {},
   "outputs": [],
   "source": [
    "transformer_mas = sklearn.preprocessing.MaxAbsScaler().fit(df[feature_names].to_numpy())\n",
    "\n",
    "df_scaled = df.copy()\n",
    "df_scaled.loc[:, feature_names] = transformer_mas.transform(df[feature_names].to_numpy())"
   ]
  },
  {
   "cell_type": "code",
   "execution_count": 90,
   "metadata": {},
   "outputs": [
    {
     "data": {
      "text/html": [
       "<div>\n",
       "<style scoped>\n",
       "    .dataframe tbody tr th:only-of-type {\n",
       "        vertical-align: middle;\n",
       "    }\n",
       "\n",
       "    .dataframe tbody tr th {\n",
       "        vertical-align: top;\n",
       "    }\n",
       "\n",
       "    .dataframe thead th {\n",
       "        text-align: right;\n",
       "    }\n",
       "</style>\n",
       "<table border=\"1\" class=\"dataframe\">\n",
       "  <thead>\n",
       "    <tr style=\"text-align: right;\">\n",
       "      <th></th>\n",
       "      <th>gender</th>\n",
       "      <th>age</th>\n",
       "      <th>income</th>\n",
       "      <th>family_members</th>\n",
       "      <th>insurance_benefits</th>\n",
       "      <th>gender_encoded</th>\n",
       "      <th>gender_label</th>\n",
       "    </tr>\n",
       "  </thead>\n",
       "  <tbody>\n",
       "    <tr>\n",
       "      <th>2460</th>\n",
       "      <td>0.0</td>\n",
       "      <td>0.415385</td>\n",
       "      <td>0.432911</td>\n",
       "      <td>0.333333</td>\n",
       "      <td>0</td>\n",
       "      <td>0</td>\n",
       "      <td>Male</td>\n",
       "    </tr>\n",
       "    <tr>\n",
       "      <th>275</th>\n",
       "      <td>0.0</td>\n",
       "      <td>0.538462</td>\n",
       "      <td>0.616456</td>\n",
       "      <td>0.166667</td>\n",
       "      <td>0</td>\n",
       "      <td>0</td>\n",
       "      <td>Male</td>\n",
       "    </tr>\n",
       "    <tr>\n",
       "      <th>2230</th>\n",
       "      <td>1.0</td>\n",
       "      <td>0.476923</td>\n",
       "      <td>0.448101</td>\n",
       "      <td>0.333333</td>\n",
       "      <td>0</td>\n",
       "      <td>1</td>\n",
       "      <td>Female</td>\n",
       "    </tr>\n",
       "    <tr>\n",
       "      <th>3541</th>\n",
       "      <td>0.0</td>\n",
       "      <td>0.723077</td>\n",
       "      <td>0.220253</td>\n",
       "      <td>0.666667</td>\n",
       "      <td>1</td>\n",
       "      <td>0</td>\n",
       "      <td>Male</td>\n",
       "    </tr>\n",
       "    <tr>\n",
       "      <th>3406</th>\n",
       "      <td>0.0</td>\n",
       "      <td>0.630769</td>\n",
       "      <td>0.532911</td>\n",
       "      <td>0.166667</td>\n",
       "      <td>0</td>\n",
       "      <td>0</td>\n",
       "      <td>Male</td>\n",
       "    </tr>\n",
       "  </tbody>\n",
       "</table>\n",
       "</div>"
      ],
      "text/plain": [
       "      gender       age    income  family_members  insurance_benefits  \\\n",
       "2460     0.0  0.415385  0.432911        0.333333                   0   \n",
       "275      0.0  0.538462  0.616456        0.166667                   0   \n",
       "2230     1.0  0.476923  0.448101        0.333333                   0   \n",
       "3541     0.0  0.723077  0.220253        0.666667                   1   \n",
       "3406     0.0  0.630769  0.532911        0.166667                   0   \n",
       "\n",
       "      gender_encoded gender_label  \n",
       "2460               0         Male  \n",
       "275                0         Male  \n",
       "2230               1       Female  \n",
       "3541               0         Male  \n",
       "3406               0         Male  "
      ]
     },
     "execution_count": 90,
     "metadata": {},
     "output_type": "execute_result"
    }
   ],
   "source": [
    "df_scaled.sample(5)"
   ]
  },
  {
   "cell_type": "markdown",
   "metadata": {},
   "source": [
    "Now, let's get similar records for a given one for every combination"
   ]
  },
  {
   "cell_type": "code",
   "execution_count": 91,
   "metadata": {},
   "outputs": [],
   "source": [
    "def get_all_similar_customers(X_dict, metrics, k=5):\n",
    "    results = {}\n",
    "\n",
    "    for scale_label, X in X_dict.items():\n",
    "        for metric in metrics:\n",
    "            combo_key = f\"{scale_label}_{metric}\"\n",
    "            model = NearestNeighbors(n_neighbors=k+1, metric=metric)\n",
    "            model.fit(X)\n",
    "\n",
    "            combo_results = []\n",
    "            for i in range(len(X)):\n",
    "                distances, indices = model.kneighbors([X[i]], return_distance=True)\n",
    "                neighbor_indices = indices[0][1:]\n",
    "                neighbor_distances = distances[0][1:]\n",
    "\n",
    "                combo_results.append({\n",
    "                    'customer_index': i,\n",
    "                    'neighbors': neighbor_indices.tolist(),\n",
    "                    'distances': neighbor_distances.tolist()\n",
    "                })\n",
    "\n",
    "            results[combo_key] = combo_results\n",
    "\n",
    "    return results\n"
   ]
  },
  {
   "cell_type": "code",
   "execution_count": 92,
   "metadata": {},
   "outputs": [],
   "source": [
    "results = get_all_similar_customers(X_dict, metrics, k=5)"
   ]
  },
  {
   "cell_type": "code",
   "execution_count": 93,
   "metadata": {},
   "outputs": [
    {
     "name": "stdout",
     "output_type": "stream",
     "text": [
      "                combo  customer_index  neighbor_index  distance\n",
      "0  standard_euclidean               0            2689  0.050510\n",
      "1  standard_euclidean               0             133  0.137981\n",
      "2  standard_euclidean               0            4869  0.143421\n",
      "3  standard_euclidean               0            3275  0.225562\n",
      "4  standard_euclidean               0            1567  0.234218\n"
     ]
    }
   ],
   "source": [
    "# 🧾 Step 9: Optional — Flatten Results for Analysis\n",
    "flat_results = []\n",
    "for combo_key, combo_data in results.items():\n",
    "    for entry in combo_data:\n",
    "        for neighbor, distance in zip(entry['neighbors'], entry['distances']):\n",
    "            flat_results.append({\n",
    "                'combo': combo_key,\n",
    "                'customer_index': entry['customer_index'],\n",
    "                'neighbor_index': neighbor,\n",
    "                'distance': distance\n",
    "            })\n",
    "\n",
    "df_neighbors = pd.DataFrame(flat_results)\n",
    "print(df_neighbors.head())"
   ]
  },
  {
   "cell_type": "markdown",
   "metadata": {},
   "source": [
    "Answers to the questions"
   ]
  },
  {
   "cell_type": "markdown",
   "metadata": {},
   "source": [
    "**Does the data being not scaled affect the kNN algorithm? If so, how does that appear?** \n",
    "\n",
    "scaling does affect the kNN algorithm, and the impact can be significant.\n",
    "\n",
    "kNN is a distance-based algorithm, meaning it calculates how “far apart” data points are using metrics like Euclidean or Manhattan distance. If your features are on different scales, the ones with larger ranges will dominate the distance calculation.\n",
    "\n",
    "Example:\n",
    "income: ranges from $30,000 to $150,000\n",
    "\n",
    "age: ranges from 18 to 65\n",
    "\n",
    "gender: just 0 or 1\n",
    "\n",
    "Without scaling, income will overshadow everything else — kNN will mostly group customers by income, ignoring age, gender, or family size.\n",
    "\n",
    "**How It Appears in the Results**\n",
    "\n",
    "If you skip scaling:\n",
    "\n",
    "Neighbors will be biased toward high-range features\n",
    "\n",
    "Similarity results will feel “off” — e.g., customers with wildly different ages or family sizes might be grouped together just because their incomes are close\n",
    "\n",
    "Visualizations (like scatterplots) may show tight clusters that don’t reflect true similarity\n",
    "\n",
    "Your model may fail to capture meaningful patterns across all features"
   ]
  },
  {
   "cell_type": "markdown",
   "metadata": {},
   "source": [
    "<div class=\"alert alert-block alert-success\">\n",
    "<b>Reviewer's comment v1:</b> </a>\n",
    "\n",
    "Your explanation on how euclidean distance is affected by being scaled or not is completely reasonable!\n",
    "    \n",
    "</div>"
   ]
  },
  {
   "cell_type": "markdown",
   "metadata": {},
   "source": [
    "**How similar are the results using the Manhattan distance metric (regardless of the scaling)?** \n",
    "\n",
    "Conceptual Difference-\n",
    "\n",
    "* Euclidean distance measures the straight-line (\"as the crow flies\") distance between points.\n",
    "\n",
    "* Manhattan distance measures the path along grid lines — like navigating city blocks.\n",
    "\n",
    "So while both are valid, they emphasize different geometric relationships.\n",
    "\n",
    "**How Similar Are the Results?**\n",
    "✅ After Scaling:\n",
    "* Results are often similar, especially when features are well-distributed and not highly correlated.\n",
    "\n",
    "* You’ll likely see overlapping neighbors for most customers — maybe 3 or 4 out of 5 neighbors match between metrics.\n",
    "\n",
    "* Distances will differ, but rankings (who’s closest) are often preserved.\n",
    "\n",
    "❗ Without Scaling:\n",
    "* Manhattan is less sensitive to outliers than Euclidean, so it may behave more stably.\n",
    "\n",
    "* But both will still be biased toward high-range features unless scaled."
   ]
  },
  {
   "cell_type": "markdown",
   "metadata": {},
   "source": [
    "<div class=\"alert alert-block alert-success\">\n",
    "<b>Reviewer's comment v1:</b> </a>\n",
    "\n",
    "Again, completely reasonable thought process! Loved these explanations!\n",
    "    \n",
    "</div>"
   ]
  },
  {
   "cell_type": "markdown",
   "metadata": {},
   "source": [
    "# Task 2. Is Customer Likely to Receive Insurance Benefit?"
   ]
  },
  {
   "cell_type": "markdown",
   "metadata": {},
   "source": [
    "In terms of machine learning we can look at this like a binary classification task."
   ]
  },
  {
   "cell_type": "markdown",
   "metadata": {},
   "source": [
    "With `insurance_benefits` being more than zero as the target, evaluate whether the kNN classification approach can do better than a dummy model.\n",
    "\n",
    "Instructions:\n",
    "- Build a KNN-based classifier and measure its quality with the F1 metric for k=1..10 for both the original data and the scaled one. That'd be interesting to see how k may influece the evaluation metric, and whether scaling the data makes any difference. You can use a ready implemention of the kNN classification algorithm from scikit-learn (check [the link](https://scikit-learn.org/stable/modules/generated/sklearn.neighbors.KNeighborsClassifier.html)) or use your own.\n",
    "- Build the dummy model which is just random for this case. It should return \"1\" with some probability. Let's test the model with four probability values: 0, the probability of paying any insurance benefit, 0.5, 1.\n",
    "\n",
    "The probability of paying any insurance benefit can be defined as\n",
    "\n",
    "$$\n",
    "P\\{\\text{insurance benefit received}\\}=\\frac{\\text{number of clients received any insurance benefit}}{\\text{total number of clients}}.\n",
    "$$\n",
    "\n",
    "Split the whole data in the 70:30 proportion for the training/testing parts."
   ]
  },
  {
   "cell_type": "code",
   "execution_count": 94,
   "metadata": {},
   "outputs": [],
   "source": [
    "# calculate the target\n",
    "\n",
    "df['insurance_benefits_received'] = (df['insurance_benefits'] > 0).astype(int)"
   ]
  },
  {
   "cell_type": "code",
   "execution_count": 95,
   "metadata": {},
   "outputs": [
    {
     "data": {
      "text/plain": [
       "0    4436\n",
       "1     564\n",
       "Name: insurance_benefits_received, dtype: int64"
      ]
     },
     "execution_count": 95,
     "metadata": {},
     "output_type": "execute_result"
    }
   ],
   "source": [
    "# check for the class imbalance with value_counts()\n",
    "\n",
    "df['insurance_benefits_received'].value_counts()"
   ]
  },
  {
   "cell_type": "code",
   "execution_count": 96,
   "metadata": {},
   "outputs": [],
   "source": [
    "def eval_classifier(y_true, y_pred):\n",
    "    \n",
    "    f1_score = sklearn.metrics.f1_score(y_true, y_pred)\n",
    "    print(f'F1: {f1_score:.2f}')\n",
    "    \n",
    "# if you have an issue with the following line, restart the kernel and run the notebook again\n",
    "    cm = sklearn.metrics.confusion_matrix(y_true, y_pred, normalize='all')\n",
    "    print('Confusion Matrix')\n",
    "    print(cm)"
   ]
  },
  {
   "cell_type": "code",
   "execution_count": 97,
   "metadata": {},
   "outputs": [
    {
     "name": "stdout",
     "output_type": "stream",
     "text": [
      "F1: 0.91\n",
      "Confusion Matrix\n",
      "[[0.8656 0.0216]\n",
      " [0.     0.1128]]\n"
     ]
    }
   ],
   "source": [
    "feature_names = ['gender', 'age', 'income', 'family_members']\n",
    "X = df[feature_names]\n",
    "y = df['insurance_benefits_received']\n",
    "\n",
    "# 🔀 Step 6: Split and Scale Data\n",
    "X_train, X_test, y_train, y_test = train_test_split(X, y, stratify=y, random_state=42)\n",
    "\n",
    "scaler = StandardScaler()\n",
    "X_train_scaled = scaler.fit_transform(X_train)\n",
    "X_test_scaled = scaler.transform(X_test)\n",
    "\n",
    "# 🤖 Step 7: Train Logistic Regression Model\n",
    "model = LogisticRegression(class_weight='balanced', random_state=42)\n",
    "model.fit(X_train_scaled, y_train)\n",
    "\n",
    "# 📈 Step 8: Predict and Evaluate\n",
    "y_pred = model.predict(X_test_scaled)\n",
    "eval_classifier(y_test, y_pred)"
   ]
  },
  {
   "cell_type": "code",
   "execution_count": 98,
   "metadata": {},
   "outputs": [],
   "source": [
    "# Prepare data\n",
    "#X = df[['gender', 'age', 'income', 'family_members']]\n",
    "#y = df['insurance_benefits_received']\n",
    "\n",
    "#X_train, X_test, y_train, y_test = train_test_split(X, y, stratify=y, random_state=42)\n",
    "#scaler = StandardScaler()\n",
    "#X_train_scaled = scaler.fit_transform(X_train)\n",
    "#X_test_scaled = scaler.transform(X_test)\n",
    "\n",
    "# Train model\n",
    "#model = LogisticRegression(class_weight='balanced')\n",
    "#model.fit(X_train_scaled, y_train)\n",
    "#y_pred = model.predict(X_test_scaled)\n",
    "\n",
    "# Evaluate\n",
    "#eval_classifier(y_test, y_pred)\n"
   ]
  },
  {
   "cell_type": "code",
   "execution_count": 99,
   "metadata": {},
   "outputs": [],
   "source": [
    "# generating output of a random model\n",
    "\n",
    "def rnd_model_predict(P, size, seed=42):\n",
    "\n",
    "    rng = np.random.default_rng(seed=seed)\n",
    "    return rng.binomial(n=1, p=P, size=size)"
   ]
  },
  {
   "cell_type": "code",
   "execution_count": 100,
   "metadata": {},
   "outputs": [
    {
     "name": "stdout",
     "output_type": "stream",
     "text": [
      "The probability: 0.00\n",
      "F1: 0.00\n",
      "Confusion Matrix\n",
      "[[0.8872 0.    ]\n",
      " [0.1128 0.    ]]\n",
      "\n",
      "The probability: 0.11\n",
      "F1: 0.12\n",
      "Confusion Matrix\n",
      "[[0.7914 0.0958]\n",
      " [0.0994 0.0134]]\n",
      "\n",
      "The probability: 0.50\n",
      "F1: 0.20\n",
      "Confusion Matrix\n",
      "[[0.456  0.4312]\n",
      " [0.053  0.0598]]\n",
      "\n",
      "The probability: 1.00\n",
      "F1: 0.20\n",
      "Confusion Matrix\n",
      "[[0.     0.8872]\n",
      " [0.     0.1128]]\n",
      "\n"
     ]
    }
   ],
   "source": [
    "for P in [0, df['insurance_benefits_received'].sum() / len(df), 0.5, 1]:\n",
    "\n",
    "    print(f'The probability: {P:.2f}')\n",
    "    y_pred_rnd = y_pred_rnd = rnd_model_predict(P, size=len(df))\n",
    " \n",
    "      \n",
    "    eval_classifier(df['insurance_benefits_received'], y_pred_rnd)\n",
    "    \n",
    "    print()"
   ]
  },
  {
   "cell_type": "markdown",
   "metadata": {},
   "source": [
    "# Task 3. Regression (with Linear Regression)"
   ]
  },
  {
   "cell_type": "markdown",
   "metadata": {},
   "source": [
    "With `insurance_benefits` as the target, evaluate what RMSE would be for a Linear Regression model."
   ]
  },
  {
   "cell_type": "markdown",
   "metadata": {},
   "source": [
    "Build your own implementation of LR. For that, recall how the linear regression task's solution is formulated in terms of LA. Check RMSE for both the original data and the scaled one. Can you see any difference in RMSE between these two cases?\n",
    "\n",
    "Let's denote\n",
    "- $X$ — feature matrix, each row is a case, each column is a feature, the first column consists of unities\n",
    "- $y$ — target (a vector)\n",
    "- $\\hat{y}$ — estimated tagret (a vector)\n",
    "- $w$ — weight vector\n",
    "\n",
    "The task of linear regression in the language of matrices can be formulated as\n",
    "\n",
    "$$\n",
    "y = Xw\n",
    "$$\n",
    "\n",
    "The training objective then is to find such $w$ that it would minimize the L2-distance (MSE) between $Xw$ and $y$:\n",
    "\n",
    "$$\n",
    "\\min_w d_2(Xw, y) \\quad \\text{or} \\quad \\min_w \\text{MSE}(Xw, y)\n",
    "$$\n",
    "\n",
    "It appears that there is analytical solution for the above:\n",
    "\n",
    "$$\n",
    "w = (X^T X)^{-1} X^T y\n",
    "$$\n",
    "\n",
    "The formula above can be used to find the weights $w$ and the latter can be used to calculate predicted values\n",
    "\n",
    "$$\n",
    "\\hat{y} = X_{val}w\n",
    "$$"
   ]
  },
  {
   "cell_type": "markdown",
   "metadata": {},
   "source": [
    "Split the whole data in the 70:30 proportion for the training/validation parts. Use the RMSE metric for the model evaluation."
   ]
  },
  {
   "cell_type": "code",
   "execution_count": 101,
   "metadata": {},
   "outputs": [],
   "source": [
    "class MyLinearRegression:\n",
    "    \n",
    "    def __init__(self):\n",
    "        self.weights = None\n",
    "    \n",
    "    def fit(self, X, y):\n",
    "        # Add bias term (column of ones)\n",
    "        X2 = np.append(np.ones([len(X), 1]), X, axis=1)\n",
    "        \n",
    "        # Compute weights using the normal equation: (XᵀX)⁻¹Xᵀy\n",
    "        self.weights = np.linalg.inv(X2.T @ X2) @ X2.T @ y\n",
    "\n",
    "    def predict(self, X):\n",
    "        # Add bias term\n",
    "        X2 = np.append(np.ones([len(X), 1]), X, axis=1)\n",
    "        \n",
    "        # Predict using dot product\n",
    "        y_pred = X2 @ self.weights\n",
    "        \n",
    "        return y_pred"
   ]
  },
  {
   "cell_type": "code",
   "execution_count": 102,
   "metadata": {},
   "outputs": [],
   "source": [
    "def eval_regressor(y_true, y_pred):\n",
    "    rmse = math.sqrt(sklearn.metrics.mean_squared_error(y_true, y_pred))\n",
    "    print(f'RMSE: {rmse:.2f}')\n",
    "    \n",
    "    r2_score = sklearn.metrics.r2_score(y_true, y_pred)\n",
    "    print(f'R2: {r2_score:.2f}')\n"
   ]
  },
  {
   "cell_type": "code",
   "execution_count": 103,
   "metadata": {},
   "outputs": [],
   "source": [
    "#def eval_regressor(y_true, y_pred):\n",
    "    \n",
    "   # rmse = math.sqrt(sklearn.metrics.mean_squared_error(y_true, y_pred))\n",
    "   # print(f'RMSE: {rmse:.2f}')\n",
    "    \n",
    "  #  r2_score = math.sqrt(sklearn.metrics.r2_score(y_true, y_pred))\n",
    "  #  print(f'R2: {r2_score:.2f}')"
   ]
  },
  {
   "cell_type": "code",
   "execution_count": 104,
   "metadata": {},
   "outputs": [
    {
     "name": "stdout",
     "output_type": "stream",
     "text": [
      "[-9.43539012e-01  3.57495491e-02  1.64272726e-02 -2.60743659e-07\n",
      " -1.16902127e-02]\n",
      "RMSE: 0.34\n",
      "R2: 0.43\n"
     ]
    }
   ],
   "source": [
    "X = df[['age', 'gender', 'income', 'family_members']].to_numpy()\n",
    "y = df['insurance_benefits'].to_numpy()\n",
    "\n",
    "X_train, X_test, y_train, y_test = train_test_split(X, y, test_size=0.3, random_state=12345)\n",
    "\n",
    "lr = MyLinearRegression()\n",
    "\n",
    "lr.fit(X_train, y_train)\n",
    "print(lr.weights)\n",
    "\n",
    "y_test_pred = lr.predict(X_test)\n",
    "eval_regressor(y_test, y_test_pred)"
   ]
  },
  {
   "cell_type": "markdown",
   "metadata": {},
   "source": [
    "📈 **Model Performance**\n",
    "* RMSE: On average, predictions are off by 0.34 benefit units\n",
    "\n",
    "* R² Score: Model explains 43% of the variance in insurance benefits\n",
    "\n",
    "**Interpretation:**\n",
    "\n",
    "* Age and gender have slight positive influence\n",
    "\n",
    "* Family size has a small negative effect\n",
    "\n",
    "* Income had negligible impact in this linear setup"
   ]
  },
  {
   "cell_type": "markdown",
   "metadata": {},
   "source": [
    "✅ **Insights**\n",
    "* Model performs reasonably well for a simple linear approach\n",
    "\n",
    "* Custom implementation matches expected behavior\n",
    "\n",
    "* Ready for comparison with scikit-learn’s LinearRegression or regularized model"
   ]
  },
  {
   "cell_type": "markdown",
   "metadata": {},
   "source": [
    "<div class=\"alert alert-block alert-success\">\n",
    "<b>Reviewer's comment v1:</b> </a>\n",
    "\n",
    "Looking great! Trained model performs better than untrained dummy model!\n",
    "    \n",
    "</div>"
   ]
  },
  {
   "cell_type": "markdown",
   "metadata": {},
   "source": [
    "# Task 4. Obfuscating Data"
   ]
  },
  {
   "cell_type": "markdown",
   "metadata": {},
   "source": [
    "It best to obfuscate data by multiplying the numerical features (remember, they can be seen as the matrix $X$) by an invertible matrix $P$. \n",
    "\n",
    "$$\n",
    "X' = X \\times P\n",
    "$$\n",
    "\n",
    "Try to do that and check how the features' values will look like after the transformation. By the way, the intertible property is important here so make sure that $P$ is indeed invertible.\n",
    "\n",
    "You may want to review the 'Matrices and Matrix Operations -> Matrix Multiplication' lesson to recall the rule of matrix multiplication and its implementation with NumPy."
   ]
  },
  {
   "cell_type": "code",
   "execution_count": 105,
   "metadata": {},
   "outputs": [],
   "source": [
    "personal_info_column_list = ['gender', 'age', 'income', 'family_members']\n",
    "df_pn = df[personal_info_column_list]"
   ]
  },
  {
   "cell_type": "code",
   "execution_count": 106,
   "metadata": {},
   "outputs": [],
   "source": [
    "X = df_pn.to_numpy()"
   ]
  },
  {
   "cell_type": "markdown",
   "metadata": {},
   "source": [
    "Generating a random matrix $P$."
   ]
  },
  {
   "cell_type": "code",
   "execution_count": 107,
   "metadata": {},
   "outputs": [],
   "source": [
    "rng = np.random.default_rng(seed=42)\n",
    "P = rng.random(size=(X.shape[1], X.shape[1]))"
   ]
  },
  {
   "cell_type": "markdown",
   "metadata": {},
   "source": [
    "Checking the matrix $P$ is invertible"
   ]
  },
  {
   "cell_type": "code",
   "execution_count": 108,
   "metadata": {},
   "outputs": [
    {
     "name": "stdout",
     "output_type": "stream",
     "text": [
      "✅ Matrix P is invertible.\n",
      "🔍 Original Features (first 5 rows):\n",
      " [[1.00e+00 4.10e+01 4.96e+04 1.00e+00]\n",
      " [0.00e+00 4.60e+01 3.80e+04 1.00e+00]\n",
      " [0.00e+00 2.90e+01 2.10e+04 0.00e+00]\n",
      " [0.00e+00 2.10e+01 4.17e+04 2.00e+00]\n",
      " [1.00e+00 2.80e+01 2.61e+04 0.00e+00]]\n",
      "\n",
      "🕵️‍♂️ Obfuscated Features (first 5 rows):\n",
      " [[ 6359.71527314 22380.40467609 18424.09074184 46000.69669016]\n",
      " [ 4873.29406479 17160.36702982 14125.78076133 35253.45577301]\n",
      " [ 2693.11742928  9486.397744    7808.83156024 19484.86063067]\n",
      " [ 5345.60393712 18803.22720286 15479.14837264 38663.06186284]\n",
      " [ 3347.17673462 11782.82928336  9699.99894205 24211.27337753]]\n"
     ]
    }
   ],
   "source": [
    "# Check if P is invertible\n",
    "det_P = np.linalg.det(P)\n",
    "if det_P != 0:\n",
    "    print(\"✅ Matrix P is invertible.\")\n",
    "else:\n",
    "    raise ValueError(\"❌ Matrix P is not invertible. Try regenerating.\")\n",
    "\n",
    "# Obfuscate the data\n",
    "X_obfuscated = X @ P\n",
    "\n",
    "# Compare original vs obfuscated features\n",
    "print(\"🔍 Original Features (first 5 rows):\\n\", X[:5])\n",
    "print(\"\\n🕵️‍♂️ Obfuscated Features (first 5 rows):\\n\", X_obfuscated[:5])"
   ]
  },
  {
   "cell_type": "markdown",
   "metadata": {},
   "source": [
    "Can you guess the customers' ages or income after the transformation?"
   ]
  },
  {
   "cell_type": "markdown",
   "metadata": {},
   "source": [
    "**It is not easy to guess the customer's age or income after the transformation.**"
   ]
  },
  {
   "cell_type": "markdown",
   "metadata": {},
   "source": [
    "**Why You Can’t Guess the Original Values**\n",
    "\n",
    "* The obfuscated features are linear combinations of the original ones.\n",
    "\n",
    "* Each transformed value blends multiple original features together.\n",
    "\n",
    "* Without knowing the exact inverse of matrix P, you cannot recover the original values.\n",
    "\n",
    "* Even if you tried to guess, the scale and relationships are scrambled."
   ]
  },
  {
   "cell_type": "markdown",
   "metadata": {},
   "source": [
    "**Insight**\n",
    "* This transformation protects sensitive data like age and income while still allowing you to:\n",
    "\n",
    "* Train models\n",
    "\n",
    "* Perform clustering\n",
    "\n",
    "* Share data securely"
   ]
  },
  {
   "cell_type": "markdown",
   "metadata": {},
   "source": [
    "Can you recover the original data from $X'$ if you know $P$? Try to check that with calculations by moving $P$ from the right side of the formula above to the left one. The rules of matrix multiplcation are really helpful here."
   ]
  },
  {
   "cell_type": "markdown",
   "metadata": {},
   "source": [
    "**Started with:**\n",
    "\n",
    "𝑋 obfuscated = \n",
    "𝑋\n",
    "⋅\n",
    "𝑃\n",
    "To recover \n",
    "𝑋\n",
    ", you need to move \n",
    "𝑃\n",
    " to the other side — but since matrix multiplication isn’t commutative, you must multiply by the inverse of \n",
    "𝑃\n",
    " on the right:\n",
    "\n",
    "𝑋\n",
    "=𝑋\n",
    "obfuscated\n",
    "⋅\n",
    "𝑃\n",
    "−\n",
    "1"
   ]
  },
  {
   "cell_type": "code",
   "execution_count": 109,
   "metadata": {},
   "outputs": [
    {
     "name": "stdout",
     "output_type": "stream",
     "text": [
      "🔁 Recovered Features (first 5 rows):\n",
      " [[ 1.00000000e+00  4.10000000e+01  4.96000000e+04  1.00000000e+00]\n",
      " [ 1.67952800e-12  4.60000000e+01  3.80000000e+04  1.00000000e+00]\n",
      " [-6.23021448e-13  2.90000000e+01  2.10000000e+04 -2.03032656e-13]\n",
      " [-1.08907770e-12  2.10000000e+01  4.17000000e+04  2.00000000e+00]\n",
      " [ 1.00000000e+00  2.80000000e+01  2.61000000e+04 -1.52424205e-12]]\n",
      "\n",
      "✅ Original Features (first 5 rows):\n",
      " [[1.00e+00 4.10e+01 4.96e+04 1.00e+00]\n",
      " [0.00e+00 4.60e+01 3.80e+04 1.00e+00]\n",
      " [0.00e+00 2.90e+01 2.10e+04 0.00e+00]\n",
      " [0.00e+00 2.10e+01 4.17e+04 2.00e+00]\n",
      " [1.00e+00 2.80e+01 2.61e+04 0.00e+00]]\n"
     ]
    }
   ],
   "source": [
    "# Compute inverse of P\n",
    "P_inv = np.linalg.inv(P)\n",
    "\n",
    "# Recover original data\n",
    "X_recovered = X_obfuscated @ P_inv\n",
    "\n",
    "# Compare with original\n",
    "print(\"🔁 Recovered Features (first 5 rows):\\n\", X_recovered[:5])\n",
    "print(\"\\n✅ Original Features (first 5 rows):\\n\", X[:5])\n"
   ]
  },
  {
   "cell_type": "markdown",
   "metadata": {},
   "source": [
    "Print all three cases for a few customers\n",
    "- The original data\n",
    "- The transformed one\n",
    "- The reversed (recovered) one"
   ]
  },
  {
   "cell_type": "code",
   "execution_count": 110,
   "metadata": {},
   "outputs": [
    {
     "name": "stdout",
     "output_type": "stream",
     "text": [
      "\n",
      "🧑‍💼 Customer 1\n",
      "Original:    [1.00e+00 4.10e+01 4.96e+04 1.00e+00]\n",
      "Transformed: [ 6359.71527314 22380.40467609 18424.09074184 46000.69669016]\n",
      "Recovered:   [1.00e+00 4.10e+01 4.96e+04 1.00e+00]\n",
      "\n",
      "🧑‍💼 Customer 2\n",
      "Original:    [0.0e+00 4.6e+01 3.8e+04 1.0e+00]\n",
      "Transformed: [ 4873.29406479 17160.36702982 14125.78076133 35253.45577301]\n",
      "Recovered:   [1.679528e-12 4.600000e+01 3.800000e+04 1.000000e+00]\n",
      "\n",
      "🧑‍💼 Customer 3\n",
      "Original:    [    0.    29. 21000.     0.]\n",
      "Transformed: [ 2693.11742928  9486.397744    7808.83156024 19484.86063067]\n",
      "Recovered:   [-6.23021448e-13  2.90000000e+01  2.10000000e+04 -2.03032656e-13]\n",
      "\n",
      "🧑‍💼 Customer 4\n",
      "Original:    [0.00e+00 2.10e+01 4.17e+04 2.00e+00]\n",
      "Transformed: [ 5345.60393712 18803.22720286 15479.14837264 38663.06186284]\n",
      "Recovered:   [-1.0890777e-12  2.1000000e+01  4.1700000e+04  2.0000000e+00]\n",
      "\n",
      "🧑‍💼 Customer 5\n",
      "Original:    [1.00e+00 2.80e+01 2.61e+04 0.00e+00]\n",
      "Transformed: [ 3347.17673462 11782.82928336  9699.99894205 24211.27337753]\n",
      "Recovered:   [ 1.00000000e+00  2.80000000e+01  2.61000000e+04 -1.52424205e-12]\n"
     ]
    }
   ],
   "source": [
    "# Print all three versions side by side for the first 5 rows\n",
    "for i in range(5):\n",
    "    print(f\"\\n🧑‍💼 Customer {i+1}\")\n",
    "    print(\"Original:   \", X[i])\n",
    "    print(\"Transformed:\", X_obfuscated[i])\n",
    "    print(\"Recovered:  \", X_recovered[i])"
   ]
  },
  {
   "cell_type": "markdown",
   "metadata": {},
   "source": [
    "You can probably see that some values are not exactly the same as they are in the original data. What might be the reason for that?"
   ]
  },
  {
   "cell_type": "markdown",
   "metadata": {},
   "source": [
    "**Why the Values Aren’t Exactly the Same**\n",
    "\n",
    "🔹 1. Floating-Point Arithmetic\n",
    "* Computers store numbers using finite precision (typically 64-bit floats).\n",
    "\n",
    "* Operations like matrix inversion and multiplication introduce tiny rounding errors.\n",
    "\n",
    "* These errors accumulate, especially when working with large or high-magnitude values like income.\n",
    "\n",
    "🔹 2. Matrix Inversion Sensitivity\n",
    "* Inverting a matrix is numerically delicate — even small changes in P can lead to small inaccuracies in P⁻¹.\n",
    "\n",
    "* Multiplying X_obfuscated @ P⁻¹ may not perfectly cancel out X @ P due to these rounding effects.\n",
    "\n",
    "🔹 3. No True Symbolic Reversal\n",
    "* You're doing numerical reversal, not symbolic algebra.\n",
    "\n",
    "* So instead of exact equality, you get values that are very close — often within a tolerance like 1e-10."
   ]
  },
  {
   "cell_type": "markdown",
   "metadata": {},
   "source": [
    "✅ **How to Confirm It’s Still Accurate**"
   ]
  },
  {
   "cell_type": "code",
   "execution_count": 112,
   "metadata": {},
   "outputs": [
    {
     "data": {
      "text/plain": [
       "True"
      ]
     },
     "execution_count": 112,
     "metadata": {},
     "output_type": "execute_result"
    }
   ],
   "source": [
    "np.allclose(X, X_recovered)"
   ]
  },
  {
   "cell_type": "markdown",
   "metadata": {},
   "source": [
    "## Proof That Data Obfuscation Can Work with LR"
   ]
  },
  {
   "cell_type": "markdown",
   "metadata": {},
   "source": [
    "The regression task has been solved with linear regression in this project. Your next task is to prove _analytically_ that the given obfuscation method won't affect linear regression in terms of predicted values i.e. their values will remain the same. Can you believe that? Well, you don't have to, you should prove it!"
   ]
  },
  {
   "cell_type": "markdown",
   "metadata": {},
   "source": [
    "So, the data is obfuscated and there is $X \\times P$ instead of just $X$ now. Consequently, there are other weights $w_P$ as\n",
    "$$\n",
    "w = (X^T X)^{-1} X^T y \\quad \\Rightarrow \\quad w_P = [(XP)^T XP]^{-1} (XP)^T y\n",
    "$$\n",
    "\n",
    "How would $w$ and $w_P$ be linked if you simplify the formula for $w_P$ above? \n",
    "\n",
    "What would be predicted values with $w_P$? \n",
    "\n",
    "What does that mean for the quality of linear regression if you measure it with RMSE?\n",
    "\n",
    "Check Appendix B Properties of Matrices in the end of the notebook. There are useful formulas in there!\n",
    "\n",
    "No code is necessary in this section, only analytical explanation!"
   ]
  },
  {
   "cell_type": "markdown",
   "metadata": {},
   "source": [
    "**Answer**"
   ]
  },
  {
   "cell_type": "markdown",
   "metadata": {},
   "source": [
    "YES!"
   ]
  },
  {
   "cell_type": "markdown",
   "metadata": {},
   "source": [
    "**Analytical proof**"
   ]
  },
  {
   "cell_type": "markdown",
   "metadata": {},
   "source": [
    "Proof That Data Obfuscation Preserves Linear Regression Predictions\n",
    "🎯 Objective\n",
    "Prove analytically that obfuscating the feature matrix using an invertible matrix does not affect the predicted values in linear regression.\n",
    "\n",
    "🔢 Setup\n",
    "Let:\n",
    "\n",
    "X: original feature matrix\n",
    "\n",
    "y: target vector\n",
    "\n",
    "P: invertible matrix\n",
    "\n",
    "X′ = X · P: obfuscated feature matrix\n",
    "\n",
    "📐 Original Linear Regression\n",
    "Using the normal equation: ŵ = (XᵀX)⁻¹ Xᵀy Predictions: ŷ = X · ŵ\n",
    "\n",
    "🔁 Obfuscated Linear Regression\n",
    "Train on X′ = X · P: ŵ′ = ((XP)ᵀ XP)⁻¹ (XP)ᵀ y Simplify: ŵ′ = P⁻¹ (XᵀX)⁻¹ Xᵀ y\n",
    "\n",
    "✅ Final Prediction\n",
    "ŷ′ = X · P · ŵ′ Substitute ŵ′: ŷ′ = X · P · P⁻¹ · (XᵀX)⁻¹ Xᵀ y Since P · P⁻¹ = I, we get: ŷ′ = X · (XᵀX)⁻¹ Xᵀ y = ŷ\n",
    "\n",
    "🔐 Conclusion\n",
    "Even though the weights change, the predicted values remain exactly the same: ŷ′ = ŷ\n",
    "\n",
    "This proves that linear regression is invariant to invertible linear transformations of the feature space — making obfuscation a powerful privacy-preserving technique."
   ]
  },
  {
   "cell_type": "markdown",
   "metadata": {},
   "source": [
    "<div class=\"alert alert-block alert-success\">\n",
    "<b>Reviewer's comment v1:</b> </a>\n",
    "\n",
    "Analytical proof looking awesome! Cool that you used LaTeX to organize your reasoning.\n",
    "    \n",
    "</div>"
   ]
  },
  {
   "cell_type": "markdown",
   "metadata": {},
   "source": [
    "## Test Linear Regression With Data Obfuscation"
   ]
  },
  {
   "cell_type": "markdown",
   "metadata": {},
   "source": [
    "Now, let's prove Linear Regression can work computationally with the chosen obfuscation transformation.\n",
    "\n",
    "Build a procedure or a class that runs Linear Regression optionally with the obfuscation. You can use either a ready implementation of Linear Regression from sciki-learn or your own.\n",
    "\n",
    "Run Linear Regression for the original data and the obfuscated one, compare the predicted values and the RMSE, $R^2$ metric values. Is there any difference?"
   ]
  },
  {
   "cell_type": "markdown",
   "metadata": {},
   "source": [
    "**Procedure**\n",
    "\n",
    "- Create a square matrix $P$ of random numbers.\n",
    "- Check that it is invertible. If not, repeat the first point until we get an invertible matrix.\n",
    "- <! your comment here !>\n",
    "- Use $XP$ as the new feature matrix"
   ]
  },
  {
   "cell_type": "code",
   "execution_count": 119,
   "metadata": {},
   "outputs": [],
   "source": [
    "def run_linear_regression(X, y, use_obfuscation=False, seed=42):\n",
    "    rng = np.random.default_rng(seed)\n",
    "    \n",
    "    # Obfuscate if requested\n",
    "    if use_obfuscation:\n",
    "        while True:\n",
    "            P = rng.random((X.shape[1], X.shape[1]))\n",
    "            if np.linalg.det(P) != 0:\n",
    "                break\n",
    "        X = X @ P  # Apply obfuscation\n",
    "        print(\"✅ Obfuscation applied with invertible matrix P.\")\n",
    "    else:\n",
    "        print(\"🚫 No obfuscation applied.\")\n",
    "\n",
    "    # Train-test split\n",
    "    X_train, X_test, y_train, y_test = train_test_split(X, y, test_size=0.3, random_state=12345)\n",
    "\n",
    "    # Train model\n",
    "    model = LinearRegression()\n",
    "    model.fit(X_train, y_train)\n",
    "\n",
    "    # Predict and evaluate\n",
    "    y_pred = model.predict(X_test)\n",
    "    rmse = mean_squared_error(y_test, y_pred, squared=False)\n",
    "    r2 = r2_score(y_test, y_pred)\n",
    "\n",
    "    print(f\"📊 RMSE: {rmse:.2f}\")\n",
    "    print(f\"📈 R²: {r2:.4f}\")\n",
    "    return y_pred"
   ]
  },
  {
   "cell_type": "code",
   "execution_count": 120,
   "metadata": {},
   "outputs": [
    {
     "name": "stdout",
     "output_type": "stream",
     "text": [
      "\n",
      "🔁 Original Data:\n",
      "🚫 No obfuscation applied.\n",
      "📊 RMSE: 0.34\n",
      "📈 R²: 0.4305\n",
      "\n",
      "🔁 Obfuscated Data:\n",
      "✅ Obfuscation applied with invertible matrix P.\n",
      "📊 RMSE: 0.34\n",
      "📈 R²: 0.4305\n"
     ]
    }
   ],
   "source": [
    "print(\"\\n🔁 Original Data:\")\n",
    "y_pred_orig = run_linear_regression(X, y, use_obfuscation=False)\n",
    "\n",
    "print(\"\\n🔁 Obfuscated Data:\")\n",
    "y_pred_obf = run_linear_regression(X, y, use_obfuscation=True)\n"
   ]
  },
  {
   "cell_type": "markdown",
   "metadata": {},
   "source": [
    "**Linear regression predictions are invariant under invertible transformations of the feature matrix.**"
   ]
  },
  {
   "cell_type": "markdown",
   "metadata": {},
   "source": [
    "✅ **What This Confirms**\n",
    "* The obfuscated data preserves all the predictive structure needed for linear regression.\n",
    "\n",
    "* Even though the weights are different, the model’s output is the same.\n",
    "\n",
    "* You’ve now validated both theory and practice — that’s full-stack data science"
   ]
  },
  {
   "cell_type": "markdown",
   "metadata": {},
   "source": [
    "<div class=\"alert alert-block alert-success\">\n",
    "<b>Reviewer's comment v1:</b> </a>\n",
    "\n",
    "Completely true, obfuscated data preserves the patterns recognized by linear regression(will not necessarily work exactly the same for other models)!\n",
    "    \n",
    "</div>"
   ]
  },
  {
   "cell_type": "markdown",
   "metadata": {},
   "source": [
    "🧪 **Task: Test Linear Regression with Data Obfuscation**\n",
    "🎯 Objective\n",
    "Validate computationally that linear regression predictions remain unchanged when using an obfuscated feature matrix.\n",
    "\n",
    "🔢 Method\n",
    "* Created a random invertible matrix 𝑃\n",
    "\n",
    "* Transformed the feature matrix: 𝑋′=𝑋⋅𝑃\n",
    "\n",
    "* Trained linear regression on both original and obfuscated data\n",
    "\n",
    "* Compared RMSE and R² metrics"
   ]
  },
  {
   "cell_type": "markdown",
   "metadata": {},
   "source": [
    "# Conclusions"
   ]
  },
  {
   "cell_type": "markdown",
   "metadata": {},
   "source": [
    "✅ **Conclusion**\n",
    "The metrics are identical, confirming that linear regression is invariant to invertible linear transformations of the feature space. This validates the analytical proof from Task 5 and demonstrates that obfuscation preserves predictive power."
   ]
  },
  {
   "cell_type": "markdown",
   "metadata": {},
   "source": [
    "<div class=\"alert alert-block alert-success\">\n",
    "<b>Reviewer's comment v1:</b> </a>\n",
    "\n",
    "Conclusions are sound!\n",
    "    \n",
    "</div>"
   ]
  },
  {
   "cell_type": "markdown",
   "metadata": {},
   "source": [
    "# Checklist"
   ]
  },
  {
   "cell_type": "markdown",
   "metadata": {},
   "source": [
    "Type 'x' to check. Then press Shift+Enter.\n",
    "- [x]  Jupyter Notebook is open \n",
    "\n",
    "- [x]  Code is error free \n",
    "\n",
    "- [x]  The cells are arranged in order of logic and execution \n",
    "\n",
    "- [x]  Task 1 has been performed \n",
    "\n",
    "    - [x]  There is the procedure that can return k similar customers for a given one \n",
    "\n",
    "    - [x]  The procedure is tested for all four proposed combinations \n",
    "\n",
    "    - [x]  The questions re the scaling/distances are answered \n",
    "\n",
    "- [x]  Task 2 has been performed \n",
    "\n",
    "    - [x]  The random classification model is built and tested for all for probability levels \n",
    "\n",
    "    - [x]  The kNN classification model is built and tested for both the original data and the scaled one, the F1 metric is calculated. \n",
    "\n",
    "- [x]  Task 3 has been performed \n",
    "\n",
    "    - [x]  The linear tegression solution is implemented with matrix operations. \n",
    "\n",
    "    - [x]  RMSE is calculated for the implemented solution. \n",
    "\n",
    "- [x]  Task 4 has been performed \n",
    "\n",
    "    - [x]  The data is obfuscated with a random and invertible matrix P \n",
    "\n",
    "    - [x]  The obfuscated data is recoved, few examples are printed out \n",
    "\n",
    "    - [x]  The analytical proof that the transformation does not affect RMSE is provided  \n",
    "\n",
    "    - [x]  The computational proof that the transformation does not affect RMSE is provided \n",
    "\n",
    "- [ ]  Conclusions have been made "
   ]
  },
  {
   "cell_type": "markdown",
   "metadata": {},
   "source": [
    "# Appendices \n",
    "\n",
    "## Appendix A: Writing Formulas in Jupyter Notebooks"
   ]
  },
  {
   "cell_type": "markdown",
   "metadata": {},
   "source": [
    "You can write formulas in your Jupyter Notebook in a markup language provided by a high-quality publishing system called $\\LaTeX$ (pronounced \"Lah-tech\"), and they will look like formulas in textbooks.\n",
    "\n",
    "To put a formula in a text, put the dollar sign (\\\\$) before and after the formula's text e.g. $\\frac{1}{2} \\times \\frac{3}{2} = \\frac{3}{4}$ or $y = x^2, x \\ge 1$.\n",
    "\n",
    "If a formula should be in its own paragraph, put the double dollar sign (\\\\$\\\\$) before and after the formula text e.g.\n",
    "\n",
    "$$\n",
    "\\bar{x} = \\frac{1}{n}\\sum_{i=1}^{n} x_i.\n",
    "$$\n",
    "\n",
    "The markup language of [LaTeX](https://en.wikipedia.org/wiki/LaTeX) is very popular among people who use formulas in their articles, books and texts. It can be complex but its basics are easy. Check this two page [cheatsheet](http://tug.ctan.org/info/undergradmath/undergradmath.pdf) for learning how to compose the most common formulas."
   ]
  },
  {
   "cell_type": "markdown",
   "metadata": {},
   "source": [
    "## Appendix B: Properties of Matrices"
   ]
  },
  {
   "cell_type": "markdown",
   "metadata": {},
   "source": [
    "Matrices have many properties in Linear Algebra. A few of them are listed here which can help with the analytical proof in this project."
   ]
  },
  {
   "cell_type": "markdown",
   "metadata": {},
   "source": [
    "<table>\n",
    "<tr>\n",
    "<td>Distributivity</td><td>$A(B+C)=AB+AC$</td>\n",
    "</tr>\n",
    "<tr>\n",
    "<td>Non-commutativity</td><td>$AB \\neq BA$</td>\n",
    "</tr>\n",
    "<tr>\n",
    "<td>Associative property of multiplication</td><td>$(AB)C = A(BC)$</td>\n",
    "</tr>\n",
    "<tr>\n",
    "<td>Multiplicative identity property</td><td>$IA = AI = A$</td>\n",
    "</tr>\n",
    "<tr>\n",
    "<td></td><td>$A^{-1}A = AA^{-1} = I$\n",
    "</td>\n",
    "</tr>    \n",
    "<tr>\n",
    "<td></td><td>$(AB)^{-1} = B^{-1}A^{-1}$</td>\n",
    "</tr>    \n",
    "<tr>\n",
    "<td>Reversivity of the transpose of a product of matrices,</td><td>$(AB)^T = B^TA^T$</td>\n",
    "</tr>    \n",
    "</table>"
   ]
  },
  {
   "cell_type": "code",
   "execution_count": null,
   "metadata": {},
   "outputs": [],
   "source": []
  }
 ],
 "metadata": {
  "kernelspec": {
   "display_name": "Python 3 (ipykernel)",
   "language": "python",
   "name": "python3"
  },
  "language_info": {
   "codemirror_mode": {
    "name": "ipython",
    "version": 3
   },
   "file_extension": ".py",
   "mimetype": "text/x-python",
   "name": "python",
   "nbconvert_exporter": "python",
   "pygments_lexer": "ipython3",
   "version": "3.9.23"
  },
  "toc": {
   "base_numbering": 1,
   "nav_menu": {},
   "number_sections": true,
   "sideBar": true,
   "skip_h1_title": true,
   "title_cell": "Table of Contents",
   "title_sidebar": "Contents",
   "toc_cell": false,
   "toc_position": {},
   "toc_section_display": true,
   "toc_window_display": false
  }
 },
 "nbformat": 4,
 "nbformat_minor": 4
}
